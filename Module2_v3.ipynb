{
 "cells": [
  {
   "cell_type": "markdown",
   "metadata": {
    "deletable": false,
    "editable": false,
    "nbgrader": {
     "cell_type": "markdown",
     "checksum": "9b94c0552360fd39a72a27fbf2d6a549",
     "grade": false,
     "grade_id": "cell-4987257505ec9884",
     "locked": true,
     "schema_version": 3,
     "solution": false,
     "task": false
    }
   },
   "source": [
    "### WARNING\n",
    "Please refrain from using **print statements/anything that dumps large outputs(>500 lines) to STDOUT** to avoid running to into **memory issues**. \n",
    "Doing so requires your entire lab to be reset which may also result in loss of progress and you will be required to reach out to Coursera for assistance with this.\n",
    "This process usually takes time causing delays to your submission."
   ]
  },
  {
   "cell_type": "markdown",
   "metadata": {
    "deletable": false,
    "editable": false,
    "nbgrader": {
     "cell_type": "markdown",
     "checksum": "7b8938a1b09f02ca333311638e75dc1b",
     "grade": false,
     "grade_id": "cell-77449491740be285",
     "locked": true,
     "schema_version": 3,
     "solution": false,
     "task": false
    }
   },
   "source": [
    "### Validate Button\n",
    "Please note that this assignment uses nbgrader to facilitate grading. You will see a **validate button** at the top of your Jupyter notebook. If you hit this button, it will run tests cases for the lab that aren't hidden. It is good to use the validate button before submitting the lab. Do know that the labs in the course contain hidden test cases. The validate button will not let you know whether these test cases pass. After submitting your lab, you can see more information about these hidden test cases in the Grader Output. <br>\n",
    "***Cells with longer execution times will cause the validate button to time out and freeze. Please know that if you run into Validate time-outs, it will not affect the final submission grading.*** <br>"
   ]
  },
  {
   "cell_type": "code",
   "execution_count": 4,
   "metadata": {
    "deletable": false,
    "editable": false,
    "nbgrader": {
     "cell_type": "code",
     "checksum": "5fcf04359e4f58318a4f49068f7ed7cc",
     "grade": false,
     "grade_id": "cell-e4b3b8e5dba94833",
     "locked": true,
     "schema_version": 3,
     "solution": false,
     "task": false
    }
   },
   "outputs": [],
   "source": [
    "%matplotlib inline\n",
    "import numpy as np\n",
    "import scipy as sp\n",
    "import scipy.stats as stats\n",
    "import pandas as pd\n",
    "import matplotlib.pyplot as plt\n",
    "import seaborn as sns\n",
    "# Set color map to have light blue background\n",
    "sns.set()\n",
    "import statsmodels.formula.api as smf\n",
    "import statsmodels.api as sm"
   ]
  },
  {
   "cell_type": "markdown",
   "metadata": {
    "deletable": false,
    "editable": false,
    "nbgrader": {
     "cell_type": "markdown",
     "checksum": "5321ddafe1d106af0ce1198bbe0bf5b1",
     "grade": false,
     "grade_id": "cell-9053db523658abe7",
     "locked": true,
     "schema_version": 3,
     "solution": false,
     "task": false
    }
   },
   "source": [
    "N.B.: I recommend that you use the `statsmodel` library to do the regression analysis as opposed to *e.g.* `sklearn`. The `sklearn` library is great for advanced topics, but it's easier to get lost in a sea of details and it's not needed for these problems."
   ]
  },
  {
   "cell_type": "markdown",
   "metadata": {
    "deletable": false,
    "editable": false,
    "nbgrader": {
     "cell_type": "markdown",
     "checksum": "941726f345e5985f9de17219118382c0",
     "grade": false,
     "grade_id": "cell-b1e4ef7d92635e96",
     "locked": true,
     "schema_version": 3,
     "solution": false,
     "task": false
    }
   },
   "source": [
    "# 1.  Polynomial regression using MPG data [25 pts, Peer Review]\n",
    "We will be using Auto MPG data from UCI datasets (https://archive.ics.uci.edu/ml/datasets/Auto+MPG) to study polynomial regression."
   ]
  },
  {
   "cell_type": "code",
   "execution_count": 5,
   "metadata": {
    "deletable": false,
    "editable": false,
    "nbgrader": {
     "cell_type": "code",
     "checksum": "99b68acb494ea289b6845d14c5621157",
     "grade": false,
     "grade_id": "cell-6ab9f7cc3182ff00",
     "locked": true,
     "schema_version": 3,
     "solution": false,
     "task": false
    },
    "scrolled": true
   },
   "outputs": [
    {
     "name": "stdout",
     "output_type": "stream",
     "text": [
      "<class 'pandas.core.frame.DataFrame'>\n",
      "RangeIndex: 398 entries, 0 to 397\n",
      "Data columns (total 9 columns):\n",
      " #   Column        Non-Null Count  Dtype  \n",
      "---  ------        --------------  -----  \n",
      " 0   mpg           398 non-null    float64\n",
      " 1   cylinders     398 non-null    int64  \n",
      " 2   displacement  398 non-null    float64\n",
      " 3   horsepower    398 non-null    object \n",
      " 4   weight        398 non-null    float64\n",
      " 5   acceleration  398 non-null    float64\n",
      " 6   model_year    398 non-null    int64  \n",
      " 7   origin        398 non-null    int64  \n",
      " 8   car_name      398 non-null    object \n",
      "dtypes: float64(4), int64(3), object(2)\n",
      "memory usage: 28.1+ KB\n",
      "None\n"
     ]
    },
    {
     "data": {
      "text/html": [
       "<div>\n",
       "<style scoped>\n",
       "    .dataframe tbody tr th:only-of-type {\n",
       "        vertical-align: middle;\n",
       "    }\n",
       "\n",
       "    .dataframe tbody tr th {\n",
       "        vertical-align: top;\n",
       "    }\n",
       "\n",
       "    .dataframe thead th {\n",
       "        text-align: right;\n",
       "    }\n",
       "</style>\n",
       "<table border=\"1\" class=\"dataframe\">\n",
       "  <thead>\n",
       "    <tr style=\"text-align: right;\">\n",
       "      <th></th>\n",
       "      <th>mpg</th>\n",
       "      <th>cylinders</th>\n",
       "      <th>displacement</th>\n",
       "      <th>weight</th>\n",
       "      <th>acceleration</th>\n",
       "      <th>model_year</th>\n",
       "      <th>origin</th>\n",
       "    </tr>\n",
       "  </thead>\n",
       "  <tbody>\n",
       "    <tr>\n",
       "      <th>count</th>\n",
       "      <td>398.000000</td>\n",
       "      <td>398.000000</td>\n",
       "      <td>398.000000</td>\n",
       "      <td>398.000000</td>\n",
       "      <td>398.000000</td>\n",
       "      <td>398.000000</td>\n",
       "      <td>398.000000</td>\n",
       "    </tr>\n",
       "    <tr>\n",
       "      <th>mean</th>\n",
       "      <td>23.514573</td>\n",
       "      <td>5.454774</td>\n",
       "      <td>193.425879</td>\n",
       "      <td>2970.424623</td>\n",
       "      <td>15.568090</td>\n",
       "      <td>76.010050</td>\n",
       "      <td>1.572864</td>\n",
       "    </tr>\n",
       "    <tr>\n",
       "      <th>std</th>\n",
       "      <td>7.815984</td>\n",
       "      <td>1.701004</td>\n",
       "      <td>104.269838</td>\n",
       "      <td>846.841774</td>\n",
       "      <td>2.757689</td>\n",
       "      <td>3.697627</td>\n",
       "      <td>0.802055</td>\n",
       "    </tr>\n",
       "    <tr>\n",
       "      <th>min</th>\n",
       "      <td>9.000000</td>\n",
       "      <td>3.000000</td>\n",
       "      <td>68.000000</td>\n",
       "      <td>1613.000000</td>\n",
       "      <td>8.000000</td>\n",
       "      <td>70.000000</td>\n",
       "      <td>1.000000</td>\n",
       "    </tr>\n",
       "    <tr>\n",
       "      <th>25%</th>\n",
       "      <td>17.500000</td>\n",
       "      <td>4.000000</td>\n",
       "      <td>104.250000</td>\n",
       "      <td>2223.750000</td>\n",
       "      <td>13.825000</td>\n",
       "      <td>73.000000</td>\n",
       "      <td>1.000000</td>\n",
       "    </tr>\n",
       "    <tr>\n",
       "      <th>50%</th>\n",
       "      <td>23.000000</td>\n",
       "      <td>4.000000</td>\n",
       "      <td>148.500000</td>\n",
       "      <td>2803.500000</td>\n",
       "      <td>15.500000</td>\n",
       "      <td>76.000000</td>\n",
       "      <td>1.000000</td>\n",
       "    </tr>\n",
       "    <tr>\n",
       "      <th>75%</th>\n",
       "      <td>29.000000</td>\n",
       "      <td>8.000000</td>\n",
       "      <td>262.000000</td>\n",
       "      <td>3608.000000</td>\n",
       "      <td>17.175000</td>\n",
       "      <td>79.000000</td>\n",
       "      <td>2.000000</td>\n",
       "    </tr>\n",
       "    <tr>\n",
       "      <th>max</th>\n",
       "      <td>46.600000</td>\n",
       "      <td>8.000000</td>\n",
       "      <td>455.000000</td>\n",
       "      <td>5140.000000</td>\n",
       "      <td>24.800000</td>\n",
       "      <td>82.000000</td>\n",
       "      <td>3.000000</td>\n",
       "    </tr>\n",
       "  </tbody>\n",
       "</table>\n",
       "</div>"
      ],
      "text/plain": [
       "              mpg   cylinders  displacement       weight  acceleration  \\\n",
       "count  398.000000  398.000000    398.000000   398.000000    398.000000   \n",
       "mean    23.514573    5.454774    193.425879  2970.424623     15.568090   \n",
       "std      7.815984    1.701004    104.269838   846.841774      2.757689   \n",
       "min      9.000000    3.000000     68.000000  1613.000000      8.000000   \n",
       "25%     17.500000    4.000000    104.250000  2223.750000     13.825000   \n",
       "50%     23.000000    4.000000    148.500000  2803.500000     15.500000   \n",
       "75%     29.000000    8.000000    262.000000  3608.000000     17.175000   \n",
       "max     46.600000    8.000000    455.000000  5140.000000     24.800000   \n",
       "\n",
       "       model_year      origin  \n",
       "count  398.000000  398.000000  \n",
       "mean    76.010050    1.572864  \n",
       "std      3.697627    0.802055  \n",
       "min     70.000000    1.000000  \n",
       "25%     73.000000    1.000000  \n",
       "50%     76.000000    1.000000  \n",
       "75%     79.000000    2.000000  \n",
       "max     82.000000    3.000000  "
      ]
     },
     "execution_count": 5,
     "metadata": {},
     "output_type": "execute_result"
    }
   ],
   "source": [
    "columns = ['mpg','cylinders','displacement','horsepower','weight','acceleration','model_year','origin','car_name']\n",
    "df = pd.read_csv(\"data/auto-mpg.data\", header=None, delimiter=r\"\\s+\", names=columns) \n",
    "print(df.info())\n",
    "df.describe()"
   ]
  },
  {
   "cell_type": "markdown",
   "metadata": {
    "deletable": false,
    "editable": false,
    "nbgrader": {
     "cell_type": "markdown",
     "checksum": "d66e4cc0322f58a9600526aad669d932",
     "grade": false,
     "grade_id": "cell-0970d31c4644246a",
     "locked": true,
     "schema_version": 3,
     "solution": false,
     "task": false
    }
   },
   "source": [
    "### 1a) Clean the data [5 pts] \n",
    "\n",
    "1. Fix data types\n",
    "2. Remove null or undefined values \n",
    "3. Drop the column car_name\n",
    "\n",
    "Replace the data frame with the cleaned data frame. Do not change the column names, and do not add new columns.\n",
    "\n",
    "Hint: 1. Dtype of one column is incorrect.  "
   ]
  },
  {
   "cell_type": "code",
   "execution_count": 6,
   "metadata": {
    "deletable": false,
    "nbgrader": {
     "cell_type": "code",
     "checksum": "3d3715f95049cdf5a98cf782436c42d0",
     "grade": false,
     "grade_id": "cell-62afc4802962eabb",
     "locked": false,
     "schema_version": 3,
     "solution": true,
     "task": false
    }
   },
   "outputs": [],
   "source": [
    "# replace data frame with cleaned data frame\n",
    "# fix data types, remove null or undefined values, drop the column car_name\n",
    "# NOTE: do not change the column names or add new columns \n",
    "# your code here\n",
    "df['horsepower'] = pd.to_numeric(df['horsepower'], errors='coerce')\n",
    "df = df.dropna()\n",
    "df = df.drop(columns=['car_name'])\n"
   ]
  },
  {
   "cell_type": "code",
   "execution_count": 7,
   "metadata": {
    "deletable": false,
    "editable": false,
    "nbgrader": {
     "cell_type": "code",
     "checksum": "b73dab50aa3325ac620f85bd856bc662",
     "grade": true,
     "grade_id": "cell-3bb1f13b2e888fa2",
     "locked": true,
     "points": 5,
     "schema_version": 3,
     "solution": false,
     "task": false
    }
   },
   "outputs": [],
   "source": [
    "# this cell will test that you properly cleaned the dataframe "
   ]
  },
  {
   "cell_type": "markdown",
   "metadata": {
    "deletable": false,
    "editable": false,
    "nbgrader": {
     "cell_type": "markdown",
     "checksum": "3c568a653610a889a8f07e47b03f9c17",
     "grade": false,
     "grade_id": "cell-cae84acc6222fae0",
     "locked": true,
     "schema_version": 3,
     "solution": false,
     "task": false
    }
   },
   "source": [
    "### 1b) Fit a simple linear regression model with a feature that maximizes $R^2$. [5 pts]\n",
    "Which feature is the best predictor, and the resulting r-squared value? Update your answer below."
   ]
  },
  {
   "cell_type": "code",
   "execution_count": 8,
   "metadata": {
    "deletable": false,
    "nbgrader": {
     "cell_type": "code",
     "checksum": "85cafbf2b087159b9395f8c00b78d365",
     "grade": false,
     "grade_id": "cell-95afec916a05fed8",
     "locked": false,
     "schema_version": 3,
     "solution": true,
     "task": false
    }
   },
   "outputs": [
    {
     "data": {
      "text/plain": [
       "(0.6926304331206254, 'weight')"
      ]
     },
     "execution_count": 8,
     "metadata": {},
     "output_type": "execute_result"
    }
   ],
   "source": [
    "# your code here\n",
    "\n",
    "best_predictor=''\n",
    "best_r_squared=0\n",
    "for feature in df.columns.drop('mpg'):\n",
    "    # Fit a simple linear regression model\n",
    "    model = smf.ols(formula=f'mpg ~ {feature}', data=df).fit()\n",
    "    \n",
    "    # Get the R-squared value for the model\n",
    "    r_squared = model.rsquared\n",
    "    , \n",
    "    # Update the best predictor and R-squared value if the current feature has a higher R-squared value\n",
    "    if r_squared > best_r_squared:\n",
    "        best_r_squared = r_squared\n",
    "        best_predictor = feature\n",
    "best_r_squared,best_predictor"
   ]
  },
  {
   "cell_type": "code",
   "execution_count": 9,
   "metadata": {
    "deletable": false,
    "editable": false,
    "nbgrader": {
     "cell_type": "code",
     "checksum": "17ae5a597735e5ef5199487fa27c7e43",
     "grade": true,
     "grade_id": "cell-a0a1c4e81af87837",
     "locked": true,
     "points": 5,
     "schema_version": 3,
     "solution": false,
     "task": false
    }
   },
   "outputs": [],
   "source": [
    "# this cell will test best_predictor and best_r_squared"
   ]
  },
  {
   "cell_type": "markdown",
   "metadata": {
    "deletable": false,
    "editable": false,
    "nbgrader": {
     "cell_type": "markdown",
     "checksum": "03507eba7d8f7b250feb4379aacc2822",
     "grade": false,
     "grade_id": "cell-9decb69047193e5b",
     "locked": true,
     "schema_version": 3,
     "solution": false,
     "task": false
    }
   },
   "source": [
    "### 1c) Using the feature found above (without normalizing), fit polynomial regression up to N=10 and report $R^2$. Which polynomial degree gives the best result? [10 pts]\n",
    "Hint: For N-degree polynomial fit, **you have to include all orders upto N**. Use a for loop instead of running it manually. The `statsmodels.formula.api` formula string can understand **`np.power(x,n)`** function to include a feature representing $x^n$.\n",
    "\n",
    "For example, the formula for n = 4 ---> mpg ~ weight + np.power(weight,2) + np.power(weight,3) + np.power(weight,4)"
   ]
  },
  {
   "cell_type": "code",
   "execution_count": 10,
   "metadata": {
    "deletable": false,
    "nbgrader": {
     "cell_type": "code",
     "checksum": "5eff5fe01be3ea4606103764c9baf7b0",
     "grade": false,
     "grade_id": "cell-006f7fbcfed58b23",
     "locked": false,
     "schema_version": 3,
     "solution": true,
     "task": false
    }
   },
   "outputs": [
    {
     "data": {
      "text/plain": [
       "(3, 0.715149595486925)"
      ]
     },
     "execution_count": 10,
     "metadata": {},
     "output_type": "execute_result"
    }
   ],
   "source": [
    "# return updated best_degree and best_r_squared \n",
    "best_degree = 1\n",
    "best_r_squared = 0\n",
    "# your code here\n",
    "\n",
    "for degree in range(1, 11):\n",
    "    # Generate the formula string for the current degree\n",
    "    formula = 'mpg ~ '\n",
    "    for d in range(1, degree + 1):\n",
    "        if d == 1:\n",
    "            formula += 'weight'\n",
    "        else:\n",
    "            formula += f' + np.power(weight, {d})'\n",
    "    \n",
    "    # Fit polynomial regression model\n",
    "    model = smf.ols(formula=formula, data=df).fit()\n",
    "    \n",
    "    # Get R-squared value\n",
    "    r_squared = model.rsquared\n",
    "    \n",
    "    # Update best_degree and best_r_squared if current degree gives better result\n",
    "    if r_squared > best_r_squared:\n",
    "        best_degree = degree\n",
    "        best_r_squared = r_squared\n",
    "\n",
    "# Return the best degree and corresponding R-squared value\n",
    "best_degree, best_r_squared"
   ]
  },
  {
   "cell_type": "code",
   "execution_count": 11,
   "metadata": {
    "deletable": false,
    "editable": false,
    "nbgrader": {
     "cell_type": "code",
     "checksum": "d77794138a992b7fac1bd43440657795",
     "grade": true,
     "grade_id": "cell-f1eadefb34bd33c2",
     "locked": true,
     "points": 10,
     "schema_version": 3,
     "solution": false,
     "task": false
    }
   },
   "outputs": [],
   "source": [
    "# this cell tests best_degree and best_r_squared "
   ]
  },
  {
   "cell_type": "markdown",
   "metadata": {
    "deletable": false,
    "editable": false,
    "nbgrader": {
     "cell_type": "markdown",
     "checksum": "77322bb635e2ba9cc3f27a382fede78f",
     "grade": false,
     "grade_id": "cell-b7b1be7a931d2728",
     "locked": true,
     "schema_version": 3,
     "solution": false,
     "task": false
    }
   },
   "source": [
    "### 1d) Now, let's make a new feature called 'weight_norm' which is weight normalized by the mean value. [5 pts]\n",
    "Run training with polynomial models with polynomial degrees up to 20. Print out each polynomial degree and $R^2$ value. What do you observe from the result? What are the best_degree and best_r_qaured just based on $R^2$ value?\n",
    "Inspect model summary from each model. What is the highest order model that makes sense (fill the value for the sound_degree)? \n",
    "\n",
    "Note: For N-degree polynomial fit, you have to include all orders upto N."
   ]
  },
  {
   "cell_type": "code",
   "execution_count": 12,
   "metadata": {
    "deletable": false,
    "nbgrader": {
     "cell_type": "code",
     "checksum": "9f8eb6a5bea83f6fd4f455ab5423fa8f",
     "grade": false,
     "grade_id": "cell-6b06ce4c2b694439",
     "locked": false,
     "schema_version": 3,
     "solution": true,
     "task": false
    }
   },
   "outputs": [
    {
     "name": "stdout",
     "output_type": "stream",
     "text": [
      "Intercept      1.623069e-193\n",
      "weight_norm    6.015296e-102\n",
      "dtype: float64\n",
      "Polynomial Degree 1: R-squared = 0.6926304331206254\n",
      "Intercept                   3.848779e-65\n",
      "weight_norm                 5.609944e-19\n",
      "np.power(weight_norm, 2)    5.429177e-08\n",
      "dtype: float64\n",
      "Polynomial Degree 2: R-squared = 0.7151475557845139\n",
      "Intercept                   4.360869e-08\n",
      "weight_norm                 1.012560e-01\n",
      "np.power(weight_norm, 2)    6.607644e-01\n",
      "np.power(weight_norm, 3)    9.579903e-01\n",
      "dtype: float64\n",
      "Polynomial Degree 3: R-squared = 0.7151495954869258\n",
      "Intercept                   0.340744\n",
      "weight_norm                 0.761572\n",
      "np.power(weight_norm, 2)    0.547421\n",
      "np.power(weight_norm, 3)    0.501328\n",
      "np.power(weight_norm, 4)    0.502625\n",
      "dtype: float64\n",
      "Polynomial Degree 4: R-squared = 0.7154806032756431\n",
      "Intercept                   0.547570\n",
      "weight_norm                 0.337571\n",
      "np.power(weight_norm, 2)    0.316345\n",
      "np.power(weight_norm, 3)    0.325971\n",
      "np.power(weight_norm, 4)    0.342796\n",
      "np.power(weight_norm, 5)    0.360723\n",
      "dtype: float64\n",
      "Polynomial Degree 5: R-squared = 0.7160964869848916\n",
      "Intercept                   0.348658\n",
      "weight_norm                 0.315252\n",
      "np.power(weight_norm, 2)    0.330740\n",
      "np.power(weight_norm, 3)    0.354269\n",
      "np.power(weight_norm, 4)    0.378926\n",
      "np.power(weight_norm, 5)    0.403010\n",
      "np.power(weight_norm, 6)    0.426080\n",
      "dtype: float64\n",
      "Polynomial Degree 6: R-squared = 0.7165638483082104\n",
      "Intercept                   0.132108\n",
      "weight_norm                 0.134118\n",
      "np.power(weight_norm, 2)    0.143891\n",
      "np.power(weight_norm, 3)    0.154814\n",
      "np.power(weight_norm, 4)    0.165809\n",
      "np.power(weight_norm, 5)    0.176640\n",
      "np.power(weight_norm, 6)    0.187251\n",
      "np.power(weight_norm, 7)    0.197623\n",
      "dtype: float64\n",
      "Polynomial Degree 7: R-squared = 0.7177879568842087\n",
      "Intercept                   0.567483\n",
      "weight_norm                 0.608379\n",
      "np.power(weight_norm, 2)    0.655031\n",
      "np.power(weight_norm, 3)    0.701220\n",
      "np.power(weight_norm, 4)    0.745750\n",
      "np.power(weight_norm, 5)    0.788192\n",
      "np.power(weight_norm, 6)    0.828331\n",
      "np.power(weight_norm, 7)    0.866054\n",
      "np.power(weight_norm, 8)    0.901329\n",
      "dtype: float64\n",
      "Polynomial Degree 8: R-squared = 0.7177992979709948\n",
      "Intercept                   0.583604\n",
      "weight_norm                 0.555698\n",
      "np.power(weight_norm, 2)    0.530761\n",
      "np.power(weight_norm, 3)    0.510135\n",
      "np.power(weight_norm, 4)    0.493561\n",
      "np.power(weight_norm, 5)    0.480608\n",
      "np.power(weight_norm, 6)    0.470848\n",
      "np.power(weight_norm, 7)    0.463885\n",
      "np.power(weight_norm, 8)    0.459358\n",
      "np.power(weight_norm, 9)    0.456947\n",
      "dtype: float64\n",
      "Polynomial Degree 9: R-squared = 0.7182083307102388\n",
      "Intercept                    0.109120\n",
      "weight_norm                  0.107735\n",
      "np.power(weight_norm, 2)     0.107330\n",
      "np.power(weight_norm, 3)     0.107923\n",
      "np.power(weight_norm, 4)     0.109403\n",
      "np.power(weight_norm, 5)     0.111656\n",
      "np.power(weight_norm, 6)     0.114576\n",
      "np.power(weight_norm, 7)     0.118067\n",
      "np.power(weight_norm, 8)     0.122041\n",
      "np.power(weight_norm, 9)     0.126415\n",
      "np.power(weight_norm, 10)    0.131112\n",
      "dtype: float64\n",
      "Polynomial Degree 10: R-squared = 0.7198912805389772\n",
      "Intercept                    0.118633\n",
      "weight_norm                  0.126022\n",
      "np.power(weight_norm, 2)     0.134376\n",
      "np.power(weight_norm, 3)     0.143668\n",
      "np.power(weight_norm, 4)     0.153814\n",
      "np.power(weight_norm, 5)     0.164712\n",
      "np.power(weight_norm, 6)     0.176250\n",
      "np.power(weight_norm, 7)     0.188313\n",
      "np.power(weight_norm, 8)     0.200786\n",
      "np.power(weight_norm, 9)     0.213558\n",
      "np.power(weight_norm, 10)    0.226527\n",
      "np.power(weight_norm, 11)    0.239600\n",
      "dtype: float64\n",
      "Polynomial Degree 11: R-squared = 0.7209101742520523\n",
      "Intercept                    0.796739\n",
      "weight_norm                  0.830148\n",
      "np.power(weight_norm, 2)     0.863330\n",
      "np.power(weight_norm, 3)     0.895889\n",
      "np.power(weight_norm, 4)     0.927452\n",
      "np.power(weight_norm, 5)     0.957718\n",
      "np.power(weight_norm, 6)     0.986459\n",
      "np.power(weight_norm, 7)     0.986477\n",
      "np.power(weight_norm, 8)     0.961179\n",
      "np.power(weight_norm, 9)     0.937679\n",
      "np.power(weight_norm, 10)    0.915965\n",
      "np.power(weight_norm, 11)    0.895989\n",
      "np.power(weight_norm, 12)    0.877683\n",
      "dtype: float64\n",
      "Polynomial Degree 12: R-squared = 0.7209276395637563\n",
      "Intercept                    0.140726\n",
      "weight_norm                  0.134613\n",
      "np.power(weight_norm, 2)     0.129315\n",
      "np.power(weight_norm, 3)     0.124797\n",
      "np.power(weight_norm, 4)     0.121018\n",
      "np.power(weight_norm, 5)     0.117927\n",
      "np.power(weight_norm, 6)     0.115471\n",
      "np.power(weight_norm, 7)     0.113595\n",
      "np.power(weight_norm, 8)     0.112245\n",
      "np.power(weight_norm, 9)     0.111370\n",
      "np.power(weight_norm, 10)    0.110919\n",
      "np.power(weight_norm, 11)    0.110849\n",
      "np.power(weight_norm, 12)    0.111116\n",
      "np.power(weight_norm, 13)    0.111682\n",
      "dtype: float64\n",
      "Polynomial Degree 13: R-squared = 0.7227918788934491\n",
      "Intercept                    0.098515\n",
      "weight_norm                  0.101820\n",
      "np.power(weight_norm, 2)     0.105749\n",
      "np.power(weight_norm, 3)     0.110313\n",
      "np.power(weight_norm, 4)     0.115519\n",
      "np.power(weight_norm, 5)     0.121365\n",
      "np.power(weight_norm, 6)     0.127841\n",
      "np.power(weight_norm, 7)     0.134930\n",
      "np.power(weight_norm, 8)     0.142608\n",
      "np.power(weight_norm, 9)     0.150844\n",
      "np.power(weight_norm, 10)    0.159601\n",
      "np.power(weight_norm, 11)    0.168837\n",
      "np.power(weight_norm, 12)    0.178507\n",
      "np.power(weight_norm, 13)    0.188561\n",
      "np.power(weight_norm, 14)    0.198947\n",
      "dtype: float64\n",
      "Polynomial Degree 14: R-squared = 0.7240041787167142\n",
      "Intercept                    0.091130\n",
      "weight_norm                  0.092386\n",
      "np.power(weight_norm, 2)     0.094248\n",
      "np.power(weight_norm, 3)     0.096773\n",
      "np.power(weight_norm, 4)     0.100080\n",
      "np.power(weight_norm, 5)     0.104488\n",
      "np.power(weight_norm, 6)     0.111344\n",
      "np.power(weight_norm, 7)     0.143571\n",
      "np.power(weight_norm, 8)     0.102085\n",
      "np.power(weight_norm, 9)     0.113786\n",
      "np.power(weight_norm, 10)    0.121309\n",
      "np.power(weight_norm, 11)    0.128330\n",
      "np.power(weight_norm, 12)    0.135421\n",
      "np.power(weight_norm, 13)    0.142732\n",
      "np.power(weight_norm, 14)    0.150308\n",
      "np.power(weight_norm, 15)    0.158150\n",
      "dtype: float64\n",
      "Polynomial Degree 15: R-squared = 0.7238303796561847\n",
      "Intercept                    0.213261\n",
      "weight_norm                  0.224824\n",
      "np.power(weight_norm, 2)     0.237433\n",
      "np.power(weight_norm, 3)     0.251158\n",
      "np.power(weight_norm, 4)     0.266193\n",
      "np.power(weight_norm, 5)     0.283094\n",
      "np.power(weight_norm, 6)     0.303873\n",
      "np.power(weight_norm, 7)     0.341699\n",
      "np.power(weight_norm, 8)     0.199723\n",
      "np.power(weight_norm, 9)     0.308093\n",
      "np.power(weight_norm, 10)    0.334421\n",
      "np.power(weight_norm, 11)    0.354151\n",
      "np.power(weight_norm, 12)    0.371852\n",
      "np.power(weight_norm, 13)    0.388553\n",
      "np.power(weight_norm, 14)    0.404583\n",
      "np.power(weight_norm, 15)    0.420061\n",
      "np.power(weight_norm, 16)    0.435027\n",
      "dtype: float64\n",
      "Polynomial Degree 16: R-squared = 0.7242829281892726\n",
      "Intercept                    0.134034\n",
      "weight_norm                  0.140807\n",
      "np.power(weight_norm, 2)     0.148526\n",
      "np.power(weight_norm, 3)     0.157385\n",
      "np.power(weight_norm, 4)     0.167840\n",
      "np.power(weight_norm, 5)     0.181343\n",
      "np.power(weight_norm, 6)     0.206693\n",
      "np.power(weight_norm, 7)     0.111804\n",
      "np.power(weight_norm, 8)     0.190680\n",
      "np.power(weight_norm, 9)     0.227813\n",
      "np.power(weight_norm, 10)    0.146750\n",
      "np.power(weight_norm, 11)    0.205328\n",
      "np.power(weight_norm, 12)    0.224270\n",
      "np.power(weight_norm, 13)    0.238935\n",
      "np.power(weight_norm, 14)    0.252219\n",
      "np.power(weight_norm, 15)    0.264841\n",
      "np.power(weight_norm, 16)    0.277050\n",
      "np.power(weight_norm, 17)    0.288942\n",
      "dtype: float64\n",
      "Polynomial Degree 17: R-squared = 0.7243902195110014\n",
      "Intercept                    0.094641\n",
      "weight_norm                  0.098385\n",
      "np.power(weight_norm, 2)     0.102909\n",
      "np.power(weight_norm, 3)     0.108447\n",
      "np.power(weight_norm, 4)     0.115618\n",
      "np.power(weight_norm, 5)     0.127049\n",
      "np.power(weight_norm, 6)     0.219291\n",
      "np.power(weight_norm, 7)     0.118444\n",
      "np.power(weight_norm, 8)     0.146006\n",
      "np.power(weight_norm, 9)     0.094389\n",
      "np.power(weight_norm, 10)    0.138781\n",
      "np.power(weight_norm, 11)    0.200284\n",
      "np.power(weight_norm, 12)    0.129784\n",
      "np.power(weight_norm, 13)    0.149764\n",
      "np.power(weight_norm, 14)    0.161588\n",
      "np.power(weight_norm, 15)    0.171691\n",
      "np.power(weight_norm, 16)    0.181143\n",
      "np.power(weight_norm, 17)    0.190272\n",
      "np.power(weight_norm, 18)    0.199202\n",
      "dtype: float64\n",
      "Polynomial Degree 18: R-squared = 0.7244188646420426\n",
      "Intercept                    0.516855\n",
      "weight_norm                  0.541794\n",
      "np.power(weight_norm, 2)     0.568265\n",
      "np.power(weight_norm, 3)     0.596702\n",
      "np.power(weight_norm, 4)     0.628376\n",
      "np.power(weight_norm, 5)     0.667880\n",
      "np.power(weight_norm, 6)     0.749705\n",
      "np.power(weight_norm, 7)     0.575384\n",
      "np.power(weight_norm, 8)     0.706995\n",
      "np.power(weight_norm, 9)     0.934340\n",
      "np.power(weight_norm, 10)    0.681145\n",
      "np.power(weight_norm, 11)    0.772178\n",
      "np.power(weight_norm, 12)    0.450598\n",
      "np.power(weight_norm, 13)    0.734308\n",
      "np.power(weight_norm, 14)    0.776624\n",
      "np.power(weight_norm, 15)    0.804607\n",
      "np.power(weight_norm, 16)    0.827601\n",
      "np.power(weight_norm, 17)    0.847849\n",
      "np.power(weight_norm, 18)    0.866204\n",
      "np.power(weight_norm, 19)    0.883082\n",
      "dtype: float64\n",
      "Polynomial Degree 19: R-squared = 0.7244317942203697\n"
     ]
    },
    {
     "name": "stdout",
     "output_type": "stream",
     "text": [
      "Intercept                    0.313290\n",
      "weight_norm                  0.330920\n",
      "np.power(weight_norm, 2)     0.350463\n",
      "np.power(weight_norm, 3)     0.372632\n",
      "np.power(weight_norm, 4)     0.399477\n",
      "np.power(weight_norm, 5)     0.440207\n",
      "np.power(weight_norm, 6)     0.862439\n",
      "np.power(weight_norm, 7)     0.416621\n",
      "np.power(weight_norm, 8)     0.519957\n",
      "np.power(weight_norm, 9)     0.384201\n",
      "np.power(weight_norm, 10)    0.497784\n",
      "np.power(weight_norm, 11)    0.257991\n",
      "np.power(weight_norm, 12)    0.485629\n",
      "np.power(weight_norm, 13)    0.638766\n",
      "np.power(weight_norm, 14)    0.461286\n",
      "np.power(weight_norm, 15)    0.517332\n",
      "np.power(weight_norm, 16)    0.546652\n",
      "np.power(weight_norm, 17)    0.569718\n",
      "np.power(weight_norm, 18)    0.589901\n",
      "np.power(weight_norm, 19)    0.608295\n",
      "np.power(weight_norm, 20)    0.625379\n",
      "dtype: float64\n",
      "Polynomial Degree 20: R-squared = 0.7245259039513001\n"
     ]
    },
    {
     "data": {
      "text/plain": [
       "(20, 0.7245259039513001, 2)"
      ]
     },
     "execution_count": 12,
     "metadata": {},
     "output_type": "execute_result"
    }
   ],
   "source": [
    "best_degree = 1\n",
    "best_r_squared = 0 \n",
    "sound_degree = 1\n",
    "\n",
    "df['weight_norm'] = df['weight']/df['weight'].mean()\n",
    "# your code here\n",
    "for degree in range(1, 21):\n",
    "    # Generate the formula string for the current degree\n",
    "    formula = 'mpg ~ '\n",
    "    for d in range(1, degree + 1):\n",
    "        if d == 1:\n",
    "            formula += 'weight_norm'\n",
    "        else:\n",
    "            formula += f' + np.power(weight_norm, {d})'\n",
    "    \n",
    "    # Fit polynomial regression model\n",
    "    model = smf.ols(formula=formula, data=df).fit()\n",
    "    print(model.pvalues)\n",
    "    # Get R-squared value\n",
    "    r_squared = model.rsquared\n",
    "    \n",
    "    # Print polynomial degree and R-squared value\n",
    "    print(f\"Polynomial Degree {degree}: R-squared = {r_squared}\")\n",
    "    \n",
    "    # Update best_degree and best_r_squared if current degree gives better result\n",
    "    if r_squared > best_r_squared:\n",
    "        best_degree = degree\n",
    "        best_r_squared = r_squared\n",
    "    \n",
    "sound_degree=2\n",
    "best_degree, best_r_squared, sound_degree"
   ]
  },
  {
   "cell_type": "code",
   "execution_count": 13,
   "metadata": {
    "deletable": false,
    "editable": false,
    "nbgrader": {
     "cell_type": "code",
     "checksum": "04aa0d5c7219e7b75c5c2c40f6977f25",
     "grade": true,
     "grade_id": "cell-9e5cf0218fc7223e",
     "locked": true,
     "points": 5,
     "schema_version": 3,
     "solution": false,
     "task": false
    }
   },
   "outputs": [],
   "source": [
    "# tests best_degree, best_r_squared, and sound_degree"
   ]
  },
  {
   "cell_type": "markdown",
   "metadata": {
    "deletable": false,
    "editable": false,
    "nbgrader": {
     "cell_type": "markdown",
     "checksum": "b3a40a495119e5f20a1f1a5d71cd9a5a",
     "grade": false,
     "grade_id": "cell-6a0c0f990a4d625c",
     "locked": true,
     "schema_version": 3,
     "solution": false,
     "task": false
    }
   },
   "source": [
    "### TODO: \n",
    "Open the Peer Review assignment for this week to answer a question for section 1d. "
   ]
  },
  {
   "cell_type": "markdown",
   "metadata": {
    "deletable": false,
    "editable": false,
    "nbgrader": {
     "cell_type": "markdown",
     "checksum": "bcdeca2ee3a270b46760bb39695fcfab",
     "grade": false,
     "grade_id": "cell-e8cf71ca601f0306",
     "locked": true,
     "schema_version": 3,
     "solution": false,
     "task": false
    }
   },
   "source": [
    "# 2. Multi-Linear Regression [15 pts, Peer Review]"
   ]
  },
  {
   "cell_type": "markdown",
   "metadata": {
    "deletable": false,
    "editable": false,
    "nbgrader": {
     "cell_type": "markdown",
     "checksum": "bb6ec556f086d3c6ce58fe22f538f691",
     "grade": false,
     "grade_id": "cell-e9eaa96657b9c0dd",
     "locked": true,
     "schema_version": 3,
     "solution": false,
     "task": false
    }
   },
   "source": [
    "In the following problem, you will construct a simple multi-linear regression model, identify interaction terms and use diagnostic plots to identify outliers in the data. The original problem is as described by John Verzani in the [excellent tutorial 'SimplR' on the R statistics language](https://cran.r-project.org/doc/contrib/Verzani-SimpleR.pdf) and uses data from the 2000 presidential election in Florida. The problem is interesting because it contains a small number of highly leveraged points that influence the model."
   ]
  },
  {
   "cell_type": "code",
   "execution_count": 14,
   "metadata": {
    "deletable": false,
    "editable": false,
    "nbgrader": {
     "cell_type": "code",
     "checksum": "650e938a68d060bacf43eadb71c05f76",
     "grade": false,
     "grade_id": "cell-3c062b1300f9a41e",
     "locked": true,
     "schema_version": 3,
     "solution": false,
     "task": false
    }
   },
   "outputs": [
    {
     "data": {
      "text/html": [
       "<div>\n",
       "<style scoped>\n",
       "    .dataframe tbody tr th:only-of-type {\n",
       "        vertical-align: middle;\n",
       "    }\n",
       "\n",
       "    .dataframe tbody tr th {\n",
       "        vertical-align: top;\n",
       "    }\n",
       "\n",
       "    .dataframe thead th {\n",
       "        text-align: right;\n",
       "    }\n",
       "</style>\n",
       "<table border=\"1\" class=\"dataframe\">\n",
       "  <thead>\n",
       "    <tr style=\"text-align: right;\">\n",
       "      <th></th>\n",
       "      <th>county</th>\n",
       "      <th>Bush</th>\n",
       "      <th>Gore</th>\n",
       "      <th>Nader</th>\n",
       "      <th>Buchanan</th>\n",
       "    </tr>\n",
       "  </thead>\n",
       "  <tbody>\n",
       "    <tr>\n",
       "      <th>count</th>\n",
       "      <td>67</td>\n",
       "      <td>67.000000</td>\n",
       "      <td>67.000000</td>\n",
       "      <td>67.000000</td>\n",
       "      <td>67.000000</td>\n",
       "    </tr>\n",
       "    <tr>\n",
       "      <th>unique</th>\n",
       "      <td>67</td>\n",
       "      <td>NaN</td>\n",
       "      <td>NaN</td>\n",
       "      <td>NaN</td>\n",
       "      <td>NaN</td>\n",
       "    </tr>\n",
       "    <tr>\n",
       "      <th>top</th>\n",
       "      <td>Hernando</td>\n",
       "      <td>NaN</td>\n",
       "      <td>NaN</td>\n",
       "      <td>NaN</td>\n",
       "      <td>NaN</td>\n",
       "    </tr>\n",
       "    <tr>\n",
       "      <th>freq</th>\n",
       "      <td>1</td>\n",
       "      <td>NaN</td>\n",
       "      <td>NaN</td>\n",
       "      <td>NaN</td>\n",
       "      <td>NaN</td>\n",
       "    </tr>\n",
       "    <tr>\n",
       "      <th>mean</th>\n",
       "      <td>NaN</td>\n",
       "      <td>43450.970149</td>\n",
       "      <td>43453.985075</td>\n",
       "      <td>1454.119403</td>\n",
       "      <td>260.880597</td>\n",
       "    </tr>\n",
       "    <tr>\n",
       "      <th>std</th>\n",
       "      <td>NaN</td>\n",
       "      <td>57182.620266</td>\n",
       "      <td>75070.435056</td>\n",
       "      <td>2033.620972</td>\n",
       "      <td>450.498092</td>\n",
       "    </tr>\n",
       "    <tr>\n",
       "      <th>min</th>\n",
       "      <td>NaN</td>\n",
       "      <td>1317.000000</td>\n",
       "      <td>789.000000</td>\n",
       "      <td>19.000000</td>\n",
       "      <td>9.000000</td>\n",
       "    </tr>\n",
       "    <tr>\n",
       "      <th>25%</th>\n",
       "      <td>NaN</td>\n",
       "      <td>4757.000000</td>\n",
       "      <td>3058.000000</td>\n",
       "      <td>95.500000</td>\n",
       "      <td>46.500000</td>\n",
       "    </tr>\n",
       "    <tr>\n",
       "      <th>50%</th>\n",
       "      <td>NaN</td>\n",
       "      <td>20206.000000</td>\n",
       "      <td>14167.000000</td>\n",
       "      <td>562.000000</td>\n",
       "      <td>120.000000</td>\n",
       "    </tr>\n",
       "    <tr>\n",
       "      <th>75%</th>\n",
       "      <td>NaN</td>\n",
       "      <td>56546.500000</td>\n",
       "      <td>46015.000000</td>\n",
       "      <td>1870.500000</td>\n",
       "      <td>285.500000</td>\n",
       "    </tr>\n",
       "    <tr>\n",
       "      <th>max</th>\n",
       "      <td>NaN</td>\n",
       "      <td>289533.000000</td>\n",
       "      <td>387703.000000</td>\n",
       "      <td>10022.000000</td>\n",
       "      <td>3411.000000</td>\n",
       "    </tr>\n",
       "  </tbody>\n",
       "</table>\n",
       "</div>"
      ],
      "text/plain": [
       "          county           Bush           Gore         Nader     Buchanan\n",
       "count         67      67.000000      67.000000     67.000000    67.000000\n",
       "unique        67            NaN            NaN           NaN          NaN\n",
       "top     Hernando            NaN            NaN           NaN          NaN\n",
       "freq           1            NaN            NaN           NaN          NaN\n",
       "mean         NaN   43450.970149   43453.985075   1454.119403   260.880597\n",
       "std          NaN   57182.620266   75070.435056   2033.620972   450.498092\n",
       "min          NaN    1317.000000     789.000000     19.000000     9.000000\n",
       "25%          NaN    4757.000000    3058.000000     95.500000    46.500000\n",
       "50%          NaN   20206.000000   14167.000000    562.000000   120.000000\n",
       "75%          NaN   56546.500000   46015.000000   1870.500000   285.500000\n",
       "max          NaN  289533.000000  387703.000000  10022.000000  3411.000000"
      ]
     },
     "execution_count": 14,
     "metadata": {},
     "output_type": "execute_result"
    }
   ],
   "source": [
    "votes = pd.read_csv('data/fl2000.txt', delim_whitespace=True, comment='#')\n",
    "votes = votes[['county', 'Bush', 'Gore', 'Nader', 'Buchanan']]\n",
    "votes.describe(include='all')"
   ]
  },
  {
   "cell_type": "markdown",
   "metadata": {
    "deletable": false,
    "editable": false,
    "nbgrader": {
     "cell_type": "markdown",
     "checksum": "ac095a5f66f36f290efc3daa77753f1d",
     "grade": false,
     "grade_id": "cell-34a57617922dd7b2",
     "locked": true,
     "schema_version": 3,
     "solution": false,
     "task": false
    }
   },
   "source": [
    "### 2a. Plot a pair plot of the data using the `seaborn` library. [Peer Review]\n",
    "Upload a screenshot or saved copy of your plot for this week's Peer Review assignment.<br>\n",
    "**Note:** your code for this section may cause the Validate button to time out. If you want to run the Validate button prior to submitting, you could comment out the code in this section after completing the Peer Review."
   ]
  },
  {
   "cell_type": "code",
   "execution_count": 15,
   "metadata": {
    "deletable": false,
    "nbgrader": {
     "cell_type": "code",
     "checksum": "4580e4653feab570c9b0fa3db7ba3444",
     "grade": false,
     "grade_id": "cell-6295591c65139c70",
     "locked": false,
     "schema_version": 3,
     "solution": true,
     "task": false
    }
   },
   "outputs": [
    {
     "data": {
      "text/plain": [
       "<seaborn.axisgrid.PairGrid at 0x71a5b26a29d0>"
      ]
     },
     "execution_count": 15,
     "metadata": {},
     "output_type": "execute_result"
    },
    {
     "data": {
      "image/png": "[encoded data removed]",
      "text/plain": [
       "<Figure size 720x720 with 20 Axes>"
      ]
     },
     "metadata": {},
     "output_type": "display_data"
    }
   ],
   "source": [
    "# plot a pair plot of the data using the seaborn library\n",
    "# possible way to save the image\n",
    "# plt.savefig('pair_plot.png', dpi = 300, bbox_inches = 'tight')\n",
    "# your code here\n",
    "sns.pairplot(votes)"
   ]
  },
  {
   "cell_type": "markdown",
   "metadata": {
    "deletable": false,
    "editable": false,
    "nbgrader": {
     "cell_type": "markdown",
     "checksum": "77eba6c741c09bd255b273a9f3d77519",
     "grade": false,
     "grade_id": "cell-b72a220a013a11eb",
     "locked": true,
     "schema_version": 3,
     "solution": false,
     "task": false
    }
   },
   "source": [
    "### 2b. Comment on the relationship between the quantiative datasets. Are they correlated? Collinear? [Peer Review]\n",
    "You will answer this question in this week's Peer Review assignment."
   ]
  },
  {
   "cell_type": "markdown",
   "metadata": {
    "deletable": false,
    "editable": false,
    "nbgrader": {
     "cell_type": "markdown",
     "checksum": "0ce62030747239510e2a7f5e6537bb6e",
     "grade": false,
     "grade_id": "cell-27c84c69998660fd",
     "locked": true,
     "schema_version": 3,
     "solution": false,
     "task": false
    }
   },
   "source": [
    "### 2c. Multi-linear [5 pts, Peer Review]\n",
    "\n",
    "Construct a multi-linear model called `model` without interaction terms predicting the Bush column on the other columns and print out the summary table. You should name your model's object as `model` in order to pass the autograder. Use the full data (not train-test split for now) and do not scale features."
   ]
  },
  {
   "cell_type": "code",
   "execution_count": 16,
   "metadata": {
    "deletable": false,
    "nbgrader": {
     "cell_type": "code",
     "checksum": "f1f04143151d86d74cce9f60e1b84c2e",
     "grade": false,
     "grade_id": "cell-3e217b35eef74be5",
     "locked": false,
     "schema_version": 3,
     "solution": true,
     "task": false
    }
   },
   "outputs": [
    {
     "name": "stdout",
     "output_type": "stream",
     "text": [
      "                            OLS Regression Results                            \n",
      "==============================================================================\n",
      "Dep. Variable:                   Bush   R-squared:                       0.877\n",
      "Model:                            OLS   Adj. R-squared:                  0.871\n",
      "Method:                 Least Squares   F-statistic:                     149.5\n",
      "Date:                Sun, 28 Apr 2024   Prob (F-statistic):           1.35e-28\n",
      "Time:                        14:18:26   Log-Likelihood:                -758.33\n",
      "No. Observations:                  67   AIC:                             1525.\n",
      "Df Residuals:                      63   BIC:                             1533.\n",
      "Df Model:                           3                                         \n",
      "Covariance Type:            nonrobust                                         \n",
      "==============================================================================\n",
      "                 coef    std err          t      P>|t|      [0.025      0.975]\n",
      "------------------------------------------------------------------------------\n",
      "Intercept   8647.6837   3133.545      2.760      0.008    2385.793    1.49e+04\n",
      "Gore           0.4475      0.071      6.305      0.000       0.306       0.589\n",
      "Nader         11.8533      2.503      4.735      0.000       6.851      16.855\n",
      "Buchanan      -7.2033      7.864     -0.916      0.363     -22.917       8.511\n",
      "==============================================================================\n",
      "Omnibus:                       20.698   Durbin-Watson:                   1.969\n",
      "Prob(Omnibus):                  0.000   Jarque-Bera (JB):              128.017\n",
      "Skew:                           0.383   Prob(JB):                     1.59e-28\n",
      "Kurtosis:                       9.728   Cond. No.                     1.08e+05\n",
      "==============================================================================\n",
      "\n",
      "Warnings:\n",
      "[1] Standard Errors assume that the covariance matrix of the errors is correctly specified.\n",
      "[2] The condition number is large, 1.08e+05. This might indicate that there are\n",
      "strong multicollinearity or other numerical problems.\n"
     ]
    }
   ],
   "source": [
    "# uncomment and construct a multi-linear model \n",
    "# model = \n",
    "# your code here\n",
    "formula = 'Bush ~ ' + ' + '.join(votes.columns.drop(['Bush','county']))\n",
    "\n",
    "# Fit the multi-linear regression model using the formula\n",
    "model = smf.ols(formula=formula, data=votes).fit()\n",
    "\n",
    "# Print the summary table\n",
    "print(model.summary())"
   ]
  },
  {
   "cell_type": "code",
   "execution_count": 17,
   "metadata": {
    "deletable": false,
    "editable": false,
    "nbgrader": {
     "cell_type": "code",
     "checksum": "5a50f4cd807b1853c12a678d548bcb88",
     "grade": true,
     "grade_id": "cell-0f446ca83e177241",
     "locked": true,
     "points": 3,
     "schema_version": 3,
     "solution": false,
     "task": false
    }
   },
   "outputs": [],
   "source": [
    "# tests model"
   ]
  },
  {
   "cell_type": "markdown",
   "metadata": {
    "deletable": false,
    "editable": false,
    "nbgrader": {
     "cell_type": "markdown",
     "checksum": "2ad4bc982aba8cbc23dbd612ccefe4e3",
     "grade": false,
     "grade_id": "cell-5ec540187e23c55b",
     "locked": true,
     "schema_version": 3,
     "solution": false,
     "task": false
    }
   },
   "source": [
    "Is there any insignificant feature(s)? Explain your answer in this week's Peer Review assignment. "
   ]
  },
  {
   "cell_type": "markdown",
   "metadata": {
    "deletable": false,
    "editable": false,
    "nbgrader": {
     "cell_type": "markdown",
     "checksum": "3716f4db7d6130148683606b82775b62",
     "grade": false,
     "grade_id": "cell-91b57f0a9964a836",
     "locked": true,
     "schema_version": 3,
     "solution": false,
     "task": false
    }
   },
   "source": [
    "### 2d. Multi-linear with interactions [Peer Review]\n",
    "\n",
    "Construct a multi-linear model with interactions that are statistically significant at the $p = 0.05$ level. You can start with full interactions and then eliminate interactions that do not meet the $p = 0.05$ threshold. You will share your solution in this week's Peer Review assignment. \n",
    "\n",
    "Note: Name this model object as **`model_multi`**."
   ]
  },
  {
   "cell_type": "code",
   "execution_count": 18,
   "metadata": {
    "deletable": false,
    "nbgrader": {
     "cell_type": "code",
     "checksum": "7aaee7a000ff2b1f1692f0a2384934ca",
     "grade": false,
     "grade_id": "cell-22c0b20ec31ac9c9",
     "locked": false,
     "schema_version": 3,
     "solution": true,
     "task": false
    }
   },
   "outputs": [
    {
     "data": {
      "text/html": [
       "<table class=\"simpletable\">\n",
       "<caption>OLS Regression Results</caption>\n",
       "<tr>\n",
       "  <th>Dep. Variable:</th>          <td>Bush</td>       <th>  R-squared:         </th> <td>   0.888</td>\n",
       "</tr>\n",
       "<tr>\n",
       "  <th>Model:</th>                   <td>OLS</td>       <th>  Adj. R-squared:    </th> <td>   0.882</td>\n",
       "</tr>\n",
       "<tr>\n",
       "  <th>Method:</th>             <td>Least Squares</td>  <th>  F-statistic:       </th> <td>   165.7</td>\n",
       "</tr>\n",
       "<tr>\n",
       "  <th>Date:</th>             <td>Sun, 28 Apr 2024</td> <th>  Prob (F-statistic):</th> <td>7.76e-30</td>\n",
       "</tr>\n",
       "<tr>\n",
       "  <th>Time:</th>                 <td>14:18:26</td>     <th>  Log-Likelihood:    </th> <td> -755.29</td>\n",
       "</tr>\n",
       "<tr>\n",
       "  <th>No. Observations:</th>      <td>    67</td>      <th>  AIC:               </th> <td>   1519.</td>\n",
       "</tr>\n",
       "<tr>\n",
       "  <th>Df Residuals:</th>          <td>    63</td>      <th>  BIC:               </th> <td>   1527.</td>\n",
       "</tr>\n",
       "<tr>\n",
       "  <th>Df Model:</th>              <td>     3</td>      <th>                     </th>     <td> </td>   \n",
       "</tr>\n",
       "<tr>\n",
       "  <th>Covariance Type:</th>      <td>nonrobust</td>    <th>                     </th>     <td> </td>   \n",
       "</tr>\n",
       "</table>\n",
       "<table class=\"simpletable\">\n",
       "<tr>\n",
       "         <td></td>           <th>coef</th>     <th>std err</th>      <th>t</th>      <th>P>|t|</th>  <th>[0.025</th>    <th>0.975]</th>  \n",
       "</tr>\n",
       "<tr>\n",
       "  <th>Intercept</th>      <td> 6612.0638</td> <td> 3024.379</td> <td>    2.186</td> <td> 0.033</td> <td>  568.324</td> <td> 1.27e+04</td>\n",
       "</tr>\n",
       "<tr>\n",
       "  <th>Gore</th>           <td>    0.4755</td> <td>    0.067</td> <td>    7.127</td> <td> 0.000</td> <td>    0.342</td> <td>    0.609</td>\n",
       "</tr>\n",
       "<tr>\n",
       "  <th>Nader</th>          <td>   13.4861</td> <td>    2.481</td> <td>    5.435</td> <td> 0.000</td> <td>    8.528</td> <td>   18.444</td>\n",
       "</tr>\n",
       "<tr>\n",
       "  <th>Nader:Buchanan</th> <td>   -0.0035</td> <td>    0.001</td> <td>   -2.628</td> <td> 0.011</td> <td>   -0.006</td> <td>   -0.001</td>\n",
       "</tr>\n",
       "</table>\n",
       "<table class=\"simpletable\">\n",
       "<tr>\n",
       "  <th>Omnibus:</th>       <td>23.144</td> <th>  Durbin-Watson:     </th> <td>   1.984</td>\n",
       "</tr>\n",
       "<tr>\n",
       "  <th>Prob(Omnibus):</th> <td> 0.000</td> <th>  Jarque-Bera (JB):  </th> <td> 198.816</td>\n",
       "</tr>\n",
       "<tr>\n",
       "  <th>Skew:</th>          <td>-0.316</td> <th>  Prob(JB):          </th> <td>6.72e-44</td>\n",
       "</tr>\n",
       "<tr>\n",
       "  <th>Kurtosis:</th>      <td>11.415</td> <th>  Cond. No.          </th> <td>3.68e+06</td>\n",
       "</tr>\n",
       "</table><br/><br/>Warnings:<br/>[1] Standard Errors assume that the covariance matrix of the errors is correctly specified.<br/>[2] The condition number is large, 3.68e+06. This might indicate that there are<br/>strong multicollinearity or other numerical problems."
      ],
      "text/plain": [
       "<class 'statsmodels.iolib.summary.Summary'>\n",
       "\"\"\"\n",
       "                            OLS Regression Results                            \n",
       "==============================================================================\n",
       "Dep. Variable:                   Bush   R-squared:                       0.888\n",
       "Model:                            OLS   Adj. R-squared:                  0.882\n",
       "Method:                 Least Squares   F-statistic:                     165.7\n",
       "Date:                Sun, 28 Apr 2024   Prob (F-statistic):           7.76e-30\n",
       "Time:                        14:18:26   Log-Likelihood:                -755.29\n",
       "No. Observations:                  67   AIC:                             1519.\n",
       "Df Residuals:                      63   BIC:                             1527.\n",
       "Df Model:                           3                                         \n",
       "Covariance Type:            nonrobust                                         \n",
       "==================================================================================\n",
       "                     coef    std err          t      P>|t|      [0.025      0.975]\n",
       "----------------------------------------------------------------------------------\n",
       "Intercept       6612.0638   3024.379      2.186      0.033     568.324    1.27e+04\n",
       "Gore               0.4755      0.067      7.127      0.000       0.342       0.609\n",
       "Nader             13.4861      2.481      5.435      0.000       8.528      18.444\n",
       "Nader:Buchanan    -0.0035      0.001     -2.628      0.011      -0.006      -0.001\n",
       "==============================================================================\n",
       "Omnibus:                       23.144   Durbin-Watson:                   1.984\n",
       "Prob(Omnibus):                  0.000   Jarque-Bera (JB):              198.816\n",
       "Skew:                          -0.316   Prob(JB):                     6.72e-44\n",
       "Kurtosis:                      11.415   Cond. No.                     3.68e+06\n",
       "==============================================================================\n",
       "\n",
       "Warnings:\n",
       "[1] Standard Errors assume that the covariance matrix of the errors is correctly specified.\n",
       "[2] The condition number is large, 3.68e+06. This might indicate that there are\n",
       "strong multicollinearity or other numerical problems.\n",
       "\"\"\""
      ]
     },
     "execution_count": 18,
     "metadata": {},
     "output_type": "execute_result"
    }
   ],
   "source": [
    "# uncomment and construct multi-linear model \n",
    "# model_multi = \n",
    "# your code here\n",
    "formula = 'Bush ~ Gore * Nader * Buchanan'\n",
    "\n",
    "# Fit the multi-linear model with interactions\n",
    "model_multi = smf.ols(formula, data=votes).fit()\n",
    "significant_interactions = model_multi.pvalues[model_multi.pvalues < 0.05]\n",
    "\n",
    "# If there are statistically significant interactions, refine the formula\n",
    "if len(significant_interactions) > 0:\n",
    "    significant_interactions_names = significant_interactions.index.tolist()\n",
    "    formula = 'Bush ~ ' + ' + '.join(significant_interactions_names)\n",
    "\n",
    "    # Refit the model with significant interactions only\n",
    "    model_multi = smf.ols(formula, data=votes).fit()\n",
    "    \n",
    "model_multi.summary()"
   ]
  },
  {
   "cell_type": "code",
   "execution_count": 19,
   "metadata": {
    "deletable": false,
    "editable": false,
    "nbgrader": {
     "cell_type": "code",
     "checksum": "397523e7e29f6c551cbeba67df1a5f7c",
     "grade": true,
     "grade_id": "cell-eb632c2993a3a21e",
     "locked": true,
     "points": 5,
     "schema_version": 3,
     "solution": false,
     "task": false
    }
   },
   "outputs": [],
   "source": [
    "# tests model_multi"
   ]
  },
  {
   "cell_type": "code",
   "execution_count": 20,
   "metadata": {
    "deletable": false,
    "nbgrader": {
     "cell_type": "code",
     "checksum": "ec85a9f2a7e62c09573b60c001b95905",
     "grade": false,
     "grade_id": "cell-07dd7f2ef51e935d",
     "locked": false,
     "schema_version": 3,
     "solution": true,
     "task": false
    }
   },
   "outputs": [
    {
     "data": {
      "text/plain": [
       "<statsmodels.regression.linear_model.RegressionResultsWrapper at 0x71a5abd2c290>"
      ]
     },
     "execution_count": 20,
     "metadata": {},
     "output_type": "execute_result"
    }
   ],
   "source": [
    "# tests model_multi \n",
    "# your code here\n",
    "model_multi "
   ]
  },
  {
   "cell_type": "markdown",
   "metadata": {
    "deletable": false,
    "editable": false,
    "nbgrader": {
     "cell_type": "markdown",
     "checksum": "bc78817205e93cacf8ea393d590ed6f3",
     "grade": false,
     "grade_id": "cell-b98112cfec169f01",
     "locked": true,
     "schema_version": 3,
     "solution": false,
     "task": false
    }
   },
   "source": [
    "### 2e. Leverage [Peer Review]\n",
    "\n",
    "Plot the *leverage* vs. the square of the residual.\n",
    "\n",
    "These resources might be helpful    \n",
    "- https://rpubs.com/Amrabdelhamed611/669768\n",
    "- https://www.statsmodels.org/dev/generated/statsmodels.graphics.regressionplots.plot_leverage_resid2.html"
   ]
  },
  {
   "cell_type": "code",
   "execution_count": 21,
   "metadata": {
    "deletable": false,
    "nbgrader": {
     "cell_type": "code",
     "checksum": "ea95ea232eeea5861a9228d0362fee40",
     "grade": false,
     "grade_id": "cell-ef11baefdcff42ae",
     "locked": false,
     "schema_version": 3,
     "solution": true,
     "task": false
    }
   },
   "outputs": [
    {
     "data": {
      "image/png": "[encoded data removed]",
      "text/plain": [
       "<Figure size 720x432 with 1 Axes>"
      ]
     },
     "metadata": {},
     "output_type": "display_data"
    }
   ],
   "source": [
    "# plot the leverage vs. the square of the residual\n",
    "# your code here\n",
    "import matplotlib.pyplot as plt\n",
    "from statsmodels.graphics.regressionplots import plot_leverage_resid2\n",
    "\n",
    "fig, ax = plt.subplots(figsize=(10, 6))\n",
    "plot_leverage_resid2(model_multi, ax=ax)\n",
    "plt.show()"
   ]
  },
  {
   "cell_type": "code",
   "execution_count": 22,
   "metadata": {
    "deletable": false,
    "nbgrader": {
     "cell_type": "code",
     "checksum": "4ffc57759fcc7aaa641d4c9f29792a01",
     "grade": false,
     "grade_id": "cell-ee3769e1988a26ba",
     "locked": false,
     "schema_version": 3,
     "solution": true,
     "task": false
    }
   },
   "outputs": [],
   "source": [
    "# you can use this cell to try different plots \n",
    "# your code here\n"
   ]
  },
  {
   "cell_type": "markdown",
   "metadata": {
    "deletable": false,
    "editable": false,
    "nbgrader": {
     "cell_type": "markdown",
     "checksum": "a1109f70cd913c619846729dbaea6dc2",
     "grade": false,
     "grade_id": "cell-0de43916d160a061",
     "locked": true,
     "schema_version": 3,
     "solution": false,
     "task": false
    }
   },
   "source": [
    "Upload your plot for this week's Peer Review assignment. If you tried out multiple models, upload a single model."
   ]
  },
  {
   "cell_type": "markdown",
   "metadata": {
    "deletable": false,
    "editable": false,
    "nbgrader": {
     "cell_type": "markdown",
     "checksum": "4f2ab521eca2939f6be06b0324812089",
     "grade": false,
     "grade_id": "cell-36cc68329e51f35e",
     "locked": true,
     "schema_version": 3,
     "solution": false,
     "task": false
    }
   },
   "source": [
    "### 2f. Identify and Clean [5pts]\n",
    "\n",
    "The leverage *vs* residual plot indicates that some rows have high leverage but small residuals and others have high residual. The $R^2$ of the model is determined by the residual. The data is from the disputed 2000 election [where one county](https://en.wikipedia.org/wiki/2000_United_States_presidential_election_recount_in_Florida) caused significant issues.\n",
    "\n",
    "Display the *3 or more* rows for the points indicated having high leverage and/or high residual squared. You will use this to improve the model $R^2$.\n",
    "\n",
    "Name the list of indices for those high-leverage and/or high-residual points as `unusual`."
   ]
  },
  {
   "cell_type": "code",
   "execution_count": 23,
   "metadata": {
    "deletable": false,
    "nbgrader": {
     "cell_type": "code",
     "checksum": "49583c6c1bd160606c55538ed81cda65",
     "grade": false,
     "grade_id": "cell-86a3970d8f212d25",
     "locked": false,
     "schema_version": 3,
     "solution": true,
     "task": false
    }
   },
   "outputs": [
    {
     "data": {
      "text/plain": [
       "[5, 42, 14, 49, 51, 27]"
      ]
     },
     "execution_count": 23,
     "metadata": {},
     "output_type": "execute_result"
    }
   ],
   "source": [
    "# uncomment and fill unusual with list of indices for high-leverage and/or high-residual points\n",
    "unusual = []\n",
    "# your code here\n",
    "# Get the influence object\n",
    "influence = model_multi.get_influence()\n",
    "\n",
    "# Get leverage values\n",
    "leverage = influence.hat_matrix_diag\n",
    "\n",
    "# Get squared residuals\n",
    "residuals_squared = influence.resid_studentized_internal**2\n",
    "\n",
    "# Define thresholds for high leverage and high residual squared\n",
    "leverage_threshold = 2 * (votes.shape[1] / votes.shape[0])\n",
    "residuals_squared_threshold = 4\n",
    "\n",
    "# Identify rows with high leverage and/or high residual squared\n",
    "unusual_leverage = [i for i, lev in enumerate(leverage) if lev > leverage_threshold]\n",
    "unusual_residuals = [i for i, res_sq in enumerate(residuals_squared) if res_sq > residuals_squared_threshold]\n",
    "\n",
    "# Combine indices of rows with high leverage and high residual squared\n",
    "unusual = list(set(unusual_leverage + unusual_residuals))\n",
    "\n",
    "# Display the rows\n",
    "unusual\n"
   ]
  },
  {
   "cell_type": "code",
   "execution_count": 24,
   "metadata": {
    "deletable": false,
    "editable": false,
    "nbgrader": {
     "cell_type": "code",
     "checksum": "8640ed3902ec093d908ae2a9e59d564b",
     "grade": true,
     "grade_id": "cell-371a2f9390cc1bac",
     "locked": true,
     "points": 5,
     "schema_version": 3,
     "solution": false,
     "task": false
    }
   },
   "outputs": [],
   "source": [
    "# tests your list of indices for high-leverage and/or high-residual points "
   ]
  },
  {
   "cell_type": "markdown",
   "metadata": {
    "deletable": false,
    "editable": false,
    "nbgrader": {
     "cell_type": "markdown",
     "checksum": "20911234c5ee4bb73c6f0162a584c89b",
     "grade": false,
     "grade_id": "cell-92e61512d63f64b4",
     "locked": true,
     "schema_version": 3,
     "solution": false,
     "task": false
    }
   },
   "source": [
    "### 2g. Final model [5 pts]\n",
    "\n",
    "Develop your final model by dropping *one or more* of the troublesome data points indicated in the leverage *vs* residual plot and insuring any interactions in your model are still significant at $p=0.05$. Your model should have an $R^2$ great than 0.95. Call your model `model_final`."
   ]
  },
  {
   "cell_type": "code",
   "execution_count": 25,
   "metadata": {
    "deletable": false,
    "nbgrader": {
     "cell_type": "code",
     "checksum": "cee47438644e06f44f3855e40d2aa42f",
     "grade": false,
     "grade_id": "cell-e44af38914a74eca",
     "locked": false,
     "schema_version": 3,
     "solution": true,
     "task": false
    }
   },
   "outputs": [
    {
     "data": {
      "text/plain": [
       "<statsmodels.regression.linear_model.RegressionResultsWrapper at 0x71a5ac410a10>"
      ]
     },
     "execution_count": 25,
     "metadata": {},
     "output_type": "execute_result"
    }
   ],
   "source": [
    "# develop your model_final here\n",
    "# model_final = \n",
    "# your code here\n",
    "model_final = None\n",
    "\n",
    "# Loop until achieving R^2 > 0.95\n",
    "while model_final is None or model_final.rsquared < 0.95:\n",
    "    # Identify troublesome data points\n",
    "    high_leverage_resid = model_multi.get_influence().hat_matrix_diag * model_multi.get_influence().resid_studentized_internal**2\n",
    "    unusual = list(high_leverage_resid.argsort()[-3:][::-1])\n",
    "    \n",
    "    # Drop troublesome data points\n",
    "    cleaned_data = votes.drop(unusual)\n",
    "    \n",
    "    # Rebuild multi-linear model with interactions\n",
    "    formula = 'Bush ~ ' + ' + '.join(cleaned_data.columns.difference(['Bush']))\n",
    "    model_final = smf.ols(formula=formula, data=cleaned_data).fit()\n",
    "    \n",
    "model_final"
   ]
  },
  {
   "cell_type": "code",
   "execution_count": 26,
   "metadata": {
    "deletable": false,
    "editable": false,
    "nbgrader": {
     "cell_type": "code",
     "checksum": "0998aa6a3e2d69f7c3f8860187436a84",
     "grade": true,
     "grade_id": "cell-9020c6d93ec1e5ff",
     "locked": true,
     "points": 5,
     "schema_version": 3,
     "solution": false,
     "task": false
    }
   },
   "outputs": [],
   "source": [
    "# tests model_final"
   ]
  },
  {
   "cell_type": "markdown",
   "metadata": {
    "deletable": false,
    "editable": false,
    "nbgrader": {
     "cell_type": "markdown",
     "checksum": "ba3301db38167d7f5d60a9ad16e9f3bf",
     "grade": false,
     "grade_id": "cell-aaa41e66895bed82",
     "locked": true,
     "schema_version": 3,
     "solution": false,
     "task": false
    }
   },
   "source": [
    "\n",
    "## 3. Body Mass Index Model [20 points, Peer Review]"
   ]
  },
  {
   "cell_type": "markdown",
   "metadata": {
    "deletable": false,
    "editable": false,
    "nbgrader": {
     "cell_type": "markdown",
     "checksum": "d34d6b307eda25bb4b005ddaaeffeb92",
     "grade": false,
     "grade_id": "cell-e0a612fa6afff5b7",
     "locked": true,
     "schema_version": 3,
     "solution": false,
     "task": false
    }
   },
   "source": [
    "In this problem, you will first clean a data set and create a model to estimate body fat based on the common BMI measure. Then, you will use the **forward stepwise selection** method to create more accurate predictors for body fat.\n",
    "\n",
    "The body density dataset in file `bodyfat` includes the following 15 variables listed from left to right:\n",
    "* Density : Density determined from underwater weighing\n",
    "* Fat : Percent body fat from Siri’s (1956) equation\n",
    "* Age : Age (years)\n",
    "* Weight : Weight (kg)\n",
    "* Height : Height (cm)\n",
    "* Neck : Neck circumference (cm)\n",
    "* Chest: Chest circumference (cm)\n",
    "* Abdomen : Abdomen circumference (cm)\n",
    "* Hip : Hip circumference (cm)\n",
    "* Thigh : Thigh circumference (cm)\n",
    "* Knee : Knee circumference (cm)\n",
    "* Ankle : Ankle circumference (cm)\n",
    "* Biceps : Biceps (extended) circumference (cm)\n",
    "* Forearm : Forearm circumference (cm)\n",
    "* Wrist : Wrist circumference (cm)\n",
    "\n",
    "The `Density` column is the \"gold standard\" -- it is a measure of body density obtained by dunking people in water and measuring the displacement. The `Fat` column is a prediction using another statistical model. The body mass index (BMI) is [calculated as Kg/m^2](https://en.wikipedia.org/wiki/Body_mass_index) and is used to classify people into different weight categories with a [BMI over 30 being 'obese'](https://www.medicalnewstoday.com/info/obesity). You will find that BMI is a poor predictor of the `Density` information it purports to predict. You will try to find better models using measurements and regression.\n",
    "\n",
    "Unfortunately for us, the dataset we have has imperial units for weight and height, so we will convert those to metric and then calculate the BMI and plot the KDE of the data."
   ]
  },
  {
   "cell_type": "code",
   "execution_count": 27,
   "metadata": {
    "deletable": false,
    "editable": false,
    "nbgrader": {
     "cell_type": "code",
     "checksum": "abbebf927df5eeb0b1be132a5eb82741",
     "grade": false,
     "grade_id": "cell-c1702a843e3fb544",
     "locked": true,
     "schema_version": 3,
     "solution": false,
     "task": false
    }
   },
   "outputs": [
    {
     "data": {
      "image/png": "[encoded data removed]",
      "text/plain": [
       "<Figure size 432x288 with 1 Axes>"
      ]
     },
     "metadata": {},
     "output_type": "display_data"
    }
   ],
   "source": [
    "fat = pd.read_csv('data/bodyfat.csv')\n",
    "fat = fat.drop('Unnamed: 0', axis=1)\n",
    "fat.Weight = fat.Weight * 0.453592 # Convert to Kg\n",
    "fat.Height = fat.Height * 0.0254 # convert inches to m\n",
    "fat['BMI'] = fat.Weight / (fat.Height**2)\n",
    "fat.BMI.plot.kde();"
   ]
  },
  {
   "cell_type": "markdown",
   "metadata": {
    "deletable": false,
    "editable": false,
    "nbgrader": {
     "cell_type": "markdown",
     "checksum": "8550853b789cd652d5fd5158f3a58b14",
     "grade": false,
     "grade_id": "cell-ce6b7bb9427aa898",
     "locked": true,
     "schema_version": 3,
     "solution": false,
     "task": false
    }
   },
   "source": [
    "### 3a. [5 pts]\n",
    "The BMI has at least one outlier since it's unlikely anyone has a BMI of 165, even [Arnold Schwarzenegger](http://www.health.com/health/gallery/0,,20460621,00.html).\n",
    "\n",
    "Form a new table `cfat` (cleaned fat) that removes any rows with a BMI greater than 40 and calculate the regression model predicting the `Density` from the `BMI`. Display the summary of the regression model. Call your model as `bmi`. You should achieve an $R^2$ of at least 0.53."
   ]
  },
  {
   "cell_type": "code",
   "execution_count": 28,
   "metadata": {
    "deletable": false,
    "nbgrader": {
     "cell_type": "code",
     "checksum": "9a989034d531571a7081f4bafefb65a8",
     "grade": false,
     "grade_id": "cell-8d4f2e33481cd87a",
     "locked": false,
     "schema_version": 3,
     "solution": true,
     "task": false
    }
   },
   "outputs": [
    {
     "name": "stdout",
     "output_type": "stream",
     "text": [
      "                            OLS Regression Results                            \n",
      "==============================================================================\n",
      "Dep. Variable:                Density   R-squared:                       0.536\n",
      "Model:                            OLS   Adj. R-squared:                  0.534\n",
      "Method:                 Least Squares   F-statistic:                     286.2\n",
      "Date:                Sun, 28 Apr 2024   Prob (F-statistic):           3.25e-43\n",
      "Time:                        14:18:39   Log-Likelihood:                 734.17\n",
      "No. Observations:                 250   AIC:                            -1464.\n",
      "Df Residuals:                     248   BIC:                            -1457.\n",
      "Df Model:                           1                                         \n",
      "Covariance Type:            nonrobust                                         \n",
      "==============================================================================\n",
      "                 coef    std err          t      P>|t|      [0.025      0.975]\n",
      "------------------------------------------------------------------------------\n",
      "Intercept      1.1602      0.006    186.410      0.000       1.148       1.172\n",
      "BMI           -0.0041      0.000    -16.918      0.000      -0.005      -0.004\n",
      "==============================================================================\n",
      "Omnibus:                        2.262   Durbin-Watson:                   1.576\n",
      "Prob(Omnibus):                  0.323   Jarque-Bera (JB):                2.259\n",
      "Skew:                           0.229   Prob(JB):                        0.323\n",
      "Kurtosis:                       2.916   Cond. No.                         195.\n",
      "==============================================================================\n",
      "\n",
      "Warnings:\n",
      "[1] Standard Errors assume that the covariance matrix of the errors is correctly specified.\n"
     ]
    }
   ],
   "source": [
    "# form new table cfat and model bmi\n",
    "# cfat = \n",
    "# bmi = \n",
    "# your code here\n",
    "cfat = fat[fat['BMI'] <= 40]\n",
    "\n",
    "# Fit regression model predicting Density from BMI\n",
    "bmi_formula = 'Density ~ BMI'\n",
    "bmi = smf.ols(bmi_formula, data=cfat).fit()\n",
    "\n",
    "# Display summary of the regression model\n",
    "print(bmi.summary())"
   ]
  },
  {
   "cell_type": "code",
   "execution_count": 29,
   "metadata": {
    "deletable": false,
    "editable": false,
    "nbgrader": {
     "cell_type": "code",
     "checksum": "714dea913dae8e58616d084c59533edc",
     "grade": true,
     "grade_id": "cell-aa74523671aef549",
     "locked": true,
     "points": 5,
     "schema_version": 3,
     "solution": false,
     "task": false
    }
   },
   "outputs": [],
   "source": [
    "# tests your bmi model "
   ]
  },
  {
   "cell_type": "markdown",
   "metadata": {
    "deletable": false,
    "editable": false,
    "nbgrader": {
     "cell_type": "markdown",
     "checksum": "059cd2984bb14fc6a468cb93c33b67c4",
     "grade": false,
     "grade_id": "cell-dcbbddf49b488ed2",
     "locked": true,
     "schema_version": 3,
     "solution": false,
     "task": false
    }
   },
   "source": [
    "### 3b. [Peer Review]\n",
    "Plot your regression model against the BMI measurement, properly labeling the scatterplot axes and showing the regression line. In subsequent models, you will not be able to plot the Density *vs* your predictors because you will have too many predictors, but it's useful to visually understand the relationship between the BMI predictor and the `Density` because you should find that the regression line goes through the data but there is too much variability in the data to achieve a good $R^2$.\n",
    "Upload a copy or screensho of your plot for this week's Peer Review assignment. "
   ]
  },
  {
   "cell_type": "code",
   "execution_count": 30,
   "metadata": {
    "deletable": false,
    "nbgrader": {
     "cell_type": "code",
     "checksum": "de3be70195cd8940e2307d82b09bb9c6",
     "grade": false,
     "grade_id": "cell-d0c9f3ade1d75f1a",
     "locked": false,
     "schema_version": 3,
     "solution": true,
     "task": false
    }
   },
   "outputs": [
    {
     "ename": "NameError",
     "evalue": "name 'X' is not defined",
     "output_type": "error",
     "traceback": [
      "\u001b[0;31m---------------------------------------------------------------------------\u001b[0m",
      "\u001b[0;31mNameError\u001b[0m                                 Traceback (most recent call last)",
      "\u001b[0;32m<ipython-input-30-8b6585d5d6de>\u001b[0m in \u001b[0;36m<module>\u001b[0;34m\u001b[0m\n\u001b[1;32m      3\u001b[0m \u001b[0;31m# your code here\u001b[0m\u001b[0;34m\u001b[0m\u001b[0;34m\u001b[0m\u001b[0;34m\u001b[0m\u001b[0m\n\u001b[1;32m      4\u001b[0m \u001b[0mplt\u001b[0m\u001b[0;34m.\u001b[0m\u001b[0mscatter\u001b[0m\u001b[0;34m(\u001b[0m\u001b[0mcfat\u001b[0m\u001b[0;34m[\u001b[0m\u001b[0;34m'BMI'\u001b[0m\u001b[0;34m]\u001b[0m\u001b[0;34m,\u001b[0m \u001b[0mcfat\u001b[0m\u001b[0;34m[\u001b[0m\u001b[0;34m'Density'\u001b[0m\u001b[0;34m]\u001b[0m\u001b[0;34m,\u001b[0m \u001b[0mlabel\u001b[0m\u001b[0;34m=\u001b[0m\u001b[0;34m'Data'\u001b[0m\u001b[0;34m)\u001b[0m\u001b[0;34m\u001b[0m\u001b[0;34m\u001b[0m\u001b[0m\n\u001b[0;32m----> 5\u001b[0;31m \u001b[0mplt\u001b[0m\u001b[0;34m.\u001b[0m\u001b[0mplot\u001b[0m\u001b[0;34m(\u001b[0m\u001b[0mcfat\u001b[0m\u001b[0;34m[\u001b[0m\u001b[0;34m'BMI'\u001b[0m\u001b[0;34m]\u001b[0m\u001b[0;34m,\u001b[0m \u001b[0mbmi\u001b[0m\u001b[0;34m.\u001b[0m\u001b[0mpredict\u001b[0m\u001b[0;34m(\u001b[0m\u001b[0mX\u001b[0m\u001b[0;34m)\u001b[0m\u001b[0;34m,\u001b[0m \u001b[0mcolor\u001b[0m\u001b[0;34m=\u001b[0m\u001b[0;34m'red'\u001b[0m\u001b[0;34m,\u001b[0m \u001b[0mlabel\u001b[0m\u001b[0;34m=\u001b[0m\u001b[0;34m'Regression Line'\u001b[0m\u001b[0;34m)\u001b[0m\u001b[0;34m\u001b[0m\u001b[0;34m\u001b[0m\u001b[0m\n\u001b[0m\u001b[1;32m      6\u001b[0m \u001b[0;34m\u001b[0m\u001b[0m\n\u001b[1;32m      7\u001b[0m \u001b[0mplt\u001b[0m\u001b[0;34m.\u001b[0m\u001b[0mxlabel\u001b[0m\u001b[0;34m(\u001b[0m\u001b[0;34m'BMI'\u001b[0m\u001b[0;34m)\u001b[0m\u001b[0;34m\u001b[0m\u001b[0;34m\u001b[0m\u001b[0m\n",
      "\u001b[0;31mNameError\u001b[0m: name 'X' is not defined"
     ]
    },
    {
     "data": {
      "image/png": "[encoded data removed]",
      "text/plain": [
       "<Figure size 432x288 with 1 Axes>"
      ]
     },
     "metadata": {},
     "output_type": "display_data"
    }
   ],
   "source": [
    "# plot regression model against BMI measurement\n",
    "# properly label the scatterplot axs and show the regression line\n",
    "# your code here\n",
    "plt.scatter(cfat['BMI'], cfat['Density'], label='Data')\n",
    "plt.plot(cfat['BMI'], bmi.predict(X), color='red', label='Regression Line')\n",
    "\n",
    "plt.xlabel('BMI')\n",
    "plt.ylabel('Density')\n",
    "\n",
    "plt.legend()\n",
    "\n",
    "plt.show()"
   ]
  },
  {
   "cell_type": "markdown",
   "metadata": {
    "deletable": false,
    "editable": false,
    "nbgrader": {
     "cell_type": "markdown",
     "checksum": "5f010f2bc1083261d56a9682bc987e5e",
     "grade": false,
     "grade_id": "cell-cce39b340a979434",
     "locked": true,
     "schema_version": 3,
     "solution": false,
     "task": false
    }
   },
   "source": [
    " The `BMI` model uses easy-to-measure predictors, but has a poor $R^2 \\sim 0.54$. We will use structured subset selection methods from ISLR Chapter 6.1 to derive two better predictors. That chapter covers *best subset*, *forward stepwise* and *backware stepwise* selection. I have implemented the *best subset* selection which searches across all combinations of $1, 2, \\ldots, p$ predictors and selects the best predictor based on the $\\textit{adjusted}~R^2$ metric. This method involved analyzing $2^{13} = 8192$ regression models (programming and computers for the win). The resulting $\\textit{adjusted}~R^2$ plot is shown below (Since the data split can be different, your result may look slightly different):\n",
    " \n",
    " <img src='fat-best-rsqadj.png'>\n",
    " \n",
    "In this plot, `test_fat` and `train_fat` datasets each containing 200 randomly selected samples were derived from the `cfat` dataset using `np.random.choice` over the `cfat.index` and selected using the Pandas `loc` method. Then, following the algorithm of ISLR Algorithm 6.1 *Best Subset Selection*, all $p \\choose k$ models with $k$ predictors were evaluated on the training data and the model returning the best $\\textit{Adjusted}~R^2$ was selected. These models are indicated by the data points for the solid blue line. As the text indicates, other measures (AIC, BIC, $C_p$) would be better than the $\\textit{Adjusted}~R^2$, but we use it becuase because you've already seen the $R^2$ and should have an understanding of what it means.\n",
    "\n",
    "Then, the best models for each $k$ were evaluated for the `test_fat` data. These results are shown as the red dots below the blue line. Note that because the test and train datasets are randomly selected subsets, the results vary from run-to-run and it may that your test data produces better $R^2$ than your training data.\n",
    "\n",
    "In the following exercises, you can not use the `Density`, `Fat` or `BMI` columns in your predictive models. You can only use the 13 predictors in the `allowed_factors` list."
   ]
  },
  {
   "cell_type": "code",
   "execution_count": 31,
   "metadata": {
    "deletable": false,
    "editable": false,
    "nbgrader": {
     "cell_type": "code",
     "checksum": "58fb469514a139386f9ab0b11eb5987e",
     "grade": false,
     "grade_id": "cell-1d56e6ab9fac5370",
     "locked": true,
     "schema_version": 3,
     "solution": false,
     "task": false
    }
   },
   "outputs": [],
   "source": [
    "allowed_factors = ['Age', 'Weight', 'Height', 'Neck', 'Chest',\n",
    "       'Abdomen', 'Hip', 'Thigh', 'Knee', 'Ankle', 'Biceps', 'Forearm',\n",
    "       'Wrist']"
   ]
  },
  {
   "cell_type": "markdown",
   "metadata": {
    "deletable": false,
    "editable": false,
    "nbgrader": {
     "cell_type": "markdown",
     "checksum": "800ff145f89c12e9eaff9ca004242fe4",
     "grade": false,
     "grade_id": "cell-edb9411d1ec54550",
     "locked": true,
     "schema_version": 3,
     "solution": false,
     "task": false
    }
   },
   "source": [
    "## Forward Stepwise Refinement"
   ]
  },
  {
   "cell_type": "markdown",
   "metadata": {
    "deletable": false,
    "editable": false,
    "nbgrader": {
     "cell_type": "markdown",
     "checksum": "74d464e8f0d0634c91bf1ea0ca64f373",
     "grade": false,
     "grade_id": "cell-3a584210ba67dbdc",
     "locked": true,
     "schema_version": 3,
     "solution": false,
     "task": false
    }
   },
   "source": [
    "You will manually perform the steps of the *forward stepwise selection* method for four parameters. You will do this following Algorithm 6.2 from ISLR. For $k = 1\\ldots 4$:\n",
    "* Set up a regression model with $k$ factors that involves the fixed predictors from the previous step $k-1$\n",
    "* Try all $p$ predictors in the new $k$th position\n",
    "* Select the best parameter using $\\textit{Adjusted}-R^2$ (e.g. `model.rsquared_adj`) given your training data\n",
    "* Fix the new parameter and continue the process for $k+1$\n",
    "\n",
    "Then, you will construct a plot similar to the one above, plotting the $\\textit{Adjusted}-R^2$ for each of your $k$ steps and plotting the $\\textit{Adjusted}-R^2$ from the test set using that model."
   ]
  },
  {
   "cell_type": "markdown",
   "metadata": {
    "deletable": false,
    "editable": false,
    "nbgrader": {
     "cell_type": "markdown",
     "checksum": "0eb7bd586e2532b4441455ffea847c96",
     "grade": false,
     "grade_id": "cell-935c52c843c6c61c",
     "locked": true,
     "schema_version": 3,
     "solution": false,
     "task": false
    }
   },
   "source": [
    "### 3c. [5 pts]\n",
    "First, construct your training and test sets from your `cfat` dataset. Call the resulting data frame to train_fat and test_fat. train_fat includes randomly selected 125 observations and the test_fat has the rest.\n",
    "\n",
    "Note: Set **random_state = 0** in sklearn's split function"
   ]
  },
  {
   "cell_type": "code",
   "execution_count": 32,
   "metadata": {
    "deletable": false,
    "nbgrader": {
     "cell_type": "code",
     "checksum": "b8e2e7e3b3c238091e2a2a1fc46ed153",
     "grade": false,
     "grade_id": "cell-0d264dd9fa39a3c6",
     "locked": false,
     "schema_version": 3,
     "solution": true,
     "task": false
    }
   },
   "outputs": [
    {
     "data": {
      "text/plain": [
       "(     Density  BodyFat  Age      Weight   Height  Neck  Chest  Abdomen    Hip  \\\n",
       " 147   1.0322     29.6   25   93.666748  1.77165  40.9  110.9    100.5  106.2   \n",
       " 217   1.0819      7.5   51   70.079964  1.77800  36.9   93.3     81.5   94.4   \n",
       " 64    1.0264     32.3   57   93.213156  1.77800  40.1  105.3    105.5  108.3   \n",
       " 140   1.0422     24.9   40   80.172386  1.80340  37.4   98.6     93.1  101.6   \n",
       " 192   1.0624     15.9   42   87.770052  1.79070  40.7  104.9     94.1  102.7   \n",
       " ..       ...      ...  ...         ...      ...   ...    ...      ...    ...   \n",
       " 69    1.0693     12.9   55   71.100546  1.81610  36.3   94.4     84.6   94.3   \n",
       " 194   1.0470     22.8   42   73.822098  1.84785  35.4   92.2     85.6   96.5   \n",
       " 119   1.0575     18.1   44   85.048500  1.83515  38.0  101.8     87.5  101.0   \n",
       " 49    1.0903      4.0   47   57.832980  1.69545  34.0   83.4     70.4   87.2   \n",
       " 174   1.0414     25.3   36  102.851986  1.82245  41.5  115.3    108.8  114.4   \n",
       " \n",
       "      Thigh  Knee  Ankle  Biceps  Forearm  Wrist        BMI  \n",
       " 147   68.4  40.8   24.6    33.3     29.7   18.4  29.842114  \n",
       " 217   54.7  39.0   22.6    27.5     25.9   18.6  22.168196  \n",
       " 64    65.0  41.2   24.7    35.3     31.1   18.4  29.485853  \n",
       " 140   59.1  39.6   21.6    30.8     27.9   16.6  24.651348  \n",
       " 192   60.6  38.6   24.7    34.0     30.1   18.7  27.371632  \n",
       " ..     ...   ...    ...     ...      ...    ...        ...  \n",
       " 69    51.2  37.4   21.6    27.3     27.1   17.3  21.557253  \n",
       " 194   60.2  38.9   22.4    31.7     27.1   17.1  21.619864  \n",
       " 119   58.5  39.2   24.5    32.1     28.6   18.0  25.253613  \n",
       " 49    50.6  34.4   21.9    26.8     25.8   16.8  20.118963  \n",
       " 174   69.2  42.4   24.0    35.4     21.0   20.1  30.967164  \n",
       " \n",
       " [125 rows x 16 columns],\n",
       "      Density  BodyFat  Age     Weight   Height  Neck  Chest  Abdomen    Hip  \\\n",
       " 227   1.0418     25.2   55  90.038012  1.88595  38.3  105.3     96.7  106.6   \n",
       " 124   1.0674     13.8   50  73.028312  1.68910  37.7   98.9     84.1   94.0   \n",
       " 94    1.0785      9.0   47  83.574326  1.89230  37.3   99.6     88.8  101.4   \n",
       " 159   1.0477     22.5   31  80.399182  1.81610  36.2  101.1     92.4   99.3   \n",
       " 156   1.0287     31.2   28  93.326554  1.75260  38.5  105.6    105.0  106.4   \n",
       " ..       ...      ...  ...        ...      ...   ...    ...      ...    ...   \n",
       " 208   1.0771      9.6   47  72.801516  1.78435  36.0   99.8     83.9   91.8   \n",
       " 48    1.0678     13.6   45  61.575114  1.73990  32.8   92.3     83.4   90.4   \n",
       " 173   1.0603     16.9   36  79.945590  1.81610  38.7   98.2     90.3   99.9   \n",
       " 247   1.0736     11.0   70  60.894726  1.70180  34.9   89.2     83.6   88.8   \n",
       " 125   1.0587     17.5   46  75.749864  1.70180  36.6  101.0     89.9  100.0   \n",
       " \n",
       "      Thigh  Knee  Ankle  Biceps  Forearm  Wrist        BMI  \n",
       " 227   64.0  42.6   23.4    33.2     30.0   18.4  25.314278  \n",
       " 124   58.5  36.6   23.5    34.4     29.2   18.0  25.596497  \n",
       " 94    57.4  39.6   24.6    30.3     27.9   17.8  23.339573  \n",
       " 159   59.4  39.0   24.6    30.1     28.2   18.2  24.376543  \n",
       " 156   68.6  40.0   25.2    35.2     30.7   19.1  30.383627  \n",
       " ..     ...   ...    ...     ...      ...    ...        ...  \n",
       " 208   53.0  36.2   22.5    31.4     27.5   17.7  22.865481  \n",
       " 48    52.0  35.8   20.6    28.8     25.5   16.3  20.340267  \n",
       " 173   59.2  37.7   21.5    32.4     28.4   17.8  24.239017  \n",
       " 247   49.6  34.8   21.5    25.6     25.7   18.5  21.026290  \n",
       " 125   60.7  36.0   21.9    35.6     30.2   17.6  26.155608  \n",
       " \n",
       " [125 rows x 16 columns])"
      ]
     },
     "execution_count": 32,
     "metadata": {},
     "output_type": "execute_result"
    }
   ],
   "source": [
    "# your code here\n",
    "from sklearn.model_selection import train_test_split\n",
    "\n",
    "train_fat, test_fat = train_test_split(cfat, test_size=125, train_size=125, random_state=0)\n",
    "train_fat, test_fat"
   ]
  },
  {
   "cell_type": "code",
   "execution_count": 33,
   "metadata": {
    "deletable": false,
    "editable": false,
    "nbgrader": {
     "cell_type": "code",
     "checksum": "03a442d106b1296488fe77cc4f3b8c21",
     "grade": true,
     "grade_id": "cell-8891dbeb743bcd14",
     "locked": true,
     "points": 5,
     "schema_version": 3,
     "solution": false,
     "task": false
    }
   },
   "outputs": [],
   "source": [
    "# tests your training and test sets "
   ]
  },
  {
   "cell_type": "markdown",
   "metadata": {
    "deletable": false,
    "editable": false,
    "nbgrader": {
     "cell_type": "markdown",
     "checksum": "1e3c4c3cf91f57b05659f8e60e1d59bf",
     "grade": false,
     "grade_id": "cell-1417b71024495889",
     "locked": true,
     "schema_version": 3,
     "solution": false,
     "task": false
    }
   },
   "source": [
    "### 3d. Conduct the algorithm above for $k=1$, leaving your best solution as the answer [5 pts]\n",
    "Call your resulting model `train_bmi1`."
   ]
  },
  {
   "cell_type": "code",
   "execution_count": 34,
   "metadata": {
    "deletable": false,
    "editable": false,
    "nbgrader": {
     "cell_type": "code",
     "checksum": "f205041286df71c59acee817abca7820",
     "grade": false,
     "grade_id": "cell-c968f5bc7b9e363c",
     "locked": true,
     "schema_version": 3,
     "solution": false,
     "task": false
    }
   },
   "outputs": [
    {
     "name": "stdout",
     "output_type": "stream",
     "text": [
      "Age 0.11891818526391695\n",
      "Weight 0.3118316510507495\n",
      "Height 0.013604499535144865\n",
      "Neck 0.2365970437510022\n",
      "Chest 0.48319067404353544\n",
      "Abdomen 0.6569981103212716\n",
      "Hip 0.309611004446523\n",
      "Thigh 0.20523437265112665\n",
      "Knee 0.14348108465750553\n",
      "Ankle 0.08478533257962062\n",
      "Biceps 0.23065760452385575\n",
      "Forearm 0.08974003323360791\n",
      "Wrist 0.10016498175577282\n",
      "best: ['Abdomen', 0.6569981103212716]\n"
     ]
    }
   ],
   "source": [
    "best = ['',0]\n",
    "for p in allowed_factors:\n",
    "    model  = smf.ols(formula='Density~'+p, data=train_fat).fit()\n",
    "    print(p, model.rsquared)\n",
    "    if model.rsquared>best[1]:\n",
    "        best = [p, model.rsquared]\n",
    "print('best:',best)"
   ]
  },
  {
   "cell_type": "code",
   "execution_count": 35,
   "metadata": {
    "deletable": false,
    "nbgrader": {
     "cell_type": "code",
     "checksum": "f40e751b05ac46dbc738c65b1016e193",
     "grade": false,
     "grade_id": "cell-b653a38505843acf",
     "locked": false,
     "schema_version": 3,
     "solution": true,
     "task": false
    }
   },
   "outputs": [
    {
     "name": "stdout",
     "output_type": "stream",
     "text": [
      "<statsmodels.regression.linear_model.RegressionResultsWrapper object at 0x71a5ab5b5f50>\n"
     ]
    }
   ],
   "source": [
    "# uncomment and update your solution \n",
    "# train_bmi1 = \n",
    "\n",
    "# your code here\n",
    "train_bmi1 = smf.ols(formula='Density~'+best[0], data=train_fat).fit()\n",
    "print(train_bmi1)"
   ]
  },
  {
   "cell_type": "code",
   "execution_count": 36,
   "metadata": {
    "deletable": false,
    "editable": false,
    "nbgrader": {
     "cell_type": "code",
     "checksum": "92255eb2a0660046e3c000e99000e2f8",
     "grade": true,
     "grade_id": "cell-70be923706ef2bba",
     "locked": true,
     "points": 5,
     "schema_version": 3,
     "solution": false,
     "task": false
    }
   },
   "outputs": [],
   "source": [
    "# tests train_bmi1 model "
   ]
  },
  {
   "cell_type": "markdown",
   "metadata": {
    "deletable": false,
    "editable": false,
    "nbgrader": {
     "cell_type": "markdown",
     "checksum": "ba7ebfb99efed0f1c5863b4c6223f38d",
     "grade": false,
     "grade_id": "cell-b8a4543e21990a4e",
     "locked": true,
     "schema_version": 3,
     "solution": false,
     "task": false
    }
   },
   "source": [
    "### 3e. Conduct the algorithm above for $k=2$, leaving your best solution as the answer [Peer Review]\n",
    "Name your model object as `train_bmi2`.<br>\n",
    "Look at this week's Peer Review assignment for questions about $k=2$ through $k=5$. "
   ]
  },
  {
   "cell_type": "code",
   "execution_count": 37,
   "metadata": {
    "deletable": false,
    "nbgrader": {
     "cell_type": "code",
     "checksum": "06cda9d0a1a81c337fb14831e60acfbf",
     "grade": false,
     "grade_id": "cell-c1bb769fe2f4652a",
     "locked": false,
     "schema_version": 3,
     "solution": true,
     "task": false
    }
   },
   "outputs": [
    {
     "data": {
      "text/plain": [
       "<function print>"
      ]
     },
     "execution_count": 37,
     "metadata": {},
     "output_type": "execute_result"
    }
   ],
   "source": [
    "# your code here\n",
    "import itertools\n",
    "\n",
    "best_combo = ['', '', 0]\n",
    "for combo in itertools.combinations(allowed_factors, 2):\n",
    "    formula = 'Density~' + '+'.join(combo)\n",
    "    model = smf.ols(formula=formula, data=train_fat).fit()\n",
    "    if model.rsquared > best_combo[2]:\n",
    "        best_combo = [combo[0], combo[1], model.rsquared]\n",
    "\n",
    "# Fit the best model\n",
    "formula = 'Density~' + '+'.join(best_combo[:2])\n",
    "train_bmi2 = smf.ols(formula=formula, data=train_fat).fit()\n",
    "print"
   ]
  },
  {
   "cell_type": "code",
   "execution_count": 42,
   "metadata": {},
   "outputs": [
    {
     "name": "stdout",
     "output_type": "stream",
     "text": [
      "Age 0.7595234065705856\n",
      "Weight 0.7586453452817197\n",
      "Height 0.7611915781926624\n",
      "Neck 0.76032602520683\n",
      "Chest 0.7600204027067011\n",
      "Abdomen 0.7586453452817197\n",
      "Hip 0.7676364281658218\n",
      "Thigh 0.7586895378986835\n",
      "Knee 0.7589880040835745\n",
      "Ankle 0.762837184434771\n",
      "Biceps 0.7586453452817197\n",
      "Forearm 0.7586455431260068\n",
      "Wrist 0.7586453452817197\n",
      "best: ['Hip', 0.7676364281658218]\n",
      "Density~Abdomen+Hip\n"
     ]
    },
    {
     "data": {
      "text/plain": [
       "0.7206773556849715"
      ]
     },
     "execution_count": 42,
     "metadata": {},
     "output_type": "execute_result"
    }
   ],
   "source": [
    "best = ['',0]\n",
    "for p in allowed_factors:\n",
    "    model  = smf.ols(formula=train_bmi4.model.formula+'+'+p, data=train_fat).fit()\n",
    "    print(p, model.rsquared)\n",
    "    if model.rsquared>best[1]:\n",
    "        best = [p, model.rsquared]\n",
    "print('best:',best)   \n",
    "\n",
    "train_bmi2 = smf.ols(formula=train_bmi1.model.formula+'+'+best[0], data=train_fat).fit()\n",
    "print(train_bmi2.model.formula)\n",
    "train_bmi2.rsquared_adj"
   ]
  },
  {
   "cell_type": "markdown",
   "metadata": {
    "deletable": false,
    "editable": false,
    "nbgrader": {
     "cell_type": "markdown",
     "checksum": "6dc65243db88c57ade297d5d0297432c",
     "grade": false,
     "grade_id": "cell-c01c83243d830766",
     "locked": true,
     "schema_version": 3,
     "solution": false,
     "task": false
    }
   },
   "source": [
    "### 3f. Conduct the algorithm above for $k=3$, leaving your best solution as the answer [Peer Review]"
   ]
  },
  {
   "cell_type": "code",
   "execution_count": 38,
   "metadata": {
    "deletable": false,
    "nbgrader": {
     "cell_type": "code",
     "checksum": "8fcc079c84b8b0c596ead094a5dd4036",
     "grade": false,
     "grade_id": "cell-4291b82327d46a06",
     "locked": false,
     "schema_version": 3,
     "solution": true,
     "task": false
    }
   },
   "outputs": [
    {
     "name": "stdout",
     "output_type": "stream",
     "text": [
      "('Age', 'Weight', 'Height') 0.5658042278484696\n",
      "('Age', 'Weight', 'Neck') 0.4570605477469267\n",
      "('Age', 'Weight', 'Chest') 0.5326157205070146\n",
      "('Age', 'Weight', 'Abdomen') 0.7349254365619349\n",
      "('Age', 'Weight', 'Hip') 0.4755541111562742\n",
      "('Age', 'Weight', 'Thigh') 0.4627825296275444\n",
      "('Age', 'Weight', 'Knee') 0.4801598980831072\n",
      "('Age', 'Weight', 'Ankle') 0.4685521074640189\n",
      "('Age', 'Weight', 'Biceps') 0.4669317357883872\n",
      "('Age', 'Weight', 'Forearm') 0.4625658264541881\n",
      "('Age', 'Weight', 'Wrist') 0.533120956683754\n",
      "('Age', 'Height', 'Neck') 0.3666489082704062\n",
      "('Age', 'Height', 'Chest') 0.5504123302059689\n",
      "('Age', 'Height', 'Abdomen') 0.7024957593109653\n",
      "('Age', 'Height', 'Hip') 0.521901138629312\n",
      "('Age', 'Height', 'Thigh') 0.45315363025028865\n",
      "('Age', 'Height', 'Knee') 0.33661327793200657\n",
      "('Age', 'Height', 'Ankle') 0.27920398426392334\n",
      "('Age', 'Height', 'Biceps') 0.4318024682293222\n",
      "('Age', 'Height', 'Forearm') 0.25992857439841455\n",
      "('Age', 'Height', 'Wrist') 0.21866924707467805\n",
      "('Age', 'Neck', 'Chest') 0.5353980420947189\n",
      "('Age', 'Neck', 'Abdomen') 0.6980671682693015\n",
      "('Age', 'Neck', 'Hip') 0.47169350430793267\n",
      "('Age', 'Neck', 'Thigh') 0.4243356150157628\n",
      "('Age', 'Neck', 'Knee') 0.3497585966109512\n",
      "('Age', 'Neck', 'Ankle') 0.34860513227637224\n",
      "('Age', 'Neck', 'Biceps') 0.4065823522729499\n",
      "('Age', 'Neck', 'Forearm') 0.3393791149813624\n",
      "('Age', 'Neck', 'Wrist') 0.3475026827128277\n",
      "('Age', 'Chest', 'Abdomen') 0.6941462946085326\n",
      "('Age', 'Chest', 'Hip') 0.5370502992053292\n",
      "('Age', 'Chest', 'Thigh') 0.537985328282788\n",
      "('Age', 'Chest', 'Knee') 0.5346189059631673\n",
      "('Age', 'Chest', 'Ankle') 0.5340660664084609\n",
      "('Age', 'Chest', 'Biceps') 0.5404737343498138\n",
      "('Age', 'Chest', 'Forearm') 0.5355340041210679\n",
      "('Age', 'Chest', 'Wrist') 0.5678705669329853\n",
      "('Age', 'Abdomen', 'Hip') 0.7261054501881494\n",
      "('Age', 'Abdomen', 'Thigh') 0.687024272955809\n",
      "('Age', 'Abdomen', 'Knee') 0.7023465209375492\n",
      "('Age', 'Abdomen', 'Ankle') 0.6911503156723124\n",
      "('Age', 'Abdomen', 'Biceps') 0.6770121665121013\n",
      "('Age', 'Abdomen', 'Forearm') 0.6858540600452434\n",
      "('Age', 'Abdomen', 'Wrist') 0.723720579174514\n",
      "('Age', 'Hip', 'Thigh') 0.4723412262098339\n",
      "('Age', 'Hip', 'Knee') 0.48030218939701996\n",
      "('Age', 'Hip', 'Ankle') 0.47241695842074116\n",
      "('Age', 'Hip', 'Biceps') 0.48940417609917575\n",
      "('Age', 'Hip', 'Forearm') 0.46978204431061854\n",
      "('Age', 'Hip', 'Wrist') 0.49591787989867697\n",
      "('Age', 'Thigh', 'Knee') 0.4216053417179264\n",
      "('Age', 'Thigh', 'Ankle') 0.4165517395268148\n",
      "('Age', 'Thigh', 'Biceps') 0.44552775603233064\n",
      "('Age', 'Thigh', 'Forearm') 0.41725760403533163\n",
      "('Age', 'Thigh', 'Wrist') 0.4261799745384509\n",
      "('Age', 'Knee', 'Ankle') 0.28427615279062834\n",
      "('Age', 'Knee', 'Biceps') 0.40079640659821236\n",
      "('Age', 'Knee', 'Forearm') 0.29349420678494653\n",
      "('Age', 'Knee', 'Wrist') 0.2711061436190718\n",
      "('Age', 'Ankle', 'Biceps') 0.40225673330883094\n",
      "('Age', 'Ankle', 'Forearm') 0.278669452698612\n",
      "('Age', 'Ankle', 'Wrist') 0.2527815374073358\n",
      "('Age', 'Biceps', 'Forearm') 0.3979934526223382\n",
      "('Age', 'Biceps', 'Wrist') 0.4113742509935142\n",
      "('Age', 'Forearm', 'Wrist') 0.2443287997456336\n",
      "('Weight', 'Height', 'Neck') 0.4944194736354254\n",
      "('Weight', 'Height', 'Chest') 0.5262684821957221\n",
      "('Weight', 'Height', 'Abdomen') 0.7346841862930595\n",
      "('Weight', 'Height', 'Hip') 0.49401717196909156\n",
      "('Weight', 'Height', 'Thigh') 0.50478430907767\n",
      "('Weight', 'Height', 'Knee') 0.4948239075325829\n",
      "('Weight', 'Height', 'Ankle') 0.5187436203319851\n",
      "('Weight', 'Height', 'Biceps') 0.4932154848223851\n",
      "('Weight', 'Height', 'Forearm') 0.5067823970896286\n",
      "('Weight', 'Height', 'Wrist') 0.5108795057087105\n",
      "('Weight', 'Neck', 'Chest') 0.4957809464389251\n",
      "('Weight', 'Neck', 'Abdomen') 0.7350719549982627\n",
      "('Weight', 'Neck', 'Hip') 0.3260075735787835\n",
      "('Weight', 'Neck', 'Thigh') 0.3173943422524208\n",
      "('Weight', 'Neck', 'Knee') 0.33318935774569625\n",
      "('Weight', 'Neck', 'Ankle') 0.3498280988489806\n",
      "('Weight', 'Neck', 'Biceps') 0.31622433602199185\n",
      "('Weight', 'Neck', 'Forearm') 0.3336740266940984\n",
      "('Weight', 'Neck', 'Wrist') 0.34833276430430116\n",
      "('Weight', 'Chest', 'Abdomen') 0.7361527870168971\n",
      "('Weight', 'Chest', 'Hip') 0.4982692864872518\n",
      "('Weight', 'Chest', 'Thigh') 0.49597374457886856\n",
      "('Weight', 'Chest', 'Knee') 0.49478342938307485\n",
      "('Weight', 'Chest', 'Ankle') 0.4983182087411526\n",
      "('Weight', 'Chest', 'Biceps') 0.5012924562111989\n",
      "('Weight', 'Chest', 'Forearm') 0.4999273442494645\n",
      "('Weight', 'Chest', 'Wrist') 0.5170077143223448\n",
      "('Weight', 'Abdomen', 'Hip') 0.7403708948984318\n",
      "('Weight', 'Abdomen', 'Thigh') 0.7362390304684202\n",
      "('Weight', 'Abdomen', 'Knee') 0.7342618400367089\n",
      "('Weight', 'Abdomen', 'Ankle') 0.7350977707559923\n",
      "('Weight', 'Abdomen', 'Biceps') 0.7503664765897944\n",
      "('Weight', 'Abdomen', 'Forearm') 0.7354538938929442\n",
      "('Weight', 'Abdomen', 'Wrist') 0.7397169966040404\n",
      "('Weight', 'Hip', 'Thigh') 0.3309202690160734\n",
      "('Weight', 'Hip', 'Knee') 0.34090518037607465\n",
      "('Weight', 'Hip', 'Ankle') 0.3557255401454702\n",
      "('Weight', 'Hip', 'Biceps') 0.3252981823146084\n",
      "('Weight', 'Hip', 'Forearm') 0.3320569927137347\n",
      "('Weight', 'Hip', 'Wrist') 0.3405391459336482\n",
      "('Weight', 'Thigh', 'Knee') 0.3319672956735972\n",
      "('Weight', 'Thigh', 'Ankle') 0.34915284052478335\n",
      "('Weight', 'Thigh', 'Biceps') 0.3197699951265913\n",
      "('Weight', 'Thigh', 'Forearm') 0.33084228831078\n",
      "('Weight', 'Thigh', 'Wrist') 0.3447756577232438\n",
      "('Weight', 'Knee', 'Ankle') 0.3564485025376024\n",
      "('Weight', 'Knee', 'Biceps') 0.33391211036998636\n",
      "('Weight', 'Knee', 'Forearm') 0.3467983056029754\n",
      "('Weight', 'Knee', 'Wrist') 0.3520586522534339\n",
      "('Weight', 'Ankle', 'Biceps') 0.35104307093444065\n",
      "('Weight', 'Ankle', 'Forearm') 0.35725594485975376\n",
      "('Weight', 'Ankle', 'Wrist') 0.36216859268274715\n",
      "('Weight', 'Biceps', 'Forearm') 0.3404635153720573\n",
      "('Weight', 'Biceps', 'Wrist') 0.3437625857271063\n",
      "('Weight', 'Forearm', 'Wrist') 0.34649614047862176\n",
      "('Height', 'Neck', 'Chest') 0.5219883870888824\n",
      "('Height', 'Neck', 'Abdomen') 0.7093537857685326\n",
      "('Height', 'Neck', 'Hip') 0.43413378418833615\n",
      "('Height', 'Neck', 'Thigh') 0.351414683620331\n",
      "('Height', 'Neck', 'Knee') 0.3537929820131098\n",
      "('Height', 'Neck', 'Ankle') 0.31475933275750356\n",
      "('Height', 'Neck', 'Biceps') 0.3570298896465962\n",
      "('Height', 'Neck', 'Forearm') 0.30632146961370565\n",
      "('Height', 'Neck', 'Wrist') 0.305576588752269\n",
      "('Height', 'Chest', 'Abdomen') 0.7157856990722677\n",
      "('Height', 'Chest', 'Hip') 0.5241859585034939\n",
      "('Height', 'Chest', 'Thigh') 0.5221622001955066\n",
      "('Height', 'Chest', 'Knee') 0.5221723223557302\n",
      "('Height', 'Chest', 'Ankle') 0.5231522197360561\n",
      "('Height', 'Chest', 'Biceps') 0.527557363845985\n",
      "('Height', 'Chest', 'Forearm') 0.5244606994010206\n",
      "('Height', 'Chest', 'Wrist') 0.5338425121972722\n",
      "('Height', 'Abdomen', 'Hip') 0.7310709690600747\n",
      "('Height', 'Abdomen', 'Thigh') 0.7049122482381476\n",
      "('Height', 'Abdomen', 'Knee') 0.7049834485993465\n",
      "('Height', 'Abdomen', 'Ankle') 0.7047765882641458\n",
      "('Height', 'Abdomen', 'Biceps') 0.6957536739014604\n",
      "('Height', 'Abdomen', 'Forearm') 0.7011521033566936\n",
      "('Height', 'Abdomen', 'Wrist') 0.7190130003116969\n",
      "('Height', 'Hip', 'Thigh') 0.4176065491825762\n",
      "('Height', 'Hip', 'Knee') 0.4195723517109745\n",
      "('Height', 'Hip', 'Ankle') 0.4185371863348384\n",
      "('Height', 'Hip', 'Biceps') 0.4380730041682913\n",
      "('Height', 'Hip', 'Forearm') 0.41696151653137514\n",
      "('Height', 'Hip', 'Wrist') 0.41685026703317296\n",
      "('Height', 'Thigh', 'Knee') 0.31699125347187174\n",
      "('Height', 'Thigh', 'Ankle') 0.28992194933959814\n",
      "('Height', 'Thigh', 'Biceps') 0.3462999719215576\n",
      "('Height', 'Thigh', 'Forearm') 0.2974653643417742\n",
      "('Height', 'Thigh', 'Wrist') 0.30809529165254645\n",
      "('Height', 'Knee', 'Ankle') 0.2698535292572607\n",
      "('Height', 'Knee', 'Biceps') 0.36540958303077287\n",
      "('Height', 'Knee', 'Forearm') 0.2829267886151774\n",
      "('Height', 'Knee', 'Wrist') 0.28125400099066056\n",
      "('Height', 'Ankle', 'Biceps') 0.3223418666106419\n",
      "('Height', 'Ankle', 'Forearm') 0.18355742345923998\n",
      "('Height', 'Ankle', 'Wrist') 0.19257970314153083\n",
      "('Height', 'Biceps', 'Forearm') 0.31393716112602055\n",
      "('Height', 'Biceps', 'Wrist') 0.31846405935716104\n",
      "('Height', 'Forearm', 'Wrist') 0.19523587990600855\n",
      "('Neck', 'Chest', 'Abdomen') 0.6963962233210236\n",
      "('Neck', 'Chest', 'Hip') 0.4903992765816304\n",
      "('Neck', 'Chest', 'Thigh') 0.49024130083119577\n",
      "('Neck', 'Chest', 'Knee') 0.494136815563053\n",
      "('Neck', 'Chest', 'Ankle') 0.4994458524529257\n",
      "('Neck', 'Chest', 'Biceps') 0.4924720065448909\n",
      "('Neck', 'Chest', 'Forearm') 0.4982862111828191\n",
      "('Neck', 'Chest', 'Wrist') 0.5167509722874315\n",
      "('Neck', 'Abdomen', 'Hip') 0.7362043397435376\n",
      "('Neck', 'Abdomen', 'Thigh') 0.6975737154824702\n",
      "('Neck', 'Abdomen', 'Knee') 0.7070463433794297\n",
      "('Neck', 'Abdomen', 'Ankle') 0.7005527868518601\n",
      "('Neck', 'Abdomen', 'Biceps') 0.6868616907724823\n"
     ]
    },
    {
     "name": "stdout",
     "output_type": "stream",
     "text": [
      "('Neck', 'Abdomen', 'Forearm') 0.6901560471881564\n",
      "('Neck', 'Abdomen', 'Wrist') 0.7097884393216801\n",
      "('Neck', 'Hip', 'Thigh') 0.33326272594549\n",
      "('Neck', 'Hip', 'Knee') 0.33419453567171764\n",
      "('Neck', 'Hip', 'Ankle') 0.3439282333246616\n",
      "('Neck', 'Hip', 'Biceps') 0.3274559491636908\n",
      "('Neck', 'Hip', 'Forearm') 0.3318309822775444\n",
      "('Neck', 'Hip', 'Wrist') 0.3409946210862973\n",
      "('Neck', 'Thigh', 'Knee') 0.25999498126813336\n",
      "('Neck', 'Thigh', 'Ankle') 0.2661903851080625\n",
      "('Neck', 'Thigh', 'Biceps') 0.27318355599270605\n",
      "('Neck', 'Thigh', 'Forearm') 0.26410967217744197\n",
      "('Neck', 'Thigh', 'Wrist') 0.2665622346836355\n",
      "('Neck', 'Knee', 'Ankle') 0.24519926771643907\n",
      "('Neck', 'Knee', 'Biceps') 0.2685356781508238\n",
      "('Neck', 'Knee', 'Forearm') 0.24606824772085756\n",
      "('Neck', 'Knee', 'Wrist') 0.25309398784956827\n",
      "('Neck', 'Ankle', 'Biceps') 0.2688991075030843\n",
      "('Neck', 'Ankle', 'Forearm') 0.2379393836364323\n",
      "('Neck', 'Ankle', 'Wrist') 0.2422839209930603\n",
      "('Neck', 'Biceps', 'Forearm') 0.2826297259877437\n",
      "('Neck', 'Biceps', 'Wrist') 0.2788926277621012\n",
      "('Neck', 'Forearm', 'Wrist') 0.24015865535174652\n",
      "('Chest', 'Abdomen', 'Hip') 0.7349712243097839\n",
      "('Chest', 'Abdomen', 'Thigh') 0.6995977808792451\n",
      "('Chest', 'Abdomen', 'Knee') 0.7097888278640963\n",
      "('Chest', 'Abdomen', 'Ankle') 0.6995991563451781\n",
      "('Chest', 'Abdomen', 'Biceps') 0.6812377594235292\n",
      "('Chest', 'Abdomen', 'Forearm') 0.6892934812337316\n",
      "('Chest', 'Abdomen', 'Wrist') 0.7135386736907858\n",
      "('Chest', 'Hip', 'Thigh') 0.4856550340489023\n",
      "('Chest', 'Hip', 'Knee') 0.4909378124151107\n",
      "('Chest', 'Hip', 'Ankle') 0.49697691726298787\n",
      "('Chest', 'Hip', 'Biceps') 0.4856149179374476\n",
      "('Chest', 'Hip', 'Forearm') 0.4971413665170109\n",
      "('Chest', 'Hip', 'Wrist') 0.5167179570246901\n",
      "('Chest', 'Thigh', 'Knee') 0.49092119190860695\n",
      "('Chest', 'Thigh', 'Ankle') 0.4970746386743755\n",
      "('Chest', 'Thigh', 'Biceps') 0.4871692405202319\n",
      "('Chest', 'Thigh', 'Forearm') 0.4970535221100879\n",
      "('Chest', 'Thigh', 'Wrist') 0.5167376581199418\n",
      "('Chest', 'Knee', 'Ankle') 0.49732675621711897\n",
      "('Chest', 'Knee', 'Biceps') 0.49256854909943304\n",
      "('Chest', 'Knee', 'Forearm') 0.4994947388277938\n",
      "('Chest', 'Knee', 'Wrist') 0.5168052624005146\n",
      "('Chest', 'Ankle', 'Biceps') 0.4990375948655664\n",
      "('Chest', 'Ankle', 'Forearm') 0.5022501072067924\n",
      "('Chest', 'Ankle', 'Wrist') 0.5175686299279925\n",
      "('Chest', 'Biceps', 'Forearm') 0.5046373373317135\n",
      "('Chest', 'Biceps', 'Wrist') 0.5237717386806805\n",
      "('Chest', 'Forearm', 'Wrist') 0.5189071939411454\n",
      "('Abdomen', 'Hip', 'Thigh') 0.7269336128160784\n",
      "('Abdomen', 'Hip', 'Knee') 0.7287484040080527\n",
      "('Abdomen', 'Hip', 'Ankle') 0.7265193960532028\n",
      "('Abdomen', 'Hip', 'Biceps') 0.7272806612809002\n",
      "('Abdomen', 'Hip', 'Forearm') 0.7278319923541224\n",
      "('Abdomen', 'Hip', 'Wrist') 0.747392425489848\n",
      "('Abdomen', 'Thigh', 'Knee') 0.6975120277622094\n",
      "('Abdomen', 'Thigh', 'Ankle') 0.6920767897521429\n",
      "('Abdomen', 'Thigh', 'Biceps') 0.6849301130212002\n",
      "('Abdomen', 'Thigh', 'Forearm') 0.6902301351077476\n",
      "('Abdomen', 'Thigh', 'Wrist') 0.7168202439173137\n",
      "('Abdomen', 'Knee', 'Ankle') 0.6980615593186542\n",
      "('Abdomen', 'Knee', 'Biceps') 0.6938377737316237\n",
      "('Abdomen', 'Knee', 'Forearm') 0.6983460013482533\n",
      "('Abdomen', 'Knee', 'Wrist') 0.7160729653653264\n",
      "('Abdomen', 'Ankle', 'Biceps') 0.6849190156020741\n",
      "('Abdomen', 'Ankle', 'Forearm') 0.6890364520858858\n",
      "('Abdomen', 'Ankle', 'Wrist') 0.7092120724595381\n",
      "('Abdomen', 'Biceps', 'Forearm') 0.6755558512071758\n",
      "('Abdomen', 'Biceps', 'Wrist') 0.7064994381419989\n",
      "('Abdomen', 'Forearm', 'Wrist') 0.7071048343188309\n",
      "('Hip', 'Thigh', 'Knee') 0.31734728765921494\n",
      "('Hip', 'Thigh', 'Ankle') 0.32545450664247266\n",
      "('Hip', 'Thigh', 'Biceps') 0.335675476770692\n",
      "('Hip', 'Thigh', 'Forearm') 0.3146971549690001\n",
      "('Hip', 'Thigh', 'Wrist') 0.31666948164657693\n",
      "('Hip', 'Knee', 'Ankle') 0.32521875850070336\n",
      "('Hip', 'Knee', 'Biceps') 0.3310068911527868\n",
      "('Hip', 'Knee', 'Forearm') 0.3156258083615975\n",
      "('Hip', 'Knee', 'Wrist') 0.3161889959117473\n",
      "('Hip', 'Ankle', 'Biceps') 0.3417560344129792\n",
      "('Hip', 'Ankle', 'Forearm') 0.32472077537854194\n",
      "('Hip', 'Ankle', 'Wrist') 0.3245945351198132\n",
      "('Hip', 'Biceps', 'Forearm') 0.3333532952720313\n",
      "('Hip', 'Biceps', 'Wrist') 0.3315486196949655\n",
      "('Hip', 'Forearm', 'Wrist') 0.3126388447626467\n",
      "('Thigh', 'Knee', 'Ankle') 0.21122324986560825\n",
      "('Thigh', 'Knee', 'Biceps') 0.24877299002623587\n",
      "('Thigh', 'Knee', 'Forearm') 0.20744144524372155\n",
      "('Thigh', 'Knee', 'Wrist') 0.20911980979605915\n",
      "('Thigh', 'Ankle', 'Biceps') 0.2525605404718587\n",
      "('Thigh', 'Ankle', 'Forearm') 0.21059504582926747\n",
      "('Thigh', 'Ankle', 'Wrist') 0.21610421929564572\n",
      "('Thigh', 'Biceps', 'Forearm') 0.25560544546599606\n",
      "('Thigh', 'Biceps', 'Wrist') 0.2491153634133627\n",
      "('Thigh', 'Forearm', 'Wrist') 0.20907987657687832\n",
      "('Knee', 'Ankle', 'Biceps') 0.24154330694866277\n",
      "('Knee', 'Ankle', 'Forearm') 0.15305014978146414\n",
      "('Knee', 'Ankle', 'Wrist') 0.15065529747215867\n",
      "('Knee', 'Biceps', 'Forearm') 0.24822646902617773\n",
      "('Knee', 'Biceps', 'Wrist') 0.24139366477651392\n",
      "('Knee', 'Forearm', 'Wrist') 0.15541573182512147\n",
      "('Ankle', 'Biceps', 'Forearm') 0.2374439486051967\n",
      "('Ankle', 'Biceps', 'Wrist') 0.23096171238775687\n",
      "('Ankle', 'Forearm', 'Wrist') 0.12132735676242756\n",
      "('Biceps', 'Forearm', 'Wrist') 0.2361110108996155\n"
     ]
    }
   ],
   "source": [
    "# your code here\n",
    "\n",
    "best_combo = ['', '', '', 0]\n",
    "for combo in itertools.combinations(allowed_factors, 3):\n",
    "    formula = 'Density~' + '+'.join(combo)\n",
    "    model = smf.ols(formula=formula, data=train_fat).fit()\n",
    "    print(combo, model.rsquared)\n",
    "    if model.rsquared > best_combo[3]:\n",
    "        best_combo = [combo[0], combo[1], combo[2], model.rsquared]\n",
    "\n",
    "# Fit the best model\n",
    "formula = 'Density~' + '+'.join(best_combo[:3])\n",
    "train_bmi3 = smf.ols(formula=formula, data=train_fat).fit()"
   ]
  },
  {
   "cell_type": "markdown",
   "metadata": {
    "deletable": false,
    "editable": false,
    "nbgrader": {
     "cell_type": "markdown",
     "checksum": "5ed7d175c220a1e949f4f3fc735d109a",
     "grade": false,
     "grade_id": "cell-a65e999c326a5638",
     "locked": true,
     "schema_version": 3,
     "solution": false,
     "task": false
    }
   },
   "source": [
    "### 3g. Conduct the algorithm above for $k=4$, leaving your best solution as the answer [Peer Review]"
   ]
  },
  {
   "cell_type": "code",
   "execution_count": 39,
   "metadata": {
    "deletable": false,
    "nbgrader": {
     "cell_type": "code",
     "checksum": "33b029c381341908d29ea3ea3e099c28",
     "grade": false,
     "grade_id": "cell-9338360b551afae7",
     "locked": false,
     "schema_version": 3,
     "solution": true,
     "task": false
    }
   },
   "outputs": [
    {
     "name": "stdout",
     "output_type": "stream",
     "text": [
      "('Age', 'Weight', 'Height', 'Neck') 0.571752927069116\n",
      "('Age', 'Weight', 'Height', 'Chest') 0.5713773375344625\n",
      "('Age', 'Weight', 'Height', 'Abdomen') 0.7356763305877057\n",
      "('Age', 'Weight', 'Height', 'Hip') 0.5664397828517369\n",
      "('Age', 'Weight', 'Height', 'Thigh') 0.5658100172735813\n",
      "('Age', 'Weight', 'Height', 'Knee') 0.5710557400430714\n",
      "('Age', 'Weight', 'Height', 'Ankle') 0.57692288249661\n",
      "('Age', 'Weight', 'Height', 'Biceps') 0.5691728580491022\n",
      "('Age', 'Weight', 'Height', 'Forearm') 0.572794346469129\n",
      "('Age', 'Weight', 'Height', 'Wrist') 0.6179284628908974\n",
      "('Age', 'Weight', 'Neck', 'Chest') 0.5360111600736308\n",
      "('Age', 'Weight', 'Neck', 'Abdomen') 0.7355501431648857\n",
      "('Age', 'Weight', 'Neck', 'Hip') 0.47555476547015374\n",
      "('Age', 'Weight', 'Neck', 'Thigh') 0.46372220203259695\n",
      "('Age', 'Weight', 'Neck', 'Knee') 0.4815218432176124\n",
      "('Age', 'Weight', 'Neck', 'Ankle') 0.46950327619914767\n",
      "('Age', 'Weight', 'Neck', 'Biceps') 0.47005282637727785\n",
      "('Age', 'Weight', 'Neck', 'Forearm') 0.4625953846732689\n",
      "('Age', 'Weight', 'Neck', 'Wrist') 0.535819540913625\n",
      "('Age', 'Weight', 'Chest', 'Abdomen') 0.7366177864406352\n",
      "('Age', 'Weight', 'Chest', 'Hip') 0.5419106664673772\n",
      "('Age', 'Weight', 'Chest', 'Thigh') 0.5418743220487177\n",
      "('Age', 'Weight', 'Chest', 'Knee') 0.536335688411065\n",
      "('Age', 'Weight', 'Chest', 'Ankle') 0.5346844617901083\n",
      "('Age', 'Weight', 'Chest', 'Biceps') 0.5433345482753311\n",
      "('Age', 'Weight', 'Chest', 'Forearm') 0.5360808928860972\n",
      "('Age', 'Weight', 'Chest', 'Wrist') 0.5846319932302559\n",
      "('Age', 'Weight', 'Abdomen', 'Hip') 0.7436809459348963\n",
      "('Age', 'Weight', 'Abdomen', 'Thigh') 0.736395202420401\n",
      "('Age', 'Weight', 'Abdomen', 'Knee') 0.7349327398669847\n",
      "('Age', 'Weight', 'Abdomen', 'Ankle') 0.7357365914075559\n",
      "('Age', 'Weight', 'Abdomen', 'Biceps') 0.7506619303391384\n",
      "('Age', 'Weight', 'Abdomen', 'Forearm') 0.7361817711098425\n",
      "('Age', 'Weight', 'Abdomen', 'Wrist') 0.7398021190397426\n",
      "('Age', 'Weight', 'Hip', 'Thigh') 0.47646797027474586\n",
      "('Age', 'Weight', 'Hip', 'Knee') 0.49927081290634456\n",
      "('Age', 'Weight', 'Hip', 'Ankle') 0.48480205163207946\n",
      "('Age', 'Weight', 'Hip', 'Biceps') 0.4894522484384455\n",
      "('Age', 'Weight', 'Hip', 'Forearm') 0.47723697758345407\n",
      "('Age', 'Weight', 'Hip', 'Wrist') 0.537894095254621\n",
      "('Age', 'Weight', 'Thigh', 'Knee') 0.497230726721679\n",
      "('Age', 'Weight', 'Thigh', 'Ankle') 0.4778417417574976\n",
      "('Age', 'Weight', 'Thigh', 'Biceps') 0.47034960726530484\n",
      "('Age', 'Weight', 'Thigh', 'Forearm') 0.46815764059467746\n",
      "('Age', 'Weight', 'Thigh', 'Wrist') 0.5359385093827556\n",
      "('Age', 'Weight', 'Knee', 'Ankle') 0.48426567225596184\n",
      "('Age', 'Weight', 'Knee', 'Biceps') 0.48905939726061287\n",
      "('Age', 'Weight', 'Knee', 'Forearm') 0.4856080392353479\n",
      "('Age', 'Weight', 'Knee', 'Wrist') 0.5472022718091618\n",
      "('Age', 'Weight', 'Ankle', 'Biceps') 0.4773329462404132\n",
      "('Age', 'Weight', 'Ankle', 'Forearm') 0.4721981778616722\n",
      "('Age', 'Weight', 'Ankle', 'Wrist') 0.5333919682514441\n",
      "('Age', 'Weight', 'Biceps', 'Forearm') 0.4827615737588784\n",
      "('Age', 'Weight', 'Biceps', 'Wrist') 0.5573061996917594\n",
      "('Age', 'Weight', 'Forearm', 'Wrist') 0.5331635793615173\n",
      "('Age', 'Height', 'Neck', 'Chest') 0.5506728838782127\n",
      "('Age', 'Height', 'Neck', 'Abdomen') 0.7140950675409357\n",
      "('Age', 'Height', 'Neck', 'Hip') 0.5264466225340474\n",
      "('Age', 'Height', 'Neck', 'Thigh') 0.46711273129381914\n",
      "('Age', 'Height', 'Neck', 'Knee') 0.40979648493773846\n",
      "('Age', 'Height', 'Neck', 'Ankle') 0.38965651049479055\n",
      "('Age', 'Height', 'Neck', 'Biceps') 0.4478708004112253\n",
      "('Age', 'Height', 'Neck', 'Forearm') 0.3724858860838658\n",
      "('Age', 'Height', 'Neck', 'Wrist') 0.36876729519223805\n",
      "('Age', 'Height', 'Chest', 'Abdomen') 0.7195890669161955\n",
      "('Age', 'Height', 'Chest', 'Hip') 0.5659645945284233\n",
      "('Age', 'Height', 'Chest', 'Thigh') 0.5632166485472937\n",
      "('Age', 'Height', 'Chest', 'Knee') 0.5514286364075727\n",
      "('Age', 'Height', 'Chest', 'Ankle') 0.5504459034589078\n",
      "('Age', 'Height', 'Chest', 'Biceps') 0.5668400858493102\n",
      "('Age', 'Height', 'Chest', 'Forearm') 0.5507688958116272\n",
      "('Age', 'Height', 'Chest', 'Wrist') 0.5709116442296471\n",
      "('Age', 'Height', 'Abdomen', 'Hip') 0.7320295531556396\n",
      "('Age', 'Height', 'Abdomen', 'Thigh') 0.7062410206901946\n",
      "('Age', 'Height', 'Abdomen', 'Knee') 0.7101498228026519\n",
      "('Age', 'Height', 'Abdomen', 'Ankle') 0.7077511021261949\n",
      "('Age', 'Height', 'Abdomen', 'Biceps') 0.7031760972957125\n",
      "('Age', 'Height', 'Abdomen', 'Forearm') 0.7055580660680878\n",
      "('Age', 'Height', 'Abdomen', 'Wrist') 0.7292745081142726\n",
      "('Age', 'Height', 'Hip', 'Thigh') 0.5250731371178906\n",
      "('Age', 'Height', 'Hip', 'Knee') 0.521930731927584\n",
      "('Age', 'Height', 'Hip', 'Ankle') 0.5219503393360043\n",
      "('Age', 'Height', 'Hip', 'Biceps') 0.5486365692203168\n",
      "('Age', 'Height', 'Hip', 'Forearm') 0.5237605952681503\n",
      "('Age', 'Height', 'Hip', 'Wrist') 0.5304761660596662\n",
      "('Age', 'Height', 'Thigh', 'Knee') 0.4534867902761536\n",
      "('Age', 'Height', 'Thigh', 'Ankle') 0.4534640710573645\n",
      "('Age', 'Height', 'Thigh', 'Biceps') 0.4918857290137525\n",
      "('Age', 'Height', 'Thigh', 'Forearm') 0.4584081523782436\n",
      "('Age', 'Height', 'Thigh', 'Wrist') 0.45446303352039163\n",
      "('Age', 'Height', 'Knee', 'Ankle') 0.3481026069742357\n",
      "('Age', 'Height', 'Knee', 'Biceps') 0.4597324465811431\n",
      "('Age', 'Height', 'Knee', 'Forearm') 0.360926158508344\n",
      "('Age', 'Height', 'Knee', 'Wrist') 0.33913675837148294\n",
      "('Age', 'Height', 'Ankle', 'Biceps') 0.4479898012078919\n",
      "('Age', 'Height', 'Ankle', 'Forearm') 0.31317629208719455\n",
      "('Age', 'Height', 'Ankle', 'Wrist') 0.2829912913064101\n",
      "('Age', 'Height', 'Biceps', 'Forearm') 0.4320599297251393\n",
      "('Age', 'Height', 'Biceps', 'Wrist') 0.43564173945051476\n",
      "('Age', 'Height', 'Forearm', 'Wrist') 0.27208682342446766\n",
      "('Age', 'Neck', 'Chest', 'Abdomen') 0.7061185240257594\n",
      "('Age', 'Neck', 'Chest', 'Hip') 0.5415953183836634\n",
      "('Age', 'Neck', 'Chest', 'Thigh') 0.5451230397901425\n",
      "('Age', 'Neck', 'Chest', 'Knee') 0.5363356338437242\n",
      "('Age', 'Neck', 'Chest', 'Ankle') 0.5360831827141386\n",
      "('Age', 'Neck', 'Chest', 'Biceps') 0.5514720902585808\n",
      "('Age', 'Neck', 'Chest', 'Forearm') 0.5367075657756939\n",
      "('Age', 'Neck', 'Chest', 'Wrist') 0.5696867443131424\n",
      "('Age', 'Neck', 'Abdomen', 'Hip') 0.737450617109533\n",
      "('Age', 'Neck', 'Abdomen', 'Thigh') 0.7009478448689166\n",
      "('Age', 'Neck', 'Abdomen', 'Knee') 0.7131672289940338\n",
      "('Age', 'Neck', 'Abdomen', 'Ankle') 0.7052917691535036\n",
      "('Age', 'Neck', 'Abdomen', 'Biceps') 0.7019959594561959\n",
      "('Age', 'Neck', 'Abdomen', 'Forearm') 0.6992213597153089\n",
      "('Age', 'Neck', 'Abdomen', 'Wrist') 0.7249535381121237\n",
      "('Age', 'Neck', 'Hip', 'Thigh') 0.47326214840989034\n",
      "('Age', 'Neck', 'Hip', 'Knee') 0.48456904265304546\n",
      "('Age', 'Neck', 'Hip', 'Ankle') 0.4754545184284308\n",
      "('Age', 'Neck', 'Hip', 'Biceps') 0.49014662400347175\n",
      "('Age', 'Neck', 'Hip', 'Forearm') 0.4719203636359751\n",
      "('Age', 'Neck', 'Hip', 'Wrist') 0.5152832385322053\n",
      "('Age', 'Neck', 'Thigh', 'Knee') 0.43230997595731446\n",
      "('Age', 'Neck', 'Thigh', 'Ankle') 0.42593537357585365\n",
      "('Age', 'Neck', 'Thigh', 'Biceps') 0.4457957646350944\n",
      "('Age', 'Neck', 'Thigh', 'Forearm') 0.42434732538063724\n",
      "('Age', 'Neck', 'Thigh', 'Wrist') 0.45305677764115415\n",
      "('Age', 'Neck', 'Knee', 'Ankle') 0.3525046344900007\n",
      "('Age', 'Neck', 'Knee', 'Biceps') 0.4079412559219987\n",
      "('Age', 'Neck', 'Knee', 'Forearm') 0.3501608131724775\n",
      "('Age', 'Neck', 'Knee', 'Wrist') 0.37546068786748654\n",
      "('Age', 'Neck', 'Ankle', 'Biceps') 0.40903547759206615\n",
      "('Age', 'Neck', 'Ankle', 'Forearm') 0.3487705911468115\n",
      "('Age', 'Neck', 'Ankle', 'Wrist') 0.38344254348875506\n",
      "('Age', 'Neck', 'Biceps', 'Forearm') 0.41207134987472727\n",
      "('Age', 'Neck', 'Biceps', 'Wrist') 0.4422624526297525\n",
      "('Age', 'Neck', 'Forearm', 'Wrist') 0.3550782366579954\n",
      "('Age', 'Chest', 'Abdomen', 'Hip') 0.7361037648730925\n",
      "('Age', 'Chest', 'Abdomen', 'Thigh') 0.70167373753824\n",
      "('Age', 'Chest', 'Abdomen', 'Knee') 0.7156953236370711\n",
      "('Age', 'Chest', 'Abdomen', 'Ankle') 0.7044000087971518\n",
      "('Age', 'Chest', 'Abdomen', 'Biceps') 0.6943478431823533\n",
      "('Age', 'Chest', 'Abdomen', 'Forearm') 0.6981633034377712\n",
      "('Age', 'Chest', 'Abdomen', 'Wrist') 0.7283907413718185\n",
      "('Age', 'Chest', 'Hip', 'Thigh') 0.5385851077004893\n",
      "('Age', 'Chest', 'Hip', 'Knee') 0.545942513401038\n",
      "('Age', 'Chest', 'Hip', 'Ankle') 0.541695810049327\n",
      "('Age', 'Chest', 'Hip', 'Biceps') 0.5423383893218604\n",
      "('Age', 'Chest', 'Hip', 'Forearm') 0.5410676075944052\n",
      "('Age', 'Chest', 'Hip', 'Wrist') 0.5827779130579771\n",
      "('Age', 'Chest', 'Thigh', 'Knee') 0.5505857396016657\n"
     ]
    },
    {
     "name": "stdout",
     "output_type": "stream",
     "text": [
      "('Age', 'Chest', 'Thigh', 'Ankle') 0.5444426267356421\n",
      "('Age', 'Chest', 'Thigh', 'Biceps') 0.5418162377033853\n",
      "('Age', 'Chest', 'Thigh', 'Forearm') 0.5432661648674022\n",
      "('Age', 'Chest', 'Thigh', 'Wrist') 0.5859119826846126\n",
      "('Age', 'Chest', 'Knee', 'Ankle') 0.5348644505031942\n",
      "('Age', 'Chest', 'Knee', 'Biceps') 0.5463735200574773\n",
      "('Age', 'Chest', 'Knee', 'Forearm') 0.5364168691747234\n",
      "('Age', 'Chest', 'Knee', 'Wrist') 0.5697600815232918\n",
      "('Age', 'Chest', 'Ankle', 'Biceps') 0.5441426377463435\n",
      "('Age', 'Chest', 'Ankle', 'Forearm') 0.5359228942046788\n",
      "('Age', 'Chest', 'Ankle', 'Wrist') 0.5736221257878189\n",
      "('Age', 'Chest', 'Biceps', 'Forearm') 0.5538543225276324\n",
      "('Age', 'Chest', 'Biceps', 'Wrist') 0.601787083694286\n",
      "('Age', 'Chest', 'Forearm', 'Wrist') 0.5687834901002367\n",
      "('Age', 'Abdomen', 'Hip', 'Thigh') 0.7273660901748612\n",
      "('Age', 'Abdomen', 'Hip', 'Knee') 0.729323749567484\n",
      "('Age', 'Abdomen', 'Hip', 'Ankle') 0.7277511414369235\n",
      "('Age', 'Abdomen', 'Hip', 'Biceps') 0.7277709306780407\n",
      "('Age', 'Abdomen', 'Hip', 'Forearm') 0.7293361345226417\n",
      "('Age', 'Abdomen', 'Hip', 'Wrist') 0.7473959872118439\n",
      "('Age', 'Abdomen', 'Thigh', 'Knee') 0.7024620372774715\n",
      "('Age', 'Abdomen', 'Thigh', 'Ankle') 0.6940188706558862\n",
      "('Age', 'Abdomen', 'Thigh', 'Biceps') 0.6881090120911366\n",
      "('Age', 'Abdomen', 'Thigh', 'Forearm') 0.6921566767789249\n",
      "('Age', 'Abdomen', 'Thigh', 'Wrist') 0.7246056493715813\n",
      "('Age', 'Abdomen', 'Knee', 'Ankle') 0.7037575568334886\n",
      "('Age', 'Abdomen', 'Knee', 'Biceps') 0.7035347603596664\n",
      "('Age', 'Abdomen', 'Knee', 'Forearm') 0.7044476474817982\n",
      "('Age', 'Abdomen', 'Knee', 'Wrist') 0.7280748129218082\n",
      "('Age', 'Abdomen', 'Ankle', 'Biceps') 0.6913415315866253\n",
      "('Age', 'Abdomen', 'Ankle', 'Forearm') 0.6939295924970802\n",
      "('Age', 'Abdomen', 'Ankle', 'Wrist') 0.723727960368576\n",
      "('Age', 'Abdomen', 'Biceps', 'Forearm') 0.6877710692466741\n",
      "('Age', 'Abdomen', 'Biceps', 'Wrist') 0.7330520482128325\n",
      "('Age', 'Abdomen', 'Forearm', 'Wrist') 0.7238092789041246\n",
      "('Age', 'Hip', 'Thigh', 'Knee') 0.4904657527002374\n",
      "('Age', 'Hip', 'Thigh', 'Ankle') 0.47727328003986247\n",
      "('Age', 'Hip', 'Thigh', 'Biceps') 0.48940755960387494\n",
      "('Age', 'Hip', 'Thigh', 'Forearm') 0.47235812179949876\n",
      "('Age', 'Hip', 'Thigh', 'Wrist') 0.5020958708067995\n",
      "('Age', 'Hip', 'Knee', 'Ankle') 0.4803280837666878\n",
      "('Age', 'Hip', 'Knee', 'Biceps') 0.5066499908228514\n",
      "('Age', 'Hip', 'Knee', 'Forearm') 0.48145809014749597\n",
      "('Age', 'Hip', 'Knee', 'Wrist') 0.49822888734284243\n",
      "('Age', 'Hip', 'Ankle', 'Biceps') 0.49491135002941145\n",
      "('Age', 'Hip', 'Ankle', 'Forearm') 0.4730657157435414\n",
      "('Age', 'Hip', 'Ankle', 'Wrist') 0.49700204778995016\n",
      "('Age', 'Hip', 'Biceps', 'Forearm') 0.4960557142972547\n",
      "('Age', 'Hip', 'Biceps', 'Wrist') 0.545944734131427\n",
      "('Age', 'Hip', 'Forearm', 'Wrist') 0.5034089938874748\n",
      "('Age', 'Thigh', 'Knee', 'Ankle') 0.42164847990694665\n",
      "('Age', 'Thigh', 'Knee', 'Biceps') 0.4536514673523294\n",
      "('Age', 'Thigh', 'Knee', 'Forearm') 0.4247420282102927\n",
      "('Age', 'Thigh', 'Knee', 'Wrist') 0.4278806111214657\n",
      "('Age', 'Thigh', 'Ankle', 'Biceps') 0.44704391771715757\n",
      "('Age', 'Thigh', 'Ankle', 'Forearm') 0.4188217996966743\n",
      "('Age', 'Thigh', 'Ankle', 'Wrist') 0.4270405586862599\n",
      "('Age', 'Thigh', 'Biceps', 'Forearm') 0.4494318280808408\n",
      "('Age', 'Thigh', 'Biceps', 'Wrist') 0.48001749069551114\n",
      "('Age', 'Thigh', 'Forearm', 'Wrist') 0.43463708825931613\n",
      "('Age', 'Knee', 'Ankle', 'Biceps') 0.40301171348963283\n",
      "('Age', 'Knee', 'Ankle', 'Forearm') 0.29860305323372405\n",
      "('Age', 'Knee', 'Ankle', 'Wrist') 0.28651006689913694\n",
      "('Age', 'Knee', 'Biceps', 'Forearm') 0.40449488189442073\n",
      "('Age', 'Knee', 'Biceps', 'Wrist') 0.4296657097155744\n",
      "('Age', 'Knee', 'Forearm', 'Wrist') 0.29735102104606936\n",
      "('Age', 'Ankle', 'Biceps', 'Forearm') 0.4077694163121931\n",
      "('Age', 'Ankle', 'Biceps', 'Wrist') 0.4426113721027537\n",
      "('Age', 'Ankle', 'Forearm', 'Wrist') 0.2819829395627932\n",
      "('Age', 'Biceps', 'Forearm', 'Wrist') 0.4113936467170428\n",
      "('Weight', 'Height', 'Neck', 'Chest') 0.529106335251336\n",
      "('Weight', 'Height', 'Neck', 'Abdomen') 0.7353332754766913\n",
      "('Weight', 'Height', 'Neck', 'Hip') 0.49637111144982604\n",
      "('Weight', 'Height', 'Neck', 'Thigh') 0.5062980022686916\n",
      "('Weight', 'Height', 'Neck', 'Knee') 0.49637318643443185\n",
      "('Weight', 'Height', 'Neck', 'Ankle') 0.5215728462738768\n",
      "('Weight', 'Height', 'Neck', 'Biceps') 0.49507859091624185\n",
      "('Weight', 'Height', 'Neck', 'Forearm') 0.5069625409791553\n",
      "('Weight', 'Height', 'Neck', 'Wrist') 0.5109124386087781\n",
      "('Weight', 'Height', 'Chest', 'Abdomen') 0.7361604377119402\n",
      "('Weight', 'Height', 'Chest', 'Hip') 0.5262708994999682\n",
      "('Weight', 'Height', 'Chest', 'Thigh') 0.5274233862262458\n",
      "('Weight', 'Height', 'Chest', 'Knee') 0.5263714875887642\n",
      "('Weight', 'Height', 'Chest', 'Ankle') 0.5365349093803773\n",
      "('Weight', 'Height', 'Chest', 'Biceps') 0.5286938219787314\n",
      "('Weight', 'Height', 'Chest', 'Forearm') 0.5345203860939725\n",
      "('Weight', 'Height', 'Chest', 'Wrist') 0.5455715107570156\n",
      "('Weight', 'Height', 'Abdomen', 'Hip') 0.7404298751907117\n",
      "('Weight', 'Height', 'Abdomen', 'Thigh') 0.7375788599412223\n",
      "('Weight', 'Height', 'Abdomen', 'Knee') 0.7347146470601205\n",
      "('Weight', 'Height', 'Abdomen', 'Ankle') 0.7358748341724692\n",
      "('Weight', 'Height', 'Abdomen', 'Biceps') 0.75299428101394\n",
      "('Weight', 'Height', 'Abdomen', 'Forearm') 0.736265482381889\n",
      "('Weight', 'Height', 'Abdomen', 'Wrist') 0.7400394910815509\n",
      "('Weight', 'Height', 'Hip', 'Thigh') 0.5048476933400006\n",
      "('Weight', 'Height', 'Hip', 'Knee') 0.49567540562151646\n",
      "('Weight', 'Height', 'Hip', 'Ankle') 0.5204253473881197\n",
      "('Weight', 'Height', 'Hip', 'Biceps') 0.49414524521575254\n",
      "('Weight', 'Height', 'Hip', 'Forearm') 0.5111364221335535\n",
      "('Weight', 'Height', 'Hip', 'Wrist') 0.515906930524068\n",
      "('Weight', 'Height', 'Thigh', 'Knee') 0.504885758141703\n",
      "('Weight', 'Height', 'Thigh', 'Ankle') 0.5243250316432028\n",
      "('Weight', 'Height', 'Thigh', 'Biceps') 0.5065545940506504\n",
      "('Weight', 'Height', 'Thigh', 'Forearm') 0.5188076243821657\n",
      "('Weight', 'Height', 'Thigh', 'Wrist') 0.5288243203598646\n",
      "('Weight', 'Height', 'Knee', 'Ankle') 0.5187627782787669\n",
      "('Weight', 'Height', 'Knee', 'Biceps') 0.4950178239540076\n",
      "('Weight', 'Height', 'Knee', 'Forearm') 0.5084562544504005\n",
      "('Weight', 'Height', 'Knee', 'Wrist') 0.5115879553280461\n",
      "('Weight', 'Height', 'Ankle', 'Biceps') 0.5188179834557708\n",
      "('Weight', 'Height', 'Ankle', 'Forearm') 0.5266207447589331\n",
      "('Weight', 'Height', 'Ankle', 'Wrist') 0.5280296666262937\n",
      "('Weight', 'Height', 'Biceps', 'Forearm') 0.5112398458820009\n",
      "('Weight', 'Height', 'Biceps', 'Wrist') 0.5121472105734792\n",
      "('Weight', 'Height', 'Forearm', 'Wrist') 0.5192444822337263\n",
      "('Weight', 'Neck', 'Chest', 'Abdomen') 0.7366253458949448\n",
      "('Weight', 'Neck', 'Chest', 'Hip') 0.49884137875738277\n",
      "('Weight', 'Neck', 'Chest', 'Thigh') 0.4975057612677988\n",
      "('Weight', 'Neck', 'Chest', 'Knee') 0.4961514689657637\n",
      "('Weight', 'Neck', 'Chest', 'Ankle') 0.49988430334314016\n",
      "('Weight', 'Neck', 'Chest', 'Biceps') 0.5051866830835051\n",
      "('Weight', 'Neck', 'Chest', 'Forearm') 0.5003193517729355\n",
      "('Weight', 'Neck', 'Chest', 'Wrist') 0.5171363727947784\n",
      "('Weight', 'Neck', 'Abdomen', 'Hip') 0.7426996482890208\n",
      "('Weight', 'Neck', 'Abdomen', 'Thigh') 0.7371535998407623\n",
      "('Weight', 'Neck', 'Abdomen', 'Knee') 0.7350919623033556\n",
      "('Weight', 'Neck', 'Abdomen', 'Ankle') 0.7358065328138192\n",
      "('Weight', 'Neck', 'Abdomen', 'Biceps') 0.754816506886196\n",
      "('Weight', 'Neck', 'Abdomen', 'Forearm') 0.7369060211127241\n",
      "('Weight', 'Neck', 'Abdomen', 'Wrist') 0.7397403246213112\n",
      "('Weight', 'Neck', 'Hip', 'Thigh') 0.3373417359421209\n",
      "('Weight', 'Neck', 'Hip', 'Knee') 0.3443557248326232\n",
      "('Weight', 'Neck', 'Hip', 'Ankle') 0.3579485485516045\n",
      "('Weight', 'Neck', 'Hip', 'Biceps') 0.3283738126255742\n",
      "('Weight', 'Neck', 'Hip', 'Forearm') 0.33976883173722294\n",
      "('Weight', 'Neck', 'Hip', 'Wrist') 0.3528291442011956\n",
      "('Weight', 'Neck', 'Thigh', 'Knee') 0.33355247167086344\n",
      "('Weight', 'Neck', 'Thigh', 'Ankle') 0.35006303453123877\n",
      "('Weight', 'Neck', 'Thigh', 'Biceps') 0.32088383272086163\n",
      "('Weight', 'Neck', 'Thigh', 'Forearm') 0.3369698538210486\n",
      "('Weight', 'Neck', 'Thigh', 'Wrist') 0.3569812377478676\n",
      "('Weight', 'Neck', 'Knee', 'Ankle') 0.35709367189189645\n",
      "('Weight', 'Neck', 'Knee', 'Biceps') 0.33468159185623403\n",
      "('Weight', 'Neck', 'Knee', 'Forearm') 0.35111817426139647\n",
      "('Weight', 'Neck', 'Knee', 'Wrist') 0.36001027090726456\n",
      "('Weight', 'Neck', 'Ankle', 'Biceps') 0.3513801608821038\n",
      "('Weight', 'Neck', 'Ankle', 'Forearm') 0.359934822748021\n",
      "('Weight', 'Neck', 'Ankle', 'Wrist') 0.3675996323950932\n",
      "('Weight', 'Neck', 'Biceps', 'Forearm') 0.3435265066819899\n",
      "('Weight', 'Neck', 'Biceps', 'Wrist') 0.35146798377988564\n"
     ]
    },
    {
     "name": "stdout",
     "output_type": "stream",
     "text": [
      "('Weight', 'Neck', 'Forearm', 'Wrist') 0.36066730449127393\n",
      "('Weight', 'Chest', 'Abdomen', 'Hip') 0.743536335834678\n",
      "('Weight', 'Chest', 'Abdomen', 'Thigh') 0.7376117004671321\n",
      "('Weight', 'Chest', 'Abdomen', 'Knee') 0.7362935272011775\n",
      "('Weight', 'Chest', 'Abdomen', 'Ankle') 0.7367475033429396\n",
      "('Weight', 'Chest', 'Abdomen', 'Biceps') 0.7524724648219935\n",
      "('Weight', 'Chest', 'Abdomen', 'Forearm') 0.7375915739969336\n",
      "('Weight', 'Chest', 'Abdomen', 'Wrist') 0.741038426991643\n",
      "('Weight', 'Chest', 'Hip', 'Thigh') 0.4984940267451887\n",
      "('Weight', 'Chest', 'Hip', 'Knee') 0.49866289050337376\n",
      "('Weight', 'Chest', 'Hip', 'Ankle') 0.5017641501362118\n",
      "('Weight', 'Chest', 'Hip', 'Biceps') 0.5061368734502918\n",
      "('Weight', 'Chest', 'Hip', 'Forearm') 0.5019110732304246\n",
      "('Weight', 'Chest', 'Hip', 'Wrist') 0.5174669157655837\n",
      "('Weight', 'Chest', 'Thigh', 'Knee') 0.49674036023089485\n",
      "('Weight', 'Chest', 'Thigh', 'Ankle') 0.5007532885700616\n",
      "('Weight', 'Chest', 'Thigh', 'Biceps') 0.5016997187097596\n",
      "('Weight', 'Chest', 'Thigh', 'Forearm') 0.5012430329039379\n",
      "('Weight', 'Chest', 'Thigh', 'Wrist') 0.5171241934786631\n",
      "('Weight', 'Chest', 'Knee', 'Ankle') 0.4983343126556189\n",
      "('Weight', 'Chest', 'Knee', 'Biceps') 0.5014394214988125\n",
      "('Weight', 'Chest', 'Knee', 'Forearm') 0.5003085778366032\n",
      "('Weight', 'Chest', 'Knee', 'Wrist') 0.5170103370931588\n",
      "('Weight', 'Chest', 'Ankle', 'Biceps') 0.504469293158341\n",
      "('Weight', 'Chest', 'Ankle', 'Forearm') 0.5025295557929106\n",
      "('Weight', 'Chest', 'Ankle', 'Wrist') 0.5175710885916174\n",
      "('Weight', 'Chest', 'Biceps', 'Forearm') 0.51442948194969\n",
      "('Weight', 'Chest', 'Biceps', 'Wrist') 0.5279982164817068\n",
      "('Weight', 'Chest', 'Forearm', 'Wrist') 0.5189077110847006\n",
      "('Weight', 'Abdomen', 'Hip', 'Thigh') 0.7481929828948988\n",
      "('Weight', 'Abdomen', 'Hip', 'Knee') 0.7403733803009254\n",
      "('Weight', 'Abdomen', 'Hip', 'Ankle') 0.7412918426433608\n",
      "('Weight', 'Abdomen', 'Hip', 'Biceps') 0.7552163201542644\n",
      "('Weight', 'Abdomen', 'Hip', 'Forearm') 0.7407199417277446\n",
      "('Weight', 'Abdomen', 'Hip', 'Wrist') 0.7497152934818181\n",
      "('Weight', 'Abdomen', 'Thigh', 'Knee') 0.7364401210964203\n",
      "('Weight', 'Abdomen', 'Thigh', 'Ankle') 0.7367108680950757\n",
      "('Weight', 'Abdomen', 'Thigh', 'Biceps') 0.750611428400772\n",
      "('Weight', 'Abdomen', 'Thigh', 'Forearm') 0.7376034580591093\n",
      "('Weight', 'Abdomen', 'Thigh', 'Wrist') 0.7406212422713729\n",
      "('Weight', 'Abdomen', 'Knee', 'Ankle') 0.7352089123587477\n",
      "('Weight', 'Abdomen', 'Knee', 'Biceps') 0.7504200803560626\n",
      "('Weight', 'Abdomen', 'Knee', 'Forearm') 0.7354571283075451\n",
      "('Weight', 'Abdomen', 'Knee', 'Wrist') 0.7397443515741111\n",
      "('Weight', 'Abdomen', 'Ankle', 'Biceps') 0.752040382650131\n",
      "('Weight', 'Abdomen', 'Ankle', 'Forearm') 0.7360876857687024\n",
      "('Weight', 'Abdomen', 'Ankle', 'Wrist') 0.7419249361694522\n",
      "('Weight', 'Abdomen', 'Biceps', 'Forearm') 0.7505615613204141\n",
      "('Weight', 'Abdomen', 'Biceps', 'Wrist') 0.7586453452817197\n",
      "('Weight', 'Abdomen', 'Forearm', 'Wrist') 0.7421338979651655\n",
      "('Weight', 'Hip', 'Thigh', 'Knee') 0.3445966837344888\n",
      "('Weight', 'Hip', 'Thigh', 'Ankle') 0.3584641843276727\n",
      "('Weight', 'Hip', 'Thigh', 'Biceps') 0.34079737485693773\n",
      "('Weight', 'Hip', 'Thigh', 'Forearm') 0.3399723690351063\n",
      "('Weight', 'Hip', 'Thigh', 'Wrist') 0.35286710058833304\n",
      "('Weight', 'Hip', 'Knee', 'Ankle') 0.3635342869968581\n",
      "('Weight', 'Hip', 'Knee', 'Biceps') 0.3441371051999871\n",
      "('Weight', 'Hip', 'Knee', 'Forearm') 0.3512018564826763\n",
      "('Weight', 'Hip', 'Knee', 'Wrist') 0.35551344966750187\n",
      "('Weight', 'Hip', 'Ankle', 'Biceps') 0.3586542294588304\n",
      "('Weight', 'Hip', 'Ankle', 'Forearm') 0.36101609561856274\n",
      "('Weight', 'Hip', 'Ankle', 'Wrist') 0.36504556230002605\n",
      "('Weight', 'Hip', 'Biceps', 'Forearm') 0.344695172257212\n",
      "('Weight', 'Hip', 'Biceps', 'Wrist') 0.3472475514596488\n",
      "('Weight', 'Hip', 'Forearm', 'Wrist') 0.3477051757044445\n",
      "('Weight', 'Thigh', 'Knee', 'Ankle') 0.3564725441097093\n",
      "('Weight', 'Thigh', 'Knee', 'Biceps') 0.33489665260373325\n",
      "('Weight', 'Thigh', 'Knee', 'Forearm') 0.3471838405895007\n",
      "('Weight', 'Thigh', 'Knee', 'Wrist') 0.3546740066299693\n",
      "('Weight', 'Thigh', 'Ankle', 'Biceps') 0.35176793317262245\n",
      "('Weight', 'Thigh', 'Ankle', 'Forearm') 0.3576163360706355\n",
      "('Weight', 'Thigh', 'Ankle', 'Wrist') 0.36410252266934007\n",
      "('Weight', 'Thigh', 'Biceps', 'Forearm') 0.348479650702054\n",
      "('Weight', 'Thigh', 'Biceps', 'Wrist') 0.35603792296741843\n",
      "('Weight', 'Thigh', 'Forearm', 'Wrist') 0.3532463049541025\n",
      "('Weight', 'Knee', 'Ankle', 'Biceps') 0.35822096723347063\n",
      "('Weight', 'Knee', 'Ankle', 'Forearm') 0.36537854927107494\n",
      "('Weight', 'Knee', 'Ankle', 'Wrist') 0.3685026846501971\n",
      "('Weight', 'Knee', 'Biceps', 'Forearm') 0.3575385196625407\n",
      "('Weight', 'Knee', 'Biceps', 'Wrist') 0.35691644500728337\n",
      "('Weight', 'Knee', 'Forearm', 'Wrist') 0.3611238187951312\n",
      "('Weight', 'Ankle', 'Biceps', 'Forearm') 0.36542784480287094\n",
      "('Weight', 'Ankle', 'Biceps', 'Wrist') 0.36637507721798024\n",
      "('Weight', 'Ankle', 'Forearm', 'Wrist') 0.3674348953191495\n",
      "('Weight', 'Biceps', 'Forearm', 'Wrist') 0.36143113407749006\n",
      "('Height', 'Neck', 'Chest', 'Abdomen') 0.721057794960758\n",
      "('Height', 'Neck', 'Chest', 'Hip') 0.52504976828468\n",
      "('Height', 'Neck', 'Chest', 'Thigh') 0.5232085336983047\n",
      "('Height', 'Neck', 'Chest', 'Knee') 0.5229815671722557\n",
      "('Height', 'Neck', 'Chest', 'Ankle') 0.5234209098896014\n",
      "('Height', 'Neck', 'Chest', 'Biceps') 0.5312149969053745\n",
      "('Height', 'Neck', 'Chest', 'Forearm') 0.5244809215448983\n",
      "('Height', 'Neck', 'Chest', 'Wrist') 0.5343831904950567\n",
      "('Height', 'Neck', 'Abdomen', 'Hip') 0.739360472357767\n",
      "('Height', 'Neck', 'Abdomen', 'Thigh') 0.7132129283680958\n",
      "('Height', 'Neck', 'Abdomen', 'Knee') 0.714960678541402\n",
      "('Height', 'Neck', 'Abdomen', 'Ankle') 0.714436399421952\n",
      "('Height', 'Neck', 'Abdomen', 'Biceps') 0.7126015136442078\n",
      "('Height', 'Neck', 'Abdomen', 'Forearm') 0.710101225015241\n",
      "('Height', 'Neck', 'Abdomen', 'Wrist') 0.7216712747150438\n",
      "('Height', 'Neck', 'Hip', 'Thigh') 0.43868066249079607\n",
      "('Height', 'Neck', 'Hip', 'Knee') 0.43509542746625995\n",
      "('Height', 'Neck', 'Hip', 'Ankle') 0.4387175434714936\n",
      "('Height', 'Neck', 'Hip', 'Biceps') 0.4435768193831402\n",
      "('Height', 'Neck', 'Hip', 'Forearm') 0.435133859422018\n",
      "('Height', 'Neck', 'Hip', 'Wrist') 0.43678975831914857\n",
      "('Height', 'Neck', 'Thigh', 'Knee') 0.3651435026222394\n",
      "('Height', 'Neck', 'Thigh', 'Ankle') 0.35158841010671293\n",
      "('Height', 'Neck', 'Thigh', 'Biceps') 0.3715957190283823\n",
      "('Height', 'Neck', 'Thigh', 'Forearm') 0.3516071364023211\n",
      "('Height', 'Neck', 'Thigh', 'Wrist') 0.351425140768752\n",
      "('Height', 'Neck', 'Knee', 'Ankle') 0.3541773441832995\n",
      "('Height', 'Neck', 'Knee', 'Biceps') 0.38498363213563946\n",
      "('Height', 'Neck', 'Knee', 'Forearm') 0.35398930449961186\n",
      "('Height', 'Neck', 'Knee', 'Wrist') 0.35644212137715947\n",
      "('Height', 'Neck', 'Ankle', 'Biceps') 0.3589389702975925\n",
      "('Height', 'Neck', 'Ankle', 'Forearm') 0.31476284971411284\n",
      "('Height', 'Neck', 'Ankle', 'Wrist') 0.3154615292312324\n",
      "('Height', 'Neck', 'Biceps', 'Forearm') 0.36326572527882595\n",
      "('Height', 'Neck', 'Biceps', 'Wrist') 0.35810700108279103\n",
      "('Height', 'Neck', 'Forearm', 'Wrist') 0.3063938782285145\n",
      "('Height', 'Chest', 'Abdomen', 'Hip') 0.7418142642487001\n",
      "('Height', 'Chest', 'Abdomen', 'Thigh') 0.7209404823802398\n",
      "('Height', 'Chest', 'Abdomen', 'Knee') 0.7218126005596472\n",
      "('Height', 'Chest', 'Abdomen', 'Ankle') 0.7205300591812573\n",
      "('Height', 'Chest', 'Abdomen', 'Biceps') 0.7170491252715572\n",
      "('Height', 'Chest', 'Abdomen', 'Forearm') 0.716929184725042\n",
      "('Height', 'Chest', 'Abdomen', 'Wrist') 0.7287493902309481\n",
      "('Height', 'Chest', 'Hip', 'Thigh') 0.5243406760486351\n",
      "('Height', 'Chest', 'Hip', 'Knee') 0.5242265683531395\n",
      "('Height', 'Chest', 'Hip', 'Ankle') 0.5283457014671438\n",
      "('Height', 'Chest', 'Hip', 'Biceps') 0.5285313591203967\n",
      "('Height', 'Chest', 'Hip', 'Forearm') 0.5279219403877946\n",
      "('Height', 'Chest', 'Hip', 'Wrist') 0.5372143399529364\n",
      "('Height', 'Chest', 'Thigh', 'Knee') 0.5223910280789745\n",
      "('Height', 'Chest', 'Thigh', 'Ankle') 0.5258729102496509\n",
      "('Height', 'Chest', 'Thigh', 'Biceps') 0.5277102927460593\n",
      "('Height', 'Chest', 'Thigh', 'Forearm') 0.5261514762618188\n",
      "('Height', 'Chest', 'Thigh', 'Wrist') 0.535296674509663\n",
      "('Height', 'Chest', 'Knee', 'Ankle') 0.5259289647600076\n",
      "('Height', 'Chest', 'Knee', 'Biceps') 0.5276625443639109\n",
      "('Height', 'Chest', 'Knee', 'Forearm') 0.5259502767199797\n",
      "('Height', 'Chest', 'Knee', 'Wrist') 0.5372212016375923\n"
     ]
    },
    {
     "name": "stdout",
     "output_type": "stream",
     "text": [
      "('Height', 'Chest', 'Ankle', 'Biceps') 0.531189301407466\n",
      "('Height', 'Chest', 'Ankle', 'Forearm') 0.5250237694546975\n",
      "('Height', 'Chest', 'Ankle', 'Wrist') 0.5338518737915094\n",
      "('Height', 'Chest', 'Biceps', 'Forearm') 0.5394467213992036\n",
      "('Height', 'Chest', 'Biceps', 'Wrist') 0.5469657144449628\n",
      "('Height', 'Chest', 'Forearm', 'Wrist') 0.5342923261300448\n",
      "('Height', 'Abdomen', 'Hip', 'Thigh') 0.733059032932516\n",
      "('Height', 'Abdomen', 'Hip', 'Knee') 0.7319925792533812\n",
      "('Height', 'Abdomen', 'Hip', 'Ankle') 0.7315448267192199\n",
      "('Height', 'Abdomen', 'Hip', 'Biceps') 0.7346266039676634\n",
      "('Height', 'Abdomen', 'Hip', 'Forearm') 0.7323857132571173\n",
      "('Height', 'Abdomen', 'Hip', 'Wrist') 0.7483158809009118\n",
      "('Height', 'Abdomen', 'Thigh', 'Knee') 0.707934243116504\n",
      "('Height', 'Abdomen', 'Thigh', 'Ankle') 0.7079849685852417\n",
      "('Height', 'Abdomen', 'Thigh', 'Biceps') 0.70761281948632\n",
      "('Height', 'Abdomen', 'Thigh', 'Forearm') 0.707157909384196\n",
      "('Height', 'Abdomen', 'Thigh', 'Wrist') 0.7244129321651698\n",
      "('Height', 'Abdomen', 'Knee', 'Ankle') 0.7080363238426393\n",
      "('Height', 'Abdomen', 'Knee', 'Biceps') 0.7053830071457676\n",
      "('Height', 'Abdomen', 'Knee', 'Forearm') 0.7076368857086297\n",
      "('Height', 'Abdomen', 'Knee', 'Wrist') 0.7218696921255126\n",
      "('Height', 'Abdomen', 'Ankle', 'Biceps') 0.7053085150046094\n",
      "('Height', 'Abdomen', 'Ankle', 'Forearm') 0.7063781556580457\n",
      "('Height', 'Abdomen', 'Ankle', 'Wrist') 0.7200770610931517\n",
      "('Height', 'Abdomen', 'Biceps', 'Forearm') 0.7032179509588682\n",
      "('Height', 'Abdomen', 'Biceps', 'Wrist') 0.7218535798563757\n",
      "('Height', 'Abdomen', 'Forearm', 'Wrist') 0.7193222602702039\n",
      "('Height', 'Hip', 'Thigh', 'Knee') 0.42325289470976823\n",
      "('Height', 'Hip', 'Thigh', 'Ankle') 0.41902989073320784\n",
      "('Height', 'Hip', 'Thigh', 'Biceps') 0.44777730884807143\n",
      "('Height', 'Hip', 'Thigh', 'Forearm') 0.4187539688306158\n",
      "('Height', 'Hip', 'Thigh', 'Wrist') 0.4182687120645544\n",
      "('Height', 'Hip', 'Knee', 'Ankle') 0.4252824681990951\n",
      "('Height', 'Hip', 'Knee', 'Biceps') 0.43934999359029026\n",
      "('Height', 'Hip', 'Knee', 'Forearm') 0.41978676543731686\n",
      "('Height', 'Hip', 'Knee', 'Wrist') 0.4196177713983741\n",
      "('Height', 'Hip', 'Ankle', 'Biceps') 0.44287247543939867\n",
      "('Height', 'Hip', 'Ankle', 'Forearm') 0.42048562194592887\n",
      "('Height', 'Hip', 'Ankle', 'Wrist') 0.4206532446055111\n",
      "('Height', 'Hip', 'Biceps', 'Forearm') 0.44183307138139327\n",
      "('Height', 'Hip', 'Biceps', 'Wrist') 0.438973837270228\n",
      "('Height', 'Hip', 'Forearm', 'Wrist') 0.4171883698030707\n",
      "('Height', 'Thigh', 'Knee', 'Ankle') 0.31858208317952597\n",
      "('Height', 'Thigh', 'Knee', 'Biceps') 0.3687932281343853\n",
      "('Height', 'Thigh', 'Knee', 'Forearm') 0.32063081239895286\n",
      "('Height', 'Thigh', 'Knee', 'Wrist') 0.3237416858056352\n",
      "('Height', 'Thigh', 'Ankle', 'Biceps') 0.34632352939335376\n",
      "('Height', 'Thigh', 'Ankle', 'Forearm') 0.2975590643723438\n",
      "('Height', 'Thigh', 'Ankle', 'Wrist') 0.3099763333941643\n",
      "('Height', 'Thigh', 'Biceps', 'Forearm') 0.34783655477634146\n",
      "('Height', 'Thigh', 'Biceps', 'Wrist') 0.34845436384297646\n",
      "('Height', 'Thigh', 'Forearm', 'Wrist') 0.3095145058507456\n",
      "('Height', 'Knee', 'Ankle', 'Biceps') 0.3662949653493729\n",
      "('Height', 'Knee', 'Ankle', 'Forearm') 0.2829313923708161\n",
      "('Height', 'Knee', 'Ankle', 'Wrist') 0.2812654941324878\n",
      "('Height', 'Knee', 'Biceps', 'Forearm') 0.36995049130526647\n",
      "('Height', 'Knee', 'Biceps', 'Wrist') 0.36561491673745905\n",
      "('Height', 'Knee', 'Forearm', 'Wrist') 0.28818227599821156\n",
      "('Height', 'Ankle', 'Biceps', 'Forearm') 0.325807209293964\n",
      "('Height', 'Ankle', 'Biceps', 'Wrist') 0.3234466863630656\n",
      "('Height', 'Ankle', 'Forearm', 'Wrist') 0.2076125997931909\n",
      "('Height', 'Biceps', 'Forearm', 'Wrist') 0.3205644040941791\n",
      "('Neck', 'Chest', 'Abdomen', 'Hip') 0.7411710710368664\n",
      "('Neck', 'Chest', 'Abdomen', 'Thigh') 0.7063952078002735\n",
      "('Neck', 'Chest', 'Abdomen', 'Knee') 0.716043817958586\n",
      "('Neck', 'Chest', 'Abdomen', 'Ankle') 0.7082940112661107\n",
      "('Neck', 'Chest', 'Abdomen', 'Biceps') 0.6973876598816364\n",
      "('Neck', 'Chest', 'Abdomen', 'Forearm') 0.6985088012127891\n",
      "('Neck', 'Chest', 'Abdomen', 'Wrist') 0.7156316912793171\n",
      "('Neck', 'Chest', 'Hip', 'Thigh') 0.49041795928416854\n",
      "('Neck', 'Chest', 'Hip', 'Knee') 0.4942830509175241\n",
      "('Neck', 'Chest', 'Hip', 'Ankle') 0.49993130220089554\n",
      "('Neck', 'Chest', 'Hip', 'Biceps') 0.494312646975284\n",
      "('Neck', 'Chest', 'Hip', 'Forearm') 0.4983525287710193\n",
      "('Neck', 'Chest', 'Hip', 'Wrist') 0.5167512465557867\n",
      "('Neck', 'Chest', 'Thigh', 'Knee') 0.4945596027622807\n",
      "('Neck', 'Chest', 'Thigh', 'Ankle') 0.500598595140052\n",
      "('Neck', 'Chest', 'Thigh', 'Biceps') 0.4948134930808341\n",
      "('Neck', 'Chest', 'Thigh', 'Forearm') 0.498286214570144\n",
      "('Neck', 'Chest', 'Thigh', 'Wrist') 0.5167929383278248\n",
      "('Neck', 'Chest', 'Knee', 'Ankle') 0.4996478321266906\n",
      "('Neck', 'Chest', 'Knee', 'Biceps') 0.4990512476193395\n",
      "('Neck', 'Chest', 'Knee', 'Forearm') 0.5002223611581751\n",
      "('Neck', 'Chest', 'Knee', 'Wrist') 0.516855438764687\n",
      "('Neck', 'Chest', 'Ankle', 'Biceps') 0.5053426378222323\n",
      "('Neck', 'Chest', 'Ankle', 'Forearm') 0.5030606950355916\n",
      "('Neck', 'Chest', 'Ankle', 'Wrist') 0.5176192102779571\n",
      "('Neck', 'Chest', 'Biceps', 'Forearm') 0.5092305288717722\n",
      "('Neck', 'Chest', 'Biceps', 'Wrist') 0.524429777294726\n",
      "('Neck', 'Chest', 'Forearm', 'Wrist') 0.5192774464894552\n",
      "('Neck', 'Abdomen', 'Hip', 'Thigh') 0.7421839153823087\n",
      "('Neck', 'Abdomen', 'Hip', 'Knee') 0.7375785416285494\n",
      "('Neck', 'Abdomen', 'Hip', 'Ankle') 0.7364184502767335\n",
      "('Neck', 'Abdomen', 'Hip', 'Biceps') 0.7472703947683985\n",
      "('Neck', 'Abdomen', 'Hip', 'Forearm') 0.7362586413950039\n",
      "('Neck', 'Abdomen', 'Hip', 'Wrist') 0.748739488696703\n",
      "('Neck', 'Abdomen', 'Thigh', 'Knee') 0.708045571925205\n",
      "('Neck', 'Abdomen', 'Thigh', 'Ankle') 0.7032978948172892\n",
      "('Neck', 'Abdomen', 'Thigh', 'Biceps') 0.7035391042741347\n",
      "('Neck', 'Abdomen', 'Thigh', 'Forearm') 0.698886019031355\n",
      "('Neck', 'Abdomen', 'Thigh', 'Wrist') 0.7179913642394575\n",
      "('Neck', 'Abdomen', 'Knee', 'Ankle') 0.70931249641952\n",
      "('Neck', 'Abdomen', 'Knee', 'Biceps') 0.7104851827134053\n",
      "('Neck', 'Abdomen', 'Knee', 'Forearm') 0.7075642940995119\n",
      "('Neck', 'Abdomen', 'Knee', 'Wrist') 0.7188977098744068\n",
      "('Neck', 'Abdomen', 'Ankle', 'Biceps') 0.7031961408999604\n",
      "('Neck', 'Abdomen', 'Ankle', 'Forearm') 0.7008422438751134\n",
      "('Neck', 'Abdomen', 'Ankle', 'Wrist') 0.7129856207886165\n",
      "('Neck', 'Abdomen', 'Biceps', 'Forearm') 0.693291427214468\n",
      "('Neck', 'Abdomen', 'Biceps', 'Wrist') 0.7129954806560144\n",
      "('Neck', 'Abdomen', 'Forearm', 'Wrist') 0.7101536484632502\n",
      "('Neck', 'Hip', 'Thigh', 'Knee') 0.3387328088839201\n",
      "('Neck', 'Hip', 'Thigh', 'Ankle') 0.34707609261741545\n",
      "('Neck', 'Hip', 'Thigh', 'Biceps') 0.34281234419341566\n",
      "('Neck', 'Hip', 'Thigh', 'Forearm') 0.3392675448177138\n",
      "('Neck', 'Hip', 'Thigh', 'Wrist') 0.35171873679638155\n",
      "('Neck', 'Hip', 'Knee', 'Ankle') 0.34612307174823664\n",
      "('Neck', 'Hip', 'Knee', 'Biceps') 0.33937218804812974\n",
      "('Neck', 'Hip', 'Knee', 'Forearm') 0.3393603405186477\n",
      "('Neck', 'Hip', 'Knee', 'Wrist') 0.34524822719792725\n",
      "('Neck', 'Hip', 'Ankle', 'Biceps') 0.34986882215615966\n",
      "('Neck', 'Hip', 'Ankle', 'Forearm') 0.34603838277637433\n",
      "('Neck', 'Hip', 'Ankle', 'Wrist') 0.35038958389398234\n",
      "('Neck', 'Hip', 'Biceps', 'Forearm') 0.34409170581472837\n",
      "('Neck', 'Hip', 'Biceps', 'Wrist') 0.348293933713972\n",
      "('Neck', 'Hip', 'Forearm', 'Wrist') 0.34454876287253944\n",
      "('Neck', 'Thigh', 'Knee', 'Ankle') 0.2665777830982249\n",
      "('Neck', 'Thigh', 'Knee', 'Biceps') 0.27333422278100583\n",
      "('Neck', 'Thigh', 'Knee', 'Forearm') 0.2641103068539308\n",
      "('Neck', 'Thigh', 'Knee', 'Wrist') 0.26697474312136127\n",
      "('Neck', 'Thigh', 'Ankle', 'Biceps') 0.2798413384542813\n",
      "('Neck', 'Thigh', 'Ankle', 'Forearm') 0.2680217613046103\n",
      "('Neck', 'Thigh', 'Ankle', 'Wrist') 0.2687950073363804\n",
      "('Neck', 'Thigh', 'Biceps', 'Forearm') 0.2885307412959027\n",
      "('Neck', 'Thigh', 'Biceps', 'Wrist') 0.28486951869373234\n",
      "('Neck', 'Thigh', 'Forearm', 'Wrist') 0.2686370264894794\n",
      "('Neck', 'Knee', 'Ankle', 'Biceps') 0.2724095323316279\n",
      "('Neck', 'Knee', 'Ankle', 'Forearm') 0.24682105955328915\n",
      "('Neck', 'Knee', 'Ankle', 'Wrist') 0.253190726046401\n",
      "('Neck', 'Knee', 'Biceps', 'Forearm') 0.28515922372881075\n",
      "('Neck', 'Knee', 'Biceps', 'Wrist') 0.28369548685685086\n",
      "('Neck', 'Knee', 'Forearm', 'Wrist') 0.25406642476359464\n",
      "('Neck', 'Ankle', 'Biceps', 'Forearm') 0.2826298110356117\n",
      "('Neck', 'Ankle', 'Biceps', 'Wrist') 0.27898051108552047\n",
      "('Neck', 'Ankle', 'Forearm', 'Wrist') 0.24286946253986275\n",
      "('Neck', 'Biceps', 'Forearm', 'Wrist') 0.28970386972131845\n",
      "('Chest', 'Abdomen', 'Hip', 'Thigh') 0.7370791420293175\n",
      "('Chest', 'Abdomen', 'Hip', 'Knee') 0.7381601208102162\n",
      "('Chest', 'Abdomen', 'Hip', 'Ankle') 0.7356563065378445\n",
      "('Chest', 'Abdomen', 'Hip', 'Biceps') 0.7393421162906431\n",
      "('Chest', 'Abdomen', 'Hip', 'Forearm') 0.7357862870909593\n",
      "('Chest', 'Abdomen', 'Hip', 'Wrist') 0.7512408773198518\n",
      "('Chest', 'Abdomen', 'Thigh', 'Knee') 0.7118376860071798\n"
     ]
    },
    {
     "name": "stdout",
     "output_type": "stream",
     "text": [
      "('Chest', 'Abdomen', 'Thigh', 'Ankle') 0.7051920869359376\n",
      "('Chest', 'Abdomen', 'Thigh', 'Biceps') 0.7023447758215924\n",
      "('Chest', 'Abdomen', 'Thigh', 'Forearm') 0.7019968331194477\n",
      "('Chest', 'Abdomen', 'Thigh', 'Wrist') 0.7229194324788679\n",
      "('Chest', 'Abdomen', 'Knee', 'Ankle') 0.712026398999\n",
      "('Chest', 'Abdomen', 'Knee', 'Biceps') 0.7107413728933021\n",
      "('Chest', 'Abdomen', 'Knee', 'Forearm') 0.7110533144468247\n",
      "('Chest', 'Abdomen', 'Knee', 'Wrist') 0.723918890761091\n",
      "('Chest', 'Abdomen', 'Ankle', 'Biceps') 0.6998235013532198\n",
      "('Chest', 'Abdomen', 'Ankle', 'Forearm') 0.7010519648249544\n",
      "('Chest', 'Abdomen', 'Ankle', 'Wrist') 0.7166253000164806\n",
      "('Chest', 'Abdomen', 'Biceps', 'Forearm') 0.6900483269211171\n",
      "('Chest', 'Abdomen', 'Biceps', 'Wrist') 0.7153597442084325\n",
      "('Chest', 'Abdomen', 'Forearm', 'Wrist') 0.7140504362858076\n",
      "('Chest', 'Hip', 'Thigh', 'Knee') 0.4909426763216109\n",
      "('Chest', 'Hip', 'Thigh', 'Ankle') 0.49709652635074786\n",
      "('Chest', 'Hip', 'Thigh', 'Biceps') 0.4872455293327925\n",
      "('Chest', 'Hip', 'Thigh', 'Forearm') 0.49714140097636017\n",
      "('Chest', 'Hip', 'Thigh', 'Wrist') 0.516763460536773\n",
      "('Chest', 'Hip', 'Knee', 'Ankle') 0.49803140158971004\n",
      "('Chest', 'Hip', 'Knee', 'Biceps') 0.4925775628754123\n",
      "('Chest', 'Hip', 'Knee', 'Forearm') 0.4996974618646186\n",
      "('Chest', 'Hip', 'Knee', 'Wrist') 0.5168411071346296\n",
      "('Chest', 'Hip', 'Ankle', 'Biceps') 0.49904042733013665\n",
      "('Chest', 'Hip', 'Ankle', 'Forearm') 0.502613606321372\n",
      "('Chest', 'Hip', 'Ankle', 'Wrist') 0.5177706849494836\n",
      "('Chest', 'Hip', 'Biceps', 'Forearm') 0.50656299877802\n",
      "('Chest', 'Hip', 'Biceps', 'Wrist') 0.5246731846025365\n",
      "('Chest', 'Hip', 'Forearm', 'Wrist') 0.5189789386079531\n",
      "('Chest', 'Thigh', 'Knee', 'Ankle') 0.49833060269884843\n",
      "('Chest', 'Thigh', 'Knee', 'Biceps') 0.49274477187098986\n",
      "('Chest', 'Thigh', 'Knee', 'Forearm') 0.49999316506021696\n",
      "('Chest', 'Thigh', 'Knee', 'Wrist') 0.5168066973100485\n",
      "('Chest', 'Thigh', 'Ankle', 'Biceps') 0.49905740057018677\n",
      "('Chest', 'Thigh', 'Ankle', 'Forearm') 0.5030446470307585\n",
      "('Chest', 'Thigh', 'Ankle', 'Wrist') 0.5177153257782761\n",
      "('Chest', 'Thigh', 'Biceps', 'Forearm') 0.5078035138458419\n",
      "('Chest', 'Thigh', 'Biceps', 'Wrist') 0.5267293711337955\n",
      "('Chest', 'Thigh', 'Forearm', 'Wrist') 0.5189781464415961\n",
      "('Chest', 'Knee', 'Ankle', 'Biceps') 0.5002913570374614\n",
      "('Chest', 'Knee', 'Ankle', 'Forearm') 0.5024769889558433\n",
      "('Chest', 'Knee', 'Ankle', 'Wrist') 0.5175939524837803\n",
      "('Chest', 'Knee', 'Biceps', 'Forearm') 0.5096380993192935\n",
      "('Chest', 'Knee', 'Biceps', 'Wrist') 0.5246437341453327\n",
      "('Chest', 'Knee', 'Forearm', 'Wrist') 0.5189072348711515\n",
      "('Chest', 'Ankle', 'Biceps', 'Forearm') 0.5116133864938228\n",
      "('Chest', 'Ankle', 'Biceps', 'Wrist') 0.5257326838957246\n",
      "('Chest', 'Ankle', 'Forearm', 'Wrist') 0.5191712753337688\n",
      "('Chest', 'Biceps', 'Forearm', 'Wrist') 0.5335823094054735\n",
      "('Abdomen', 'Hip', 'Thigh', 'Knee') 0.7334319409040841\n",
      "('Abdomen', 'Hip', 'Thigh', 'Ankle') 0.7297138011020489\n",
      "('Abdomen', 'Hip', 'Thigh', 'Biceps') 0.7279296925528651\n",
      "('Abdomen', 'Hip', 'Thigh', 'Forearm') 0.730814133523088\n",
      "('Abdomen', 'Hip', 'Thigh', 'Wrist') 0.7507168752149539\n",
      "('Abdomen', 'Hip', 'Knee', 'Ankle') 0.728880482045646\n",
      "('Abdomen', 'Hip', 'Knee', 'Biceps') 0.7320932761083321\n",
      "('Abdomen', 'Hip', 'Knee', 'Forearm') 0.7301536034565478\n",
      "('Abdomen', 'Hip', 'Knee', 'Wrist') 0.7474174817638277\n",
      "('Abdomen', 'Hip', 'Ankle', 'Biceps') 0.7293602463349278\n",
      "('Abdomen', 'Hip', 'Ankle', 'Forearm') 0.7281945002612018\n",
      "('Abdomen', 'Hip', 'Ankle', 'Wrist') 0.7486116093092396\n",
      "('Abdomen', 'Hip', 'Biceps', 'Forearm') 0.735415711282678\n",
      "('Abdomen', 'Hip', 'Biceps', 'Wrist') 0.7586324025817397\n",
      "('Abdomen', 'Hip', 'Forearm', 'Wrist') 0.7474760667448103\n",
      "('Abdomen', 'Thigh', 'Knee', 'Ankle') 0.6998228330291818\n",
      "('Abdomen', 'Thigh', 'Knee', 'Biceps') 0.6985794277250286\n",
      "('Abdomen', 'Thigh', 'Knee', 'Forearm') 0.7006099070063514\n",
      "('Abdomen', 'Thigh', 'Knee', 'Wrist') 0.7195067054072294\n",
      "('Abdomen', 'Thigh', 'Ankle', 'Biceps') 0.6931592467891354\n",
      "('Abdomen', 'Thigh', 'Ankle', 'Forearm') 0.6947335651119251\n",
      "('Abdomen', 'Thigh', 'Ankle', 'Wrist') 0.7168635142404027\n",
      "('Abdomen', 'Thigh', 'Biceps', 'Forearm') 0.6961162856138177\n",
      "('Abdomen', 'Thigh', 'Biceps', 'Wrist') 0.725986938094187\n",
      "('Abdomen', 'Thigh', 'Forearm', 'Wrist') 0.7168666209636907\n",
      "('Abdomen', 'Knee', 'Ankle', 'Biceps') 0.6982526122186149\n",
      "('Abdomen', 'Knee', 'Ankle', 'Forearm') 0.700440539037698\n",
      "('Abdomen', 'Knee', 'Ankle', 'Wrist') 0.7162452033861905\n",
      "('Abdomen', 'Knee', 'Biceps', 'Forearm') 0.7002892895783611\n",
      "('Abdomen', 'Knee', 'Biceps', 'Wrist') 0.718798303956549\n",
      "('Abdomen', 'Knee', 'Forearm', 'Wrist') 0.7163386717449084\n",
      "('Abdomen', 'Ankle', 'Biceps', 'Forearm') 0.6897946985385515\n",
      "('Abdomen', 'Ankle', 'Biceps', 'Wrist') 0.7108048435355282\n",
      "('Abdomen', 'Ankle', 'Forearm', 'Wrist') 0.7096623518895873\n",
      "('Abdomen', 'Biceps', 'Forearm', 'Wrist') 0.7101818465160874\n",
      "('Hip', 'Thigh', 'Knee', 'Ankle') 0.32578173768541274\n",
      "('Hip', 'Thigh', 'Knee', 'Biceps') 0.33954614221653956\n",
      "('Hip', 'Thigh', 'Knee', 'Forearm') 0.31742215538300533\n",
      "('Hip', 'Thigh', 'Knee', 'Wrist') 0.3182873658547377\n",
      "('Hip', 'Thigh', 'Ankle', 'Biceps') 0.3481968916468994\n",
      "('Hip', 'Thigh', 'Ankle', 'Forearm') 0.3256655518961491\n",
      "('Hip', 'Thigh', 'Ankle', 'Wrist') 0.325468938465431\n",
      "('Hip', 'Thigh', 'Biceps', 'Forearm') 0.34724058516827117\n",
      "('Hip', 'Thigh', 'Biceps', 'Wrist') 0.3476154984209803\n",
      "('Hip', 'Thigh', 'Forearm', 'Wrist') 0.3166694821358301\n",
      "('Hip', 'Knee', 'Ankle', 'Biceps') 0.3434720279996142\n",
      "('Hip', 'Knee', 'Ankle', 'Forearm') 0.325423646089699\n",
      "('Hip', 'Knee', 'Ankle', 'Wrist') 0.3252345215276058\n",
      "('Hip', 'Knee', 'Biceps', 'Forearm') 0.33950051762262434\n",
      "('Hip', 'Knee', 'Biceps', 'Wrist') 0.3362938411475862\n",
      "('Hip', 'Knee', 'Forearm', 'Wrist') 0.316216582262427\n",
      "('Hip', 'Ankle', 'Biceps', 'Forearm') 0.3461504705957722\n",
      "('Hip', 'Ankle', 'Biceps', 'Wrist') 0.3440201980294332\n",
      "('Hip', 'Ankle', 'Forearm', 'Wrist') 0.32474643120983726\n",
      "('Hip', 'Biceps', 'Forearm', 'Wrist') 0.3389004997119508\n",
      "('Thigh', 'Knee', 'Ankle', 'Biceps') 0.25453937967022533\n",
      "('Thigh', 'Knee', 'Ankle', 'Forearm') 0.2135883639860694\n",
      "('Thigh', 'Knee', 'Ankle', 'Wrist') 0.21734674267539977\n",
      "('Thigh', 'Knee', 'Biceps', 'Forearm') 0.2568282214291593\n",
      "('Thigh', 'Knee', 'Biceps', 'Wrist') 0.24998398536091548\n",
      "('Thigh', 'Knee', 'Forearm', 'Wrist') 0.2092365010528412\n",
      "('Thigh', 'Ankle', 'Biceps', 'Forearm') 0.2569763715717477\n",
      "('Thigh', 'Ankle', 'Biceps', 'Wrist') 0.25258725984729813\n",
      "('Thigh', 'Ankle', 'Forearm', 'Wrist') 0.21682100224810974\n",
      "('Thigh', 'Biceps', 'Forearm', 'Wrist') 0.25560922160292154\n",
      "('Knee', 'Ankle', 'Biceps', 'Forearm') 0.24873625975910196\n",
      "('Knee', 'Ankle', 'Biceps', 'Wrist') 0.24258019763496463\n",
      "('Knee', 'Ankle', 'Forearm', 'Wrist') 0.15614906169098763\n",
      "('Knee', 'Biceps', 'Forearm', 'Wrist') 0.24889558579091586\n",
      "('Ankle', 'Biceps', 'Forearm', 'Wrist') 0.23745116673109112\n",
      "best: ['Weight', 'Abdomen', 'Biceps', 'Wrist', 0.7586453452817197]\n"
     ]
    }
   ],
   "source": [
    "# your code here\n",
    "best_combo = ['', '', '', '', 0]\n",
    "for combo in itertools.combinations(allowed_factors, 4):\n",
    "    formula = 'Density~' + '+'.join(combo)\n",
    "    model = smf.ols(formula=formula, data=train_fat).fit()\n",
    "    print(combo, model.rsquared)\n",
    "    if model.rsquared > best_combo[4]:\n",
    "        best_combo = [combo[0], combo[1], combo[2], combo[3], model.rsquared]\n",
    "\n",
    "print('best:', best_combo)\n",
    "\n",
    "# Fit the best model\n",
    "formula = 'Density~' + '+'.join(best_combo[:4])\n",
    "train_bmi4 = smf.ols(formula=formula, data=train_fat).fit()"
   ]
  },
  {
   "cell_type": "markdown",
   "metadata": {
    "deletable": false,
    "editable": false,
    "nbgrader": {
     "cell_type": "markdown",
     "checksum": "5fb18e9e520ea2c3792c120072da73c2",
     "grade": false,
     "grade_id": "cell-a3566ec9e61c94fd",
     "locked": true,
     "schema_version": 3,
     "solution": false,
     "task": false
    }
   },
   "source": [
    "### 3h. Conduct the algorithm above for $k=5$, leaving your best solution as the answer [Peer Review]"
   ]
  },
  {
   "cell_type": "code",
   "execution_count": 40,
   "metadata": {
    "deletable": false,
    "nbgrader": {
     "cell_type": "code",
     "checksum": "23c03629d41b2b311820e860083e3946",
     "grade": false,
     "grade_id": "cell-8ce53b966f091dc0",
     "locked": false,
     "schema_version": 3,
     "solution": true,
     "task": false
    }
   },
   "outputs": [
    {
     "name": "stdout",
     "output_type": "stream",
     "text": [
      "<statsmodels.regression.linear_model.RegressionResultsWrapper object at 0x71a5ac2779d0>\n"
     ]
    }
   ],
   "source": [
    "# your code here\n",
    "best_combo = ['', '', '', '', '', 0]\n",
    "for combo in itertools.combinations(allowed_factors, 5):\n",
    "    formula = 'Density~' + '+'.join(combo)\n",
    "    model = smf.ols(formula=formula, data=train_fat).fit()\n",
    "    if model.rsquared > best_combo[5]:\n",
    "        best_combo = [combo[0], combo[1], combo[2], combo[3], combo[4], model.rsquared]\n",
    "\n",
    "\n",
    "# Fit the best model\n",
    "formula = 'Density~' + '+'.join(best_combo[:5])\n",
    "train_bmi5 = smf.ols(formula=formula, data=train_fat).fit()\n",
    "print(train_bmi5)"
   ]
  },
  {
   "cell_type": "code",
   "execution_count": 41,
   "metadata": {},
   "outputs": [
    {
     "name": "stdout",
     "output_type": "stream",
     "text": [
      "Age 0.7595234065705856\n",
      "Weight 0.7586453452817197\n",
      "Height 0.7611915781926624\n",
      "Neck 0.76032602520683\n",
      "Chest 0.7600204027067011\n",
      "Abdomen 0.7586453452817197\n",
      "Hip 0.7676364281658218\n",
      "Thigh 0.7586895378986835\n",
      "Knee 0.7589880040835745\n",
      "Ankle 0.762837184434771\n",
      "Biceps 0.7586453452817197\n",
      "Forearm 0.7586455431260068\n",
      "Wrist 0.7586453452817197\n",
      "best: ['Hip', 0.7676364281658218]\n",
      "Density~Weight+Abdomen+Biceps+Wrist+Hip\n"
     ]
    },
    {
     "data": {
      "text/plain": [
       "0.7578732528786714"
      ]
     },
     "execution_count": 41,
     "metadata": {},
     "output_type": "execute_result"
    }
   ],
   "source": [
    "best = ['',0]\n",
    "for p in allowed_factors:\n",
    "    model  = smf.ols(formula=train_bmi4.model.formula+'+'+p, data=train_fat).fit()\n",
    "    print(p, model.rsquared)\n",
    "    if model.rsquared>best[1]:\n",
    "        best = [p, model.rsquared]\n",
    "print('best:',best)   \n",
    "\n",
    "train_bmi5 = smf.ols(formula=train_bmi4.model.formula+'+'+best[0], data=train_fat).fit()\n",
    "print(train_bmi5.model.formula)\n",
    "train_bmi5.rsquared_adj"
   ]
  },
  {
   "cell_type": "markdown",
   "metadata": {
    "deletable": false,
    "editable": false,
    "nbgrader": {
     "cell_type": "markdown",
     "checksum": "dde7b8cb6ae4fcb0c2e153ab619563f4",
     "grade": false,
     "grade_id": "cell-c97e8cf99ad0752c",
     "locked": true,
     "schema_version": 3,
     "solution": false,
     "task": false
    }
   },
   "source": [
    "### 3i. Plot [5 pts]\n",
    "Plot your resulting $\\textit{adjusted}~R^2$ *vs* number of predictors (k=1,2,3,4,5) and overlay the $\\textit{adjusted}~R^2$ for the test data. Call the list of the five adjusted r-squared values from the five train_bmi# models as `adjr2_train` and the one from the test data as `adjr2_test`."
   ]
  },
  {
   "cell_type": "code",
   "execution_count": 71,
   "metadata": {
    "deletable": false,
    "nbgrader": {
     "cell_type": "code",
     "checksum": "828928fc6a49f4d0ce213624709fc37b",
     "grade": false,
     "grade_id": "cell-5a4df8b7ac835693",
     "locked": false,
     "schema_version": 3,
     "solution": true,
     "task": false
    }
   },
   "outputs": [
    {
     "data": {
      "image/png": "[encoded data removed]",
      "text/plain": [
       "<Figure size 432x288 with 1 Axes>"
      ]
     },
     "metadata": {},
     "output_type": "display_data"
    }
   ],
   "source": [
    "# plot resulting adjusted rsquared vs number of predictors (k=1,2,3,4,5)\n",
    "# overlay the adjusted rsquared for the test data \n",
    "# your code here\n",
    "from sklearn.metrics import r2_score\n",
    "adjr2_train = []\n",
    "adjr2_test = []\n",
    "\n",
    "# List to store the best model for each value of k\n",
    "best_models = [train_bmi1, train_bmi2, train_bmi3, train_bmi4, train_bmi5]\n",
    "\n",
    "# Loop over each model and calculate adjusted R-squared for both training and test datasets\n",
    "for model in best_models:\n",
    "    # Calculate adjusted R-squared for training dataset\n",
    "    adjr2_train.append(model.rsquared_adj)\n",
    "    \n",
    "    # Calculate adjusted R-squared for test dataset\n",
    "    X_test = test_fat[model.model.exog_names[1:]]  # Exclude intercept term from predictors\n",
    "    y_test = test_fat['Density']\n",
    "    y_test_pred = model.predict(X_test)\n",
    "    adj_r2_test = r2_score(y_test, y_test_pred)\n",
    "    adjr2_test.append(adj_r2_test)\n",
    "\n",
    "# Plot adjusted R-squared vs number of predictors\n",
    "plt.plot(np.arange(1, 6), adjr2_train, marker='o', label='Training Data')\n",
    "plt.plot(np.arange(1, 6), adjr2_test, marker='o', label='Test Data')\n",
    "plt.xlabel('Number of Predictors (k)')\n",
    "plt.ylabel('Adjusted R-squared')\n",
    "plt.title('Adjusted R-squared vs Number of Predictors')\n",
    "plt.legend()\n",
    "plt.grid(True)\n",
    "plt.show()"
   ]
  },
  {
   "cell_type": "code",
   "execution_count": null,
   "metadata": {
    "deletable": false,
    "editable": false,
    "nbgrader": {
     "cell_type": "code",
     "checksum": "9e4f0833530cd9432de6b26938a3585a",
     "grade": true,
     "grade_id": "cell-ee76423a1d5d1bc2",
     "locked": true,
     "points": 5,
     "schema_version": 3,
     "solution": false,
     "task": false
    }
   },
   "outputs": [],
   "source": [
    "# tests adjusted r-squared plot vs. number of factors "
   ]
  },
  {
   "cell_type": "markdown",
   "metadata": {
    "deletable": false,
    "editable": false,
    "nbgrader": {
     "cell_type": "markdown",
     "checksum": "9f44fec7c036f10bc7c2ef8c7ccf9a8e",
     "grade": false,
     "grade_id": "cell-ba314ee660e30e67",
     "locked": true,
     "schema_version": 3,
     "solution": false,
     "task": false
    }
   },
   "source": [
    "### 3j. Discussion [Peer Review]\n",
    "The BMI model has the benefit being simple (two measurements, height and wright). Looking at your resulting regression model, how many parameters would you suggest to use for your enhanced BMI model? Justify your answer using your models. Submit your answer with this week's Peer Review assignment. "
   ]
  }
 ],
 "metadata": {
  "kernelspec": {
   "display_name": "Python 3",
   "language": "python",
   "name": "python3"
  },
  "language_info": {
   "codemirror_mode": {
    "name": "ipython",
    "version": 3
   },
   "file_extension": ".py",
   "mimetype": "text/x-python",
   "name": "python",
   "nbconvert_exporter": "python",
   "pygments_lexer": "ipython3",
   "version": "3.7.6"
  }
 },
 "nbformat": 4,
 "nbformat_minor": 4
}
